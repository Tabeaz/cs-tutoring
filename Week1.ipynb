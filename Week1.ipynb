{
  "nbformat": 4,
  "nbformat_minor": 0,
  "metadata": {
    "colab": {
      "name": "tutoring1.ipynb",
      "provenance": [],
      "collapsed_sections": [
        "qOCP9dALFh2u",
        "xjFV-AXIIPOB"
      ],
      "authorship_tag": "ABX9TyMOL2LfoPCepqgHW5HuLic+",
      "include_colab_link": true
    },
    "kernelspec": {
      "name": "python3",
      "display_name": "Python 3"
    }
  },
  "cells": [
    {
      "cell_type": "markdown",
      "metadata": {
        "id": "view-in-github",
        "colab_type": "text"
      },
      "source": [
        "<a href=\"https://colab.research.google.com/github/janick187/cs-tutoring/blob/master/Week1.ipynb\" target=\"_parent\"><img src=\"https://colab.research.google.com/assets/colab-badge.svg\" alt=\"Open In Colab\"/></a>"
      ]
    },
    {
      "cell_type": "markdown",
      "metadata": {
        "id": "L1fVTVCYEXOM"
      },
      "source": [
        "\n",
        "# FCS Tutoring Session 1\n",
        "\n",
        "Today we are learning some basic principles of programming that are essential in order to be able to solve the upcoming assignments. So let's get started :)\n",
        "\n"
      ]
    },
    {
      "cell_type": "markdown",
      "metadata": {
        "id": "fM0rupFRFec7"
      },
      "source": [
        "## Programming basics"
      ]
    },
    {
      "cell_type": "markdown",
      "metadata": {
        "id": "qOCP9dALFh2u"
      },
      "source": [
        "### Variables\n",
        "\n",
        "In a variable we can store a piece of data so that we can reuse this data later on in our code. Think about you are in the dessert and it rains only once a week. To be able to capture the rain you need to have a basket or something similar. It is the same with data, I need to store data in variables and, of course, in databases.\n",
        "\n",
        "A variabe has three attributes:\n",
        "\n",
        "*  Name\n",
        "*  Datatype\n",
        "*  Stored data\n",
        "\n",
        "Let's do an example."
      ]
    },
    {
      "cell_type": "code",
      "metadata": {
        "id": "DW0ujP37E0oe"
      },
      "source": [
        "variable1 = \"janick\""
      ],
      "execution_count": null,
      "outputs": []
    },
    {
      "cell_type": "markdown",
      "metadata": {
        "id": "LSw4B5bpGyHJ"
      },
      "source": [
        "Here the name of the variable is variable1, it's datatype is a String because we store a name / word in the variable which obviously is a String."
      ]
    },
    {
      "cell_type": "code",
      "metadata": {
        "id": "-mI8baFTGoLa"
      },
      "source": [
        "ILoveApplesMoreThanBananas = True"
      ],
      "execution_count": null,
      "outputs": []
    },
    {
      "cell_type": "markdown",
      "metadata": {
        "id": "D0s4WqomHJXu"
      },
      "source": [
        "Here the name of the variable is ILoveApplesMoreThanBananas, it's datatype is a Boolean because we store binary state option (True or False, 1 or 0) in the variable. So the varibale tells us whether we like apples more than bananas, which in this case is true."
      ]
    },
    {
      "cell_type": "code",
      "metadata": {
        "id": "pn9wKZk0GuY-"
      },
      "source": [
        "MyAge = 24"
      ],
      "execution_count": null,
      "outputs": []
    },
    {
      "cell_type": "markdown",
      "metadata": {
        "id": "tJ6JDI4ZHclv"
      },
      "source": [
        "Here the name of the variable is MyAge, it's datatype is an Integer because we store while number (24) in the variable."
      ]
    },
    {
      "cell_type": "markdown",
      "metadata": {
        "id": "SlRzW_FIHmAO"
      },
      "source": [
        "Obviously there are many more datatypes than just String, Boolean and Integer because in the real world we encounter infromation in many different representations. Therefore, we need flexibility to abstract thes information in software programs accordingly. \n",
        "\n",
        "Head over to https://fcs-overview.herokuapp.com/ for an overview of the datatypes that you should understand at the end of the semester.\n"
      ]
    },
    {
      "cell_type": "markdown",
      "metadata": {
        "id": "xjFV-AXIIPOB"
      },
      "source": [
        "### Functions"
      ]
    },
    {
      "cell_type": "markdown",
      "metadata": {
        "id": "WCEbcGE_IUea"
      },
      "source": [
        "What if I want to reuse the same piece of code multiple times? For example, if I want to calculate the age of 100 users given their date of birth, do I have to copy-pase the same code 100 times? Of course not, here we can use functions instead. \n",
        "\n",
        "The code inside a function makes it possible to reuse this code indfinitely and flexibly. A function consits of (usually) four parts:\n",
        "\n",
        "\n",
        "*   Function header (including the parameters)\n",
        "*   Function body (the code to execute\n",
        "*   Return statement (optional)\n",
        "\n",
        "Think of a function using this analogy:\n",
        "\n",
        "\n",
        "![zylix.jpg](data:image/jpeg;base64,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)"
      ]
    },
    {
      "cell_type": "code",
      "metadata": {
        "colab": {
          "base_uri": "https://localhost:8080/"
        },
        "id": "bPS36SP2Gxnh",
        "outputId": "f55b26c9-7be8-43d1-f65a-f1a8c60352c2"
      },
      "source": [
        "from datetime import datetime, date\n",
        "\n",
        "def calculateAge(birthday):\n",
        "    d1 = datetime.combine(date.today(), datetime.min.time())\n",
        "    d2 = datetime.strptime(birthday, \"%Y-%m-%d\")\n",
        "    return int(round(abs(d1-d2).days / 365 - 1, 0))\n",
        "\n",
        "print(\"Your age is {}\".format(calculateAge(\"1997-2-25\")))\n",
        "print(\"Your age is {}\".format(calculateAge(\"1995-1-23\")))\n",
        "print(\"Your age is {}\".format(calculateAge(\"1960-1-10\")))"
      ],
      "execution_count": null,
      "outputs": [
        {
          "output_type": "stream",
          "text": [
            "Your age is 23\n",
            "Your age is 25\n",
            "Your age is 60\n"
          ],
          "name": "stdout"
        }
      ]
    },
    {
      "cell_type": "markdown",
      "metadata": {
        "id": "ZJuXpcLPMTJR"
      },
      "source": [
        "Our function header consists of the *keyword* **def** (so that python knows that a function is coming), the *functionname* **calculateAge** and the *parameter* **birthday** as we need a date of birth to calucalte the current age. \n",
        "\n",
        "In the function body we then calucalte the current age of this person. For the moment, we will not go into greater detail here. \n",
        "The **return** keyword is indicating that the function is giving us back something (*calculated age*)."
      ]
    },
    {
      "cell_type": "markdown",
      "metadata": {
        "id": "i9WxnMl-E1tK"
      },
      "source": [
        "## Flipper machine\n",
        "\n",
        "Our goal today is to implement a flipper mahcine with which a user can play with the benefit that he does not have to invest any real money ;-)\n",
        "\n",
        "Concretely\n"
      ]
    }
  ]
}