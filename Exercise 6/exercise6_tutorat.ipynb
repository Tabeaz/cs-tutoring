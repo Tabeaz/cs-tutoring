{
  "nbformat": 4,
  "nbformat_minor": 0,
  "metadata": {
    "celltoolbar": "Edit Metadata",
    "kernelspec": {
      "display_name": "Python 3",
      "language": "python",
      "name": "python3"
    },
    "language_info": {
      "codemirror_mode": {
        "name": "ipython",
        "version": 3
      },
      "file_extension": ".py",
      "mimetype": "text/x-python",
      "name": "python",
      "nbconvert_exporter": "python",
      "pygments_lexer": "ipython3",
      "version": "3.7.4"
    },
    "colab": {
      "name": "exercise6_tutorat.ipynb",
      "provenance": [],
      "collapsed_sections": []
    },
    "pycharm": {
      "stem_cell": {
        "cell_type": "raw",
        "source": [],
        "metadata": {
          "collapsed": false
        }
      }
    }
  },
  "cells": [
    {
      "cell_type": "code",
      "metadata": {
        "deletable": false,
        "editable": false,
        "id": "1W79kGo7j2mB",
        "colab_type": "code",
        "outputId": "4eca25ce-ecb9-4f17-aac4-d370f9f6f06e",
        "colab": {
          "base_uri": "https://localhost:8080/",
          "height": 1000
        }
      },
      "source": [
        "from IPython import get_ipython\n",
        "!jupyter nbconvert --to script assignment6_template.ipynb"
      ],
      "execution_count": 9,
      "outputs": [
        {
          "output_type": "stream",
          "text": [
            "[NbConvertApp] WARNING | pattern u'assignment6_template.ipynb' matched no files\n",
            "This application is used to convert notebook files (*.ipynb) to various other\n",
            "formats.\n",
            "\n",
            "WARNING: THE COMMANDLINE INTERFACE MAY CHANGE IN FUTURE RELEASES.\n",
            "\n",
            "Options\n",
            "-------\n",
            "\n",
            "Arguments that take values are actually convenience aliases to full\n",
            "Configurables, whose aliases are listed on the help line. For more information\n",
            "on full configurables, see '--help-all'.\n",
            "\n",
            "--execute\n",
            "    Execute the notebook prior to export.\n",
            "--allow-errors\n",
            "    Continue notebook execution even if one of the cells throws an error and include the error message in the cell output (the default behaviour is to abort conversion). This flag is only relevant if '--execute' was specified, too.\n",
            "--no-input\n",
            "    Exclude input cells and output prompts from converted document. \n",
            "    This mode is ideal for generating code-free reports.\n",
            "--stdout\n",
            "    Write notebook output to stdout instead of files.\n",
            "--stdin\n",
            "    read a single notebook file from stdin. Write the resulting notebook with default basename 'notebook.*'\n",
            "--inplace\n",
            "    Run nbconvert in place, overwriting the existing notebook (only \n",
            "    relevant when converting to notebook format)\n",
            "-y\n",
            "    Answer yes to any questions instead of prompting.\n",
            "--clear-output\n",
            "    Clear output of current file and save in place, \n",
            "    overwriting the existing notebook.\n",
            "--debug\n",
            "    set log level to logging.DEBUG (maximize logging output)\n",
            "--no-prompt\n",
            "    Exclude input and output prompts from converted document.\n",
            "--generate-config\n",
            "    generate default config file\n",
            "--nbformat=<Enum> (NotebookExporter.nbformat_version)\n",
            "    Default: 4\n",
            "    Choices: [1, 2, 3, 4]\n",
            "    The nbformat version to write. Use this to downgrade notebooks.\n",
            "--output-dir=<Unicode> (FilesWriter.build_directory)\n",
            "    Default: ''\n",
            "    Directory to write output(s) to. Defaults to output to the directory of each\n",
            "    notebook. To recover previous default behaviour (outputting to the current\n",
            "    working directory) use . as the flag value.\n",
            "--writer=<DottedObjectName> (NbConvertApp.writer_class)\n",
            "    Default: 'FilesWriter'\n",
            "    Writer class used to write the  results of the conversion\n",
            "--log-level=<Enum> (Application.log_level)\n",
            "    Default: 30\n",
            "    Choices: (0, 10, 20, 30, 40, 50, 'DEBUG', 'INFO', 'WARN', 'ERROR', 'CRITICAL')\n",
            "    Set the log level by value or name.\n",
            "--reveal-prefix=<Unicode> (SlidesExporter.reveal_url_prefix)\n",
            "    Default: u''\n",
            "    The URL prefix for reveal.js (version 3.x). This defaults to the reveal CDN,\n",
            "    but can be any url pointing to a copy  of reveal.js.\n",
            "    For speaker notes to work, this must be a relative path to a local  copy of\n",
            "    reveal.js: e.g., \"reveal.js\".\n",
            "    If a relative path is given, it must be a subdirectory of the current\n",
            "    directory (from which the server is run).\n",
            "    See the usage documentation\n",
            "    (https://nbconvert.readthedocs.io/en/latest/usage.html#reveal-js-html-\n",
            "    slideshow) for more details.\n",
            "--to=<Unicode> (NbConvertApp.export_format)\n",
            "    Default: 'html'\n",
            "    The export format to be used, either one of the built-in formats\n",
            "    ['asciidoc', 'custom', 'html', 'latex', 'markdown', 'notebook', 'pdf',\n",
            "    'python', 'rst', 'script', 'slides'] or a dotted object name that represents\n",
            "    the import path for an `Exporter` class\n",
            "--template=<Unicode> (TemplateExporter.template_file)\n",
            "    Default: u''\n",
            "    Name of the template file to use\n",
            "--output=<Unicode> (NbConvertApp.output_base)\n",
            "    Default: ''\n",
            "    overwrite base name use for output files. can only be used when converting\n",
            "    one notebook at a time.\n",
            "--post=<DottedOrNone> (NbConvertApp.postprocessor_class)\n",
            "    Default: u''\n",
            "    PostProcessor class used to write the results of the conversion\n",
            "--config=<Unicode> (JupyterApp.config_file)\n",
            "    Default: u''\n",
            "    Full path of a config file.\n",
            "\n",
            "To see all available configurables, use `--help-all`\n",
            "\n",
            "Examples\n",
            "--------\n",
            "\n",
            "    The simplest way to use nbconvert is\n",
            "    \n",
            "    > jupyter nbconvert mynotebook.ipynb\n",
            "    \n",
            "    which will convert mynotebook.ipynb to the default format (probably HTML).\n",
            "    \n",
            "    You can specify the export format with `--to`.\n",
            "    Options include ['asciidoc', 'custom', 'html', 'latex', 'markdown', 'notebook', 'pdf', 'python', 'rst', 'script', 'slides'].\n",
            "    \n",
            "    > jupyter nbconvert --to latex mynotebook.ipynb\n",
            "    \n",
            "    Both HTML and LaTeX support multiple output templates. LaTeX includes\n",
            "    'base', 'article' and 'report'.  HTML includes 'basic' and 'full'. You\n",
            "    can specify the flavor of the format used.\n",
            "    \n",
            "    > jupyter nbconvert --to html --template basic mynotebook.ipynb\n",
            "    \n",
            "    You can also pipe the output to stdout, rather than a file\n",
            "    \n",
            "    > jupyter nbconvert mynotebook.ipynb --stdout\n",
            "    \n",
            "    PDF is generated via latex\n",
            "    \n",
            "    > jupyter nbconvert mynotebook.ipynb --to pdf\n",
            "    \n",
            "    You can get (and serve) a Reveal.js-powered slideshow\n",
            "    \n",
            "    > jupyter nbconvert myslides.ipynb --to slides --post serve\n",
            "    \n",
            "    Multiple notebooks can be given at the command line in a couple of \n",
            "    different ways:\n",
            "    \n",
            "    > jupyter nbconvert notebook*.ipynb\n",
            "    > jupyter nbconvert notebook1.ipynb notebook2.ipynb\n",
            "    \n",
            "    or you can specify the notebooks list in a config file, containing::\n",
            "    \n",
            "        c.NbConvertApp.notebooks = [\"my_notebook.ipynb\"]\n",
            "    \n",
            "    > jupyter nbconvert --config mycfg.py\n",
            "\n"
          ],
          "name": "stdout"
        }
      ]
    },
    {
      "cell_type": "code",
      "metadata": {
        "deletable": false,
        "editable": false,
        "id": "h0WS-Kl-j2mC",
        "colab_type": "code",
        "colab": {}
      },
      "source": [
        "import os\n",
        "from functools import reduce\n",
        "\n",
        "import numpy as np\n",
        "import pandas as pd\n",
        "\n",
        "import matplotlib.pyplot as plt\n",
        "from pandas.util.testing import assert_frame_equal"
      ],
      "execution_count": 0,
      "outputs": []
    },
    {
      "cell_type": "code",
      "metadata": {
        "pycharm": {
          "is_executing": false
        },
        "id": "jwXR0uhsj2mE",
        "colab_type": "code",
        "colab": {}
      },
      "source": [
        "class Student(object):\n",
        "    def __init__(self, name, avg_mark, second_try):\n",
        "        \"\"\"\n",
        "        :param name: The name of the student, a string.\n",
        "        :param captured: The captivity status, a boolean.\n",
        "        :param avg_mark: The average mark of the student from all exams.\n",
        "        :param second_Try: The second_try status (True if a student is in his/her second attempt), a boolean.\n",
        "        \"\"\"\n",
        "        self.name = name\n",
        "        self.avg_mark = avg_mark\n",
        "        self.second_try = second_try\n",
        "        \n",
        "    def __str__(self):\n",
        "        return \"Student: {}, Average Mark: {}, Second Try: {}\".format(self.name, self.avg_mark, self.second_try)\n",
        "\n",
        "    # Implement a method which returns the status of the student second attempt\n",
        "    # HINT: Use rich-comparison method: https://docs.python.org/3/reference/datamodel.html#special-method-names\n",
        "\n",
        "    # your code here\n",
        "\n",
        "    # Implement all other rich-comparison methods so that it is possible\n",
        "    # to sort the student objects in ascending order based on their average mark using the built in sorted() function \n",
        "    # REMEMBER: Python does not know based on which criteria it should compare two custom data types, \n",
        "    # with integers only we could easily use the sorted() function because Python knows that 5 is bigger that 3 and 2 is smaller than 6 etc.\n",
        "\n",
        "    '''\n",
        "    HINT: If you have implemented the six methods correctly, the following should be possible:\n",
        "    student1 < student2\n",
        "    student1 <= student2\n",
        "    student1 == student2\n",
        "    student1 != student2\n",
        "    student1 > student2\n",
        "    student1 >= student2\n",
        "    '''\n",
        "\n",
        "    # your code here\n"
      ],
      "execution_count": 0,
      "outputs": []
    },
    {
      "cell_type": "code",
      "metadata": {
        "deletable": false,
        "editable": false,
        "id": "DnrSNmRUj2mG",
        "colab_type": "code",
        "colab": {}
      },
      "source": [
        "students = [\n",
        "    Student(\"Jack\", 3.5,False),\n",
        "    Student(\"Jacob\", 3.3,True),\n",
        "    Student(\"Melanie\", 4.2, False),\n",
        "    Student(\"Dagoberth\", 5.4, True),\n",
        "    Student(\"Laura\", 5.8,False),\n",
        "    Student(\"Rosa\", 4.4, False)\n",
        "]"
      ],
      "execution_count": 0,
      "outputs": []
    },
    {
      "cell_type": "code",
      "metadata": {
        "deletable": false,
        "editable": false,
        "id": "fAFo_gI-j2mI",
        "colab_type": "code",
        "colab": {}
      },
      "source": [
        "def get_lowperformers(students):\n",
        "    \"\"\"\n",
        "    :print the students doing their second attempt\n",
        "    \"\"\"\n",
        "    print(\"\\n\".join([str(x) for x in students if x]))"
      ],
      "execution_count": 0,
      "outputs": []
    },
    {
      "cell_type": "code",
      "metadata": {
        "deletable": false,
        "editable": false,
        "id": "NA3Kf8wbj2mM",
        "colab_type": "code",
        "colab": {}
      },
      "source": [
        "def students_by_avgmark(students):\n",
        "    \"\"\"\n",
        "    :print the students sorted by their average mark (ascending).\n",
        "    \"\"\"\n",
        "    print (\"\\n\".join([str(x) for x in sorted(students)]))"
      ],
      "execution_count": 0,
      "outputs": []
    },
    {
      "cell_type": "code",
      "metadata": {
        "id": "beEsuVGdj2mP",
        "colab_type": "code",
        "colab": {}
      },
      "source": [
        "def clean(unclean):\n",
        "    '''\n",
        "    \"Cleans\" the unclean list.\n",
        "    You need to return a list containing all the numbers in unclean.\n",
        "\n",
        "    :param unclean: A list containing integers and strings.\n",
        "    :return: A new list containing only the integers in unclean .\n",
        "    '''\n",
        "    \n",
        "    # your code here using a normal for-loop\n"
      ],
      "execution_count": 0,
      "outputs": []
    },
    {
      "cell_type": "code",
      "metadata": {
        "id": "Go9gJRV-bwMY",
        "colab_type": "code",
        "colab": {}
      },
      "source": [
        "def clean_efficient(unclean):\n",
        "    \"\"\"\n",
        "    \"Cleans\" the unclean list.\n",
        "    You need to return a list containing all the numbers in unclean by using a list comprehension.\n",
        "\n",
        "    --> Implement this method in ONE line. <--\n",
        "    Use list comprehensions for this task: https://docs.python.org/3/tutorial/datastructures.html#list-comprehensions\n",
        "\n",
        "    :param unclean: A list containing integers and strings.\n",
        "    :return: A new list containing only the integers in unclean .\n",
        "    \"\"\"\n",
        "  \n",
        "    # your code here using an efficent list comprehension\n",
        "    "
      ],
      "execution_count": 0,
      "outputs": []
    },
    {
      "cell_type": "code",
      "metadata": {
        "id": "DVFo942Qj2mR",
        "colab_type": "code",
        "outputId": "866786b7-44d4-4be7-f775-ae56dd18f86d",
        "colab": {
          "base_uri": "https://localhost:8080/",
          "height": 52
        }
      },
      "source": [
        "unclean = [1, 3, \"Apple\", 4, \"Banana\", 5, \"Nuts\", 99]\n",
        "print(clean(unclean))\n",
        "print(clean_efficient(unclean))"
      ],
      "execution_count": 17,
      "outputs": [
        {
          "output_type": "stream",
          "text": [
            "None\n",
            "None\n"
          ],
          "name": "stdout"
        }
      ]
    },
    {
      "cell_type": "code",
      "metadata": {
        "id": "dhanq83Nc5AH",
        "colab_type": "code",
        "colab": {}
      },
      "source": [
        "def sum_fines(fines):\n",
        "    \"\"\"\n",
        "    Calculates how much the total car fines of all fines.\n",
        "\n",
        "    :return: The total amount of the fines\n",
        "    \"\"\"\n",
        "    # your code here \n"
      ],
      "execution_count": 0,
      "outputs": []
    },
    {
      "cell_type": "code",
      "metadata": {
        "id": "O7PL98oqj2mX",
        "colab_type": "code",
        "colab": {}
      },
      "source": [
        "def sum_fines_efficient(fines):\n",
        "    \"\"\"\n",
        "    Calculates how much the total car fines of all fines is using the reduce() function: https://docs.python.org/3/library/functools.html#functools.reduce\n",
        "\n",
        "    :return: The total amount of the fines\n",
        "    \"\"\"\n",
        "    # your code here \n",
        "\n"
      ],
      "execution_count": 0,
      "outputs": []
    },
    {
      "cell_type": "code",
      "metadata": {
        "id": "gsoVAmnbj2mY",
        "colab_type": "code",
        "outputId": "4dbcdcaa-562e-4aa6-95ad-2ee9dd30b051",
        "colab": {
          "base_uri": "https://localhost:8080/",
          "height": 52
        }
      },
      "source": [
        "fines = [100, 200, 125.30, 250, 895, 345.90]\n",
        "print(sum_fines(fines))\n",
        "print(sum_fines_efficient(fines))"
      ],
      "execution_count": 20,
      "outputs": [
        {
          "output_type": "stream",
          "text": [
            "None\n",
            "None\n"
          ],
          "name": "stdout"
        }
      ]
    },
    {
      "cell_type": "code",
      "metadata": {
        "id": "dRwVleXedkKe",
        "colab_type": "code",
        "colab": {}
      },
      "source": [
        "def convert2float(l):\n",
        "    \"\"\"\n",
        "    Converts a list of strings to a tuple of integers\n",
        "\n",
        "    :param l: An lost of strings with each string-content representing a number (e.g. \"5\").\n",
        "    :return: A tuple containing the values of l as integers\n",
        "    \"\"\"\n",
        "    \n",
        "    # your code here\n"
      ],
      "execution_count": 0,
      "outputs": []
    },
    {
      "cell_type": "code",
      "metadata": {
        "id": "Kp_wtAO2j2ma",
        "colab_type": "code",
        "colab": {}
      },
      "source": [
        "def convert2float_efficient(l):\n",
        "    \"\"\"\n",
        "    Converts a list of strings to a tuple of integers using the map() function: https://docs.python.org/3/library/functions.html#map\n",
        "\n",
        "    :param l: An list of strings with each string-content representing a number (e.g. \"5\").\n",
        "    :return: A tuple containing the values of l as integers\n",
        "    \"\"\"\n",
        "    \n",
        "    # your code here\n"
      ],
      "execution_count": 0,
      "outputs": []
    },
    {
      "cell_type": "code",
      "metadata": {
        "id": "CpDRbSfAj2mb",
        "colab_type": "code",
        "outputId": "eb31caff-7a3d-407d-acde-dade832ec455",
        "colab": {
          "base_uri": "https://localhost:8080/",
          "height": 52
        }
      },
      "source": [
        "string = [\"1\", \"2\", \"3\"]\n",
        "print(convert2float(string))\n",
        "print(convert2float_efficient(string))"
      ],
      "execution_count": 23,
      "outputs": [
        {
          "output_type": "stream",
          "text": [
            "None\n",
            "None\n"
          ],
          "name": "stdout"
        }
      ]
    },
    {
      "cell_type": "code",
      "metadata": {
        "id": "G0WkPzPzj2md",
        "colab_type": "code",
        "colab": {}
      },
      "source": [
        "def load_studentdata_txt():\n",
        "    \"\"\"\n",
        "    Loads some random student data from a text file.\n",
        "\n",
        "    Store the data in a pandas DataFrame: https://pandas.pydata.org/pandas-docs/stable/reference/api/pandas.DataFrame.html\n",
        "    The DataFrame must have three columns: \"name\", \"avgmark\" and \"gender\". Each reacord in the dataframe should represent a student.\n",
        "    \n",
        "    Consider that the values in the text-file are seperated by a space \" \".\n",
        "    Therefore, after you loaded the data from the text file you still need to do some work before you can represent the data using a dataframe.\n",
        "\n",
        "    :return: A DataFrame containing the student data.\n",
        "    \"\"\"\n",
        "\n",
        "    # your code here\n",
        "    "
      ],
      "execution_count": 0,
      "outputs": []
    },
    {
      "cell_type": "code",
      "metadata": {
        "id": "WgPsMY8Vr7fU",
        "colab_type": "code",
        "colab": {}
      },
      "source": [
        "df = load_studentdata_txt()\n",
        "\n",
        "# try to print the second record of the dataframe using first iloc[] and then loc[]. What is the difference?\n",
        "# HINT: to see the difference clearly we first must re-index our dataframe\n",
        "\n",
        "# now reset the index of the dataframe\n",
        "\n",
        "# how can we access the second and fourth record?\n"
      ],
      "execution_count": 0,
      "outputs": []
    },
    {
      "cell_type": "code",
      "metadata": {
        "id": "WsOn0GSQj2mg",
        "colab_type": "code",
        "colab": {}
      },
      "source": [
        "def clean_data(df):\n",
        "    \"\"\"\n",
        "\n",
        "    You need to clean the data in this method so that the data can be used for analysis.\n",
        "    \n",
        "    Now the values in column \"Gender\" are either \"Male\" or \"Female\".\n",
        "    However, we want to proceed with the abbreviation for the gender. So the value in Gender column should equal to \"m\" or \"f\". Clean the data.\n",
        "\n",
        "    Also, the values in clumn average mark are Strings. Convert these strings to float values.\n",
        "\n",
        "    Do the clean up for \"Gender\" through iterating over all rows.\n",
        "    Do the clean up for \"Avg Mark\" using astype(): https://datatofish.com/convert-string-to-float-dataframe/\n",
        "\n",
        "    :param df: The DataFrame containing the student data.\n",
        "    :return: A DataFrame with the fixed gender values.\n",
        "    \"\"\"\n",
        "  \n",
        "    # your code here\n",
        "    "
      ],
      "execution_count": 0,
      "outputs": []
    },
    {
      "cell_type": "code",
      "metadata": {
        "id": "oHXuxnjLr22w",
        "colab_type": "code",
        "colab": {}
      },
      "source": [
        "df = load_studentdata_txt()\n",
        "\n",
        "# data in csv format can be read much easier\n",
        "# df = pd.read_csv(\"student_data.csv\")\n",
        "\n",
        "clean_df = clean_data(df)\n"
      ],
      "execution_count": 0,
      "outputs": []
    },
    {
      "cell_type": "code",
      "metadata": {
        "id": "4vhdK_VQj2ml",
        "colab_type": "code",
        "colab": {}
      },
      "source": [
        "def student_data(percentile, df):\n",
        "    \"\"\"\n",
        "    Plots the data of the students whose average mark is in the lower percentile, for a given percentile.\n",
        "\n",
        "    Calculate first the specified quantile for the \"avgmark\" column.\n",
        "    HINT: There is a function in pandas you can use for this.\n",
        "\n",
        "    Example: 0.1 would indicate the 10% percentile. This is the value for \"Average Mark\" for which 10% of the\n",
        "    students are below the rest, i.e. the 10% biggest low-performers.\n",
        "\n",
        "    Then, select all students in the dataframe which are below the percentile value and plot their average marks as a bar chart.\n",
        "\n",
        "    Additionally:\n",
        "        - use the student name for the x-axis\n",
        "        - rotate the Name so it is readable from left to right (the default will be from bottom to top)\n",
        "        - set the figure size to be 1000x700 pixels\n",
        "\n",
        "    :param percentile: The percentile.\n",
        "    :param df: A dataframe containing the student data.\n",
        "    \"\"\"\n",
        "    # your code here\n",
        "    "
      ],
      "execution_count": 0,
      "outputs": []
    },
    {
      "cell_type": "code",
      "metadata": {
        "id": "slcjIWpzj2mo",
        "colab_type": "code",
        "colab": {}
      },
      "source": [
        "student_data(0.1, clean_df)"
      ],
      "execution_count": 0,
      "outputs": []
    }
  ]
}