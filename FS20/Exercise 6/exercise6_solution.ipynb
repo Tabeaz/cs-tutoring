{
  "nbformat": 4,
  "nbformat_minor": 0,
  "metadata": {
    "celltoolbar": "Edit Metadata",
    "kernelspec": {
      "display_name": "Python 3",
      "language": "python",
      "name": "python3"
    },
    "language_info": {
      "codemirror_mode": {
        "name": "ipython",
        "version": 3
      },
      "file_extension": ".py",
      "mimetype": "text/x-python",
      "name": "python",
      "nbconvert_exporter": "python",
      "pygments_lexer": "ipython3",
      "version": "3.7.4"
    },
    "colab": {
      "name": "tutorat_week9_solution.ipynb",
      "provenance": [],
      "collapsed_sections": []
    },
    "pycharm": {
      "stem_cell": {
        "cell_type": "raw",
        "source": [],
        "metadata": {
          "collapsed": false
        }
      }
    }
  },
  "cells": [
    {
      "cell_type": "code",
      "metadata": {
        "deletable": false,
        "editable": false,
        "id": "1W79kGo7j2mB",
        "colab_type": "code",
        "outputId": "00e794e7-49e3-4c0b-8b91-1a57afb50bc6",
        "colab": {
          "base_uri": "https://localhost:8080/",
          "height": 1000
        }
      },
      "source": [
        "from IPython import get_ipython\n",
        "!jupyter nbconvert --to script assignment6_template.ipynb"
      ],
      "execution_count": 10,
      "outputs": [
        {
          "output_type": "stream",
          "text": [
            "[NbConvertApp] WARNING | pattern u'assignment6_template.ipynb' matched no files\n",
            "This application is used to convert notebook files (*.ipynb) to various other\n",
            "formats.\n",
            "\n",
            "WARNING: THE COMMANDLINE INTERFACE MAY CHANGE IN FUTURE RELEASES.\n",
            "\n",
            "Options\n",
            "-------\n",
            "\n",
            "Arguments that take values are actually convenience aliases to full\n",
            "Configurables, whose aliases are listed on the help line. For more information\n",
            "on full configurables, see '--help-all'.\n",
            "\n",
            "--execute\n",
            "    Execute the notebook prior to export.\n",
            "--allow-errors\n",
            "    Continue notebook execution even if one of the cells throws an error and include the error message in the cell output (the default behaviour is to abort conversion). This flag is only relevant if '--execute' was specified, too.\n",
            "--no-input\n",
            "    Exclude input cells and output prompts from converted document. \n",
            "    This mode is ideal for generating code-free reports.\n",
            "--stdout\n",
            "    Write notebook output to stdout instead of files.\n",
            "--stdin\n",
            "    read a single notebook file from stdin. Write the resulting notebook with default basename 'notebook.*'\n",
            "--inplace\n",
            "    Run nbconvert in place, overwriting the existing notebook (only \n",
            "    relevant when converting to notebook format)\n",
            "-y\n",
            "    Answer yes to any questions instead of prompting.\n",
            "--clear-output\n",
            "    Clear output of current file and save in place, \n",
            "    overwriting the existing notebook.\n",
            "--debug\n",
            "    set log level to logging.DEBUG (maximize logging output)\n",
            "--no-prompt\n",
            "    Exclude input and output prompts from converted document.\n",
            "--generate-config\n",
            "    generate default config file\n",
            "--nbformat=<Enum> (NotebookExporter.nbformat_version)\n",
            "    Default: 4\n",
            "    Choices: [1, 2, 3, 4]\n",
            "    The nbformat version to write. Use this to downgrade notebooks.\n",
            "--output-dir=<Unicode> (FilesWriter.build_directory)\n",
            "    Default: ''\n",
            "    Directory to write output(s) to. Defaults to output to the directory of each\n",
            "    notebook. To recover previous default behaviour (outputting to the current\n",
            "    working directory) use . as the flag value.\n",
            "--writer=<DottedObjectName> (NbConvertApp.writer_class)\n",
            "    Default: 'FilesWriter'\n",
            "    Writer class used to write the  results of the conversion\n",
            "--log-level=<Enum> (Application.log_level)\n",
            "    Default: 30\n",
            "    Choices: (0, 10, 20, 30, 40, 50, 'DEBUG', 'INFO', 'WARN', 'ERROR', 'CRITICAL')\n",
            "    Set the log level by value or name.\n",
            "--reveal-prefix=<Unicode> (SlidesExporter.reveal_url_prefix)\n",
            "    Default: u''\n",
            "    The URL prefix for reveal.js (version 3.x). This defaults to the reveal CDN,\n",
            "    but can be any url pointing to a copy  of reveal.js.\n",
            "    For speaker notes to work, this must be a relative path to a local  copy of\n",
            "    reveal.js: e.g., \"reveal.js\".\n",
            "    If a relative path is given, it must be a subdirectory of the current\n",
            "    directory (from which the server is run).\n",
            "    See the usage documentation\n",
            "    (https://nbconvert.readthedocs.io/en/latest/usage.html#reveal-js-html-\n",
            "    slideshow) for more details.\n",
            "--to=<Unicode> (NbConvertApp.export_format)\n",
            "    Default: 'html'\n",
            "    The export format to be used, either one of the built-in formats\n",
            "    ['asciidoc', 'custom', 'html', 'latex', 'markdown', 'notebook', 'pdf',\n",
            "    'python', 'rst', 'script', 'slides'] or a dotted object name that represents\n",
            "    the import path for an `Exporter` class\n",
            "--template=<Unicode> (TemplateExporter.template_file)\n",
            "    Default: u''\n",
            "    Name of the template file to use\n",
            "--output=<Unicode> (NbConvertApp.output_base)\n",
            "    Default: ''\n",
            "    overwrite base name use for output files. can only be used when converting\n",
            "    one notebook at a time.\n",
            "--post=<DottedOrNone> (NbConvertApp.postprocessor_class)\n",
            "    Default: u''\n",
            "    PostProcessor class used to write the results of the conversion\n",
            "--config=<Unicode> (JupyterApp.config_file)\n",
            "    Default: u''\n",
            "    Full path of a config file.\n",
            "\n",
            "To see all available configurables, use `--help-all`\n",
            "\n",
            "Examples\n",
            "--------\n",
            "\n",
            "    The simplest way to use nbconvert is\n",
            "    \n",
            "    > jupyter nbconvert mynotebook.ipynb\n",
            "    \n",
            "    which will convert mynotebook.ipynb to the default format (probably HTML).\n",
            "    \n",
            "    You can specify the export format with `--to`.\n",
            "    Options include ['asciidoc', 'custom', 'html', 'latex', 'markdown', 'notebook', 'pdf', 'python', 'rst', 'script', 'slides'].\n",
            "    \n",
            "    > jupyter nbconvert --to latex mynotebook.ipynb\n",
            "    \n",
            "    Both HTML and LaTeX support multiple output templates. LaTeX includes\n",
            "    'base', 'article' and 'report'.  HTML includes 'basic' and 'full'. You\n",
            "    can specify the flavor of the format used.\n",
            "    \n",
            "    > jupyter nbconvert --to html --template basic mynotebook.ipynb\n",
            "    \n",
            "    You can also pipe the output to stdout, rather than a file\n",
            "    \n",
            "    > jupyter nbconvert mynotebook.ipynb --stdout\n",
            "    \n",
            "    PDF is generated via latex\n",
            "    \n",
            "    > jupyter nbconvert mynotebook.ipynb --to pdf\n",
            "    \n",
            "    You can get (and serve) a Reveal.js-powered slideshow\n",
            "    \n",
            "    > jupyter nbconvert myslides.ipynb --to slides --post serve\n",
            "    \n",
            "    Multiple notebooks can be given at the command line in a couple of \n",
            "    different ways:\n",
            "    \n",
            "    > jupyter nbconvert notebook*.ipynb\n",
            "    > jupyter nbconvert notebook1.ipynb notebook2.ipynb\n",
            "    \n",
            "    or you can specify the notebooks list in a config file, containing::\n",
            "    \n",
            "        c.NbConvertApp.notebooks = [\"my_notebook.ipynb\"]\n",
            "    \n",
            "    > jupyter nbconvert --config mycfg.py\n",
            "\n"
          ],
          "name": "stdout"
        }
      ]
    },
    {
      "cell_type": "code",
      "metadata": {
        "deletable": false,
        "editable": false,
        "id": "h0WS-Kl-j2mC",
        "colab_type": "code",
        "outputId": "7ff510ce-d47e-4c00-ea9c-6bbd743dfcd4",
        "colab": {
          "base_uri": "https://localhost:8080/",
          "height": 51
        }
      },
      "source": [
        "import os\n",
        "from functools import reduce\n",
        "\n",
        "import numpy as np\n",
        "import pandas as pd\n",
        "\n",
        "import matplotlib.pyplot as plt\n",
        "from pandas.util.testing import assert_frame_equal"
      ],
      "execution_count": 11,
      "outputs": [
        {
          "output_type": "stream",
          "text": [
            "/usr/local/lib/python3.6/dist-packages/ipykernel_launcher.py:8: FutureWarning: pandas.util.testing is deprecated. Use the functions in the public API at pandas.testing instead.\n",
            "  \n"
          ],
          "name": "stderr"
        }
      ]
    },
    {
      "cell_type": "code",
      "metadata": {
        "pycharm": {
          "is_executing": false
        },
        "id": "jwXR0uhsj2mE",
        "colab_type": "code",
        "colab": {}
      },
      "source": [
        "class Student(object):\n",
        "    def __init__(self, name, avg_mark, second_try):\n",
        "        \"\"\"\n",
        "        :param name: The name of the student, a string.\n",
        "        :param captured: The captivity status, a boolean.\n",
        "        :param avg_mark: The average mark of the student from all exams.\n",
        "        :param second_Try: The second_try status (True if a student is in his/her second attempt), a boolean.\n",
        "        \"\"\"\n",
        "        self.name = name\n",
        "        self.avg_mark = avg_mark\n",
        "        self.second_try = second_try\n",
        "        \n",
        "    def __str__(self):\n",
        "        return \"Student: {}, Average Mark: {}, Second Try: {}\".format(self.name, self.avg_mark, self.second_try)\n",
        "\n",
        "    # Implement a method which returns the status of the student second attempt\n",
        "    # HINT: Use rich-comparison method: https://docs.python.org/3/reference/datamodel.html#special-method-names\n",
        "\n",
        "    # your code here\n",
        "\n",
        "    def __bool__(self):\n",
        "      return self.second_try\n",
        "\n",
        "    # Implement all other rich-comparison methods so that it is possible\n",
        "    # to sort the student objects in ascending order based on their average mark using the built in sorted() function \n",
        "    # REMEMBER: Python does not know based on which criteria it should compare two custom data types, \n",
        "    # with integers only we could easily use the sorted() function because Python knows that 5 is bigger that 3 and 2 is smaller than 6 etc.\n",
        "\n",
        "    '''\n",
        "    HINT: If you have implemented the six methods correctly, the following should be possible:\n",
        "    student1 < student2\n",
        "    student1 <= student2\n",
        "    student1 == student2\n",
        "    student1 != student2\n",
        "    student1 > student2\n",
        "    student1 >= student2\n",
        "    '''\n",
        "\n",
        "    # your code here\n",
        "\n",
        "    def __lt__(self, other):\n",
        "        return self.avg_mark < other.avg_mark\n",
        "\n",
        "    def __le__(self, other):\n",
        "        return self.avg_mark <= other.avg_mark\n",
        "\n",
        "    def __eq__(self, other):\n",
        "        return self.avg_mark == other.avg_mark\n",
        "\n",
        "    def __ne__(self, other):\n",
        "        return self.avg_mark != other.avg_mark\n",
        "\n",
        "    def __gt__(self, other):\n",
        "        return self.avg_mark > other.avg_mark\n",
        "\n",
        "    def __ge__(self, other):\n",
        "        return self.avg_mark >= other.avg_mark\n",
        "\n"
      ],
      "execution_count": 0,
      "outputs": []
    },
    {
      "cell_type": "code",
      "metadata": {
        "deletable": false,
        "editable": false,
        "id": "DnrSNmRUj2mG",
        "colab_type": "code",
        "colab": {}
      },
      "source": [
        "students = [\n",
        "    Student(\"Jack\", 3.5,False),\n",
        "    Student(\"Jacob\", 3.3,True),\n",
        "    Student(\"Melanie\", 4.2, False),\n",
        "    Student(\"Dagoberth\", 5.4, True),\n",
        "    Student(\"Laura\", 5.8,False),\n",
        "    Student(\"Rosa\", 4.4, False)\n",
        "]"
      ],
      "execution_count": 0,
      "outputs": []
    },
    {
      "cell_type": "code",
      "metadata": {
        "deletable": false,
        "editable": false,
        "id": "fAFo_gI-j2mI",
        "colab_type": "code",
        "colab": {}
      },
      "source": [
        "def get_lowperformers(students):\n",
        "    \"\"\"\n",
        "    :print the students doing their second attempt\n",
        "    \"\"\"\n",
        "    print(\"\\n\".join([str(x) for x in students if x]))"
      ],
      "execution_count": 0,
      "outputs": []
    },
    {
      "cell_type": "code",
      "metadata": {
        "deletable": false,
        "editable": false,
        "id": "NA3Kf8wbj2mM",
        "colab_type": "code",
        "colab": {}
      },
      "source": [
        "def students_by_avgmark(students):\n",
        "    \"\"\"\n",
        "    :print the students sorted by their average mark (ascending).\n",
        "    \"\"\"\n",
        "    print (\"\\n\".join([str(x) for x in sorted(students)]))"
      ],
      "execution_count": 0,
      "outputs": []
    },
    {
      "cell_type": "code",
      "metadata": {
        "id": "oVbX2Iy-RnL4",
        "colab_type": "code",
        "colab": {
          "base_uri": "https://localhost:8080/",
          "height": 51
        },
        "outputId": "16857457-95ff-4086-b61b-1aa940e52602"
      },
      "source": [
        "get_lowperformers(students)"
      ],
      "execution_count": 16,
      "outputs": [
        {
          "output_type": "stream",
          "text": [
            "Student: Jacob, Average Mark: 3.3, Second Try: True\n",
            "Student: Dagoberth, Average Mark: 5.4, Second Try: True\n"
          ],
          "name": "stdout"
        }
      ]
    },
    {
      "cell_type": "code",
      "metadata": {
        "id": "dR9RB0VrahUG",
        "colab_type": "code",
        "outputId": "a1e9c43b-9847-4e0d-dbc9-a1eb542fff42",
        "colab": {
          "base_uri": "https://localhost:8080/",
          "height": 119
        }
      },
      "source": [
        "students_by_avgmark(students)"
      ],
      "execution_count": 17,
      "outputs": [
        {
          "output_type": "stream",
          "text": [
            "Student: Jacob, Average Mark: 3.3, Second Try: True\n",
            "Student: Jack, Average Mark: 3.5, Second Try: False\n",
            "Student: Melanie, Average Mark: 4.2, Second Try: False\n",
            "Student: Rosa, Average Mark: 4.4, Second Try: False\n",
            "Student: Dagoberth, Average Mark: 5.4, Second Try: True\n",
            "Student: Laura, Average Mark: 5.8, Second Try: False\n"
          ],
          "name": "stdout"
        }
      ]
    },
    {
      "cell_type": "code",
      "metadata": {
        "id": "beEsuVGdj2mP",
        "colab_type": "code",
        "colab": {}
      },
      "source": [
        "def clean(unclean):\n",
        "    '''\n",
        "    \"Cleans\" the unclean list.\n",
        "    You need to return a list containing all the numbers in unclean.\n",
        "\n",
        "    :param unclean: A list containing integers and strings.\n",
        "    :return: A new list containing only the integers in unclean .\n",
        "    '''\n",
        "    \n",
        "    # your code here using a normal for-loop\n",
        "\n",
        "    result_list = []\n",
        "\n",
        "    for element in unclean:\n",
        "      if isinstance(element, int):\n",
        "        result_list.append(element)\n",
        "\n",
        "\n",
        "    return result_list"
      ],
      "execution_count": 0,
      "outputs": []
    },
    {
      "cell_type": "code",
      "metadata": {
        "id": "Go9gJRV-bwMY",
        "colab_type": "code",
        "colab": {}
      },
      "source": [
        "def clean_efficient(unclean):\n",
        "    \"\"\"\n",
        "    \"Cleans\" the unclean list.\n",
        "    You need to return a list containing all the numbers in unclean by using a list comprehension.\n",
        "\n",
        "    --> Implement this method in ONE line. <--\n",
        "    Use list comprehensions for this task: https://docs.python.org/3/tutorial/datastructures.html#list-comprehensions\n",
        "\n",
        "    :param unclean: A list containing integers and strings.\n",
        "    :return: A new list containing only the integers in unclean .\n",
        "    \"\"\"\n",
        "  \n",
        "    # your code here using an efficent list comprehension\n",
        "\n",
        "    return [x for x in unclean if isinstance(x, int)]\n"
      ],
      "execution_count": 0,
      "outputs": []
    },
    {
      "cell_type": "code",
      "metadata": {
        "id": "DVFo942Qj2mR",
        "colab_type": "code",
        "outputId": "8f8a3120-034e-474e-ef63-01ee6209bc74",
        "colab": {
          "base_uri": "https://localhost:8080/",
          "height": 51
        }
      },
      "source": [
        "unclean = [1, 3, \"Apple\", 4, \"Banana\", 5, \"Nuts\", 99]\n",
        "print(clean(unclean))\n",
        "print(clean_efficient(unclean))"
      ],
      "execution_count": 21,
      "outputs": [
        {
          "output_type": "stream",
          "text": [
            "[1, 3, 4, 5, 99]\n",
            "[1, 3, 4, 5, 99]\n"
          ],
          "name": "stdout"
        }
      ]
    },
    {
      "cell_type": "code",
      "metadata": {
        "id": "dhanq83Nc5AH",
        "colab_type": "code",
        "colab": {}
      },
      "source": [
        "def sum_fines(fines):\n",
        "    \"\"\"\n",
        "    Calculates how much the total car fines of all fines.\n",
        "\n",
        "    :return: The total amount of the fines\n",
        "    \"\"\"\n",
        "    # your code here \n",
        "\n",
        "    # using sum()\n",
        "\n",
        "    return sum(fines)\n",
        "\n",
        "    '''\n",
        "    # using a for-loop\n",
        "\n",
        "    total = 0\n",
        "\n",
        "    for fine in fines:\n",
        "      total += fine\n",
        "\n",
        "    return total\n",
        "    '''"
      ],
      "execution_count": 0,
      "outputs": []
    },
    {
      "cell_type": "code",
      "metadata": {
        "id": "O7PL98oqj2mX",
        "colab_type": "code",
        "colab": {}
      },
      "source": [
        "def sum_fines_efficient(fines):\n",
        "    \"\"\"\n",
        "    Calculates how much the total car fines of all fines is using the reduce() function: https://docs.python.org/3/library/functools.html#functools.reduce\n",
        "\n",
        "    :return: The total amount of the fines\n",
        "    \"\"\"\n",
        "    # your code here \n",
        "\n",
        "    return reduce(lambda x,y: x+y, fines)\n"
      ],
      "execution_count": 0,
      "outputs": []
    },
    {
      "cell_type": "code",
      "metadata": {
        "id": "gsoVAmnbj2mY",
        "colab_type": "code",
        "outputId": "0dde03f8-18c4-445a-f47b-c799c950668c",
        "colab": {
          "base_uri": "https://localhost:8080/",
          "height": 51
        }
      },
      "source": [
        "fines = [100, 200, 125.30, 250, 895, 345.90]\n",
        "print(sum_fines(fines))\n",
        "print(sum_fines_efficient(fines))"
      ],
      "execution_count": 24,
      "outputs": [
        {
          "output_type": "stream",
          "text": [
            "1916.1999999999998\n",
            "1916.1999999999998\n"
          ],
          "name": "stdout"
        }
      ]
    },
    {
      "cell_type": "code",
      "metadata": {
        "id": "dRwVleXedkKe",
        "colab_type": "code",
        "colab": {}
      },
      "source": [
        "def convert2float(l):\n",
        "    \"\"\"\n",
        "    Converts a list of strings to a tuple of integers\n",
        "\n",
        "    :param l: An lost of strings with each string-content representing a number (e.g. \"5\").\n",
        "    :return: A tuple containing the values of l as integers\n",
        "    \"\"\"\n",
        "    \n",
        "    # your code here\n",
        "\n",
        "    result_list = []\n",
        "    \n",
        "    for element in l:\n",
        "      result_list.append(int(element))\n",
        "    \n",
        "    return tuple(result_list)\n",
        "\n"
      ],
      "execution_count": 0,
      "outputs": []
    },
    {
      "cell_type": "code",
      "metadata": {
        "id": "Kp_wtAO2j2ma",
        "colab_type": "code",
        "colab": {}
      },
      "source": [
        "def convert2float_efficient(l):\n",
        "    \"\"\"\n",
        "    Converts a list of strings to a tuple of integers using the map() function: https://docs.python.org/3/library/functions.html#map\n",
        "\n",
        "    :param l: An list of strings with each string-content representing a number (e.g. \"5\").\n",
        "    :return: A tuple containing the values of l as integers\n",
        "    \"\"\"\n",
        "    \n",
        "    # your code here\n",
        "\n",
        "    return tuple(map(lambda x: int(x), l))"
      ],
      "execution_count": 0,
      "outputs": []
    },
    {
      "cell_type": "code",
      "metadata": {
        "id": "CpDRbSfAj2mb",
        "colab_type": "code",
        "outputId": "3046ec4a-b776-4e46-d420-b4a0a1a3faef",
        "colab": {
          "base_uri": "https://localhost:8080/",
          "height": 51
        }
      },
      "source": [
        "string = [\"1\", \"2\", \"3\"]\n",
        "print(convert2float(string))\n",
        "print(convert2float_efficient(string))"
      ],
      "execution_count": 27,
      "outputs": [
        {
          "output_type": "stream",
          "text": [
            "(1, 2, 3)\n",
            "(1, 2, 3)\n"
          ],
          "name": "stdout"
        }
      ]
    },
    {
      "cell_type": "code",
      "metadata": {
        "id": "G0WkPzPzj2md",
        "colab_type": "code",
        "colab": {}
      },
      "source": [
        "def load_studentdata_txt():\n",
        "    \"\"\"\n",
        "    Loads some random student data from a text file.\n",
        "\n",
        "    Store the data in a pandas DataFrame: https://pandas.pydata.org/pandas-docs/stable/reference/api/pandas.DataFrame.html\n",
        "    The DataFrame must have three columns: \"name\", \"avgmark\" and \"gender\". Each reacord in the dataframe should represent a student.\n",
        "    \n",
        "    Consider that the values in the text-file are seperated by a space \" \".\n",
        "    Therefore, after you loaded the data from the text file you still need to do some work before you can represent the data using a dataframe.\n",
        "\n",
        "    :return: A DataFrame containing the student data.\n",
        "    \"\"\"\n",
        "\n",
        "    # create empty nested list to store lists of students temporarily\n",
        "    students = []\n",
        "\n",
        "    # open the text file\n",
        "    with open(os.path.join(\"student_data.txt\"), \"r\") as f:\n",
        "      # read all lines and save each line as a list\n",
        "      lines = f.readlines()\n",
        "      # iterate over all lines\n",
        "      for line in lines:\n",
        "        # remove new-line-break character (\\n) and split strings at spaces\n",
        "        s = line.strip().split()\n",
        "        # add list of student to the list of all students\n",
        "        students.append(s)\n",
        "\n",
        "    # convert list of all students to numpy array to create a dataframe easily\n",
        "    students = np.array(students)\n",
        "\n",
        "    # create data frame\n",
        "    df = pd.DataFrame(students, columns=['name','avgmark','gender'])\n",
        "  \n",
        "    '''\n",
        "    # instead of creating a numpy array it would also be possible to create a dictionary first containing all data required for the data frame\n",
        "\n",
        "    data_dict = {\n",
        "        \"name\" : students[:,0],\n",
        "        \"avgmark\" : students[:,1],\n",
        "        \"gender\" : students[:,2]\n",
        "    }\n",
        "    \n",
        "    df = pd.DataFrame(data_dict)\n",
        "\n",
        "    '''\n",
        "    return df"
      ],
      "execution_count": 0,
      "outputs": []
    },
    {
      "cell_type": "code",
      "metadata": {
        "id": "WgPsMY8Vr7fU",
        "colab_type": "code",
        "outputId": "ce74bfcc-1a89-4131-ce18-c280bcccd470",
        "colab": {
          "base_uri": "https://localhost:8080/",
          "height": 213
        }
      },
      "source": [
        "df = load_studentdata_txt()\n",
        "\n",
        "# try to print the second record of the dataframe using first iloc[] and then loc[]. What is the difference?\n",
        "# to see the difference clearly we first must re-index our dataframe\n",
        "\n",
        "df = df.set_index('name')\n",
        "print(df.loc['Candra']) # loc for index-label\n",
        "print(df.iloc[1]) # iloc for index-number\n",
        "\n",
        "# now reset the index of the dataframe\n",
        "\n",
        "df = df.reset_index()\n",
        "\n",
        "# how can we access the second and fourth record?\n",
        "\n",
        "df.iloc[[1,3]]"
      ],
      "execution_count": 35,
      "outputs": [
        {
          "output_type": "stream",
          "text": [
            "avgmark     4.363\n",
            "gender     Female\n",
            "Name: Candra, dtype: object\n",
            "avgmark     4.363\n",
            "gender     Female\n",
            "Name: Candra, dtype: object\n"
          ],
          "name": "stdout"
        },
        {
          "output_type": "execute_result",
          "data": {
            "text/html": [
              "<div>\n",
              "<style scoped>\n",
              "    .dataframe tbody tr th:only-of-type {\n",
              "        vertical-align: middle;\n",
              "    }\n",
              "\n",
              "    .dataframe tbody tr th {\n",
              "        vertical-align: top;\n",
              "    }\n",
              "\n",
              "    .dataframe thead th {\n",
              "        text-align: right;\n",
              "    }\n",
              "</style>\n",
              "<table border=\"1\" class=\"dataframe\">\n",
              "  <thead>\n",
              "    <tr style=\"text-align: right;\">\n",
              "      <th></th>\n",
              "      <th>name</th>\n",
              "      <th>avgmark</th>\n",
              "      <th>gender</th>\n",
              "    </tr>\n",
              "  </thead>\n",
              "  <tbody>\n",
              "    <tr>\n",
              "      <th>1</th>\n",
              "      <td>Candra</td>\n",
              "      <td>4.363</td>\n",
              "      <td>Female</td>\n",
              "    </tr>\n",
              "    <tr>\n",
              "      <th>3</th>\n",
              "      <td>Paola</td>\n",
              "      <td>2.213</td>\n",
              "      <td>Female</td>\n",
              "    </tr>\n",
              "  </tbody>\n",
              "</table>\n",
              "</div>"
            ],
            "text/plain": [
              "     name avgmark  gender\n",
              "1  Candra   4.363  Female\n",
              "3   Paola   2.213  Female"
            ]
          },
          "metadata": {
            "tags": []
          },
          "execution_count": 35
        }
      ]
    },
    {
      "cell_type": "code",
      "metadata": {
        "id": "WsOn0GSQj2mg",
        "colab_type": "code",
        "colab": {}
      },
      "source": [
        "def clean_data(df):\n",
        "    \"\"\"\n",
        "\n",
        "    You need to clean the data in this method so that the data can be used for analysis.\n",
        "    \n",
        "    Now the values in column \"Gender\" are either \"Male\" or \"Female\".\n",
        "    However, we want to proceed with the abbreviation for the gender. So the value in Gender column should equal to \"m\" or \"f\". Clean the data.\n",
        "\n",
        "    Also, the values in clumn average mark are Strings. Convert these strings to float values.\n",
        "\n",
        "    Do the clean up for \"Gender\" through iterating over all rows.\n",
        "    Do the clean up for \"Avg Mark\" using astype(): https://datatofish.com/convert-string-to-float-dataframe/\n",
        "\n",
        "    :param df: The DataFrame containing the student data.\n",
        "    :return: A DataFrame with the fixed gender values.\n",
        "    \"\"\"\n",
        "  \n",
        "    # value is string\n",
        "    print(type(df.iloc[0]['avgmark']))\n",
        "\n",
        "    # convert value from string to float \n",
        "    df['avgmark'] = df['avgmark'].astype(float)\n",
        "\n",
        "    # value is float now\n",
        "    print(type(df.iloc[0]['avgmark']))\n",
        "\n",
        "    # iterate over all rows in the dataframe\n",
        "    for index, row in df.iterrows():\n",
        "      # take the first letter of the value in the gender field (e.g. \"M\") and change it to lower-case\n",
        "      df.at[index, 'gender'] = row['gender'][0].lower()\n",
        "\n",
        "    # update gender values using the apply function -> uncomment the line below\n",
        "    # df['gender'] =  df['gender'].apply(lambda x: (x[0].lower()))\n",
        "    \n",
        "    return df"
      ],
      "execution_count": 0,
      "outputs": []
    },
    {
      "cell_type": "code",
      "metadata": {
        "id": "oHXuxnjLr22w",
        "colab_type": "code",
        "outputId": "3618269d-a8f9-4f2e-e3d3-dc30b54e8174",
        "colab": {
          "base_uri": "https://localhost:8080/",
          "height": 289
        }
      },
      "source": [
        "df = load_studentdata_txt()\n",
        "\n",
        "# data in csv format can be read much easier\n",
        "# df = pd.read_csv(\"student_data.csv\")\n",
        "\n",
        "clean_df = clean_data(df)\n",
        "\n",
        "print(clean_df)"
      ],
      "execution_count": 38,
      "outputs": [
        {
          "output_type": "stream",
          "text": [
            "<class 'str'>\n",
            "<class 'numpy.float64'>\n",
            "         name  avgmark gender\n",
            "0      Margot    5.642      f\n",
            "1      Candra    4.363      f\n",
            "2     Cristen    4.420      f\n",
            "3       Paola    2.213      f\n",
            "4       Nikki    3.120      f\n",
            "..        ...      ...    ...\n",
            "95    Johnnie    3.190      m\n",
            "96     Rodney    1.363      m\n",
            "97  Ferdinand    1.934      m\n",
            "98    Stephen    4.425      m\n",
            "99      Kraig    5.693      m\n",
            "\n",
            "[100 rows x 3 columns]\n"
          ],
          "name": "stdout"
        }
      ]
    },
    {
      "cell_type": "code",
      "metadata": {
        "id": "4vhdK_VQj2ml",
        "colab_type": "code",
        "colab": {}
      },
      "source": [
        "def student_data(percentile, df):\n",
        "    \"\"\"\n",
        "    Plots the data of the students whose average mark is in the lower percentile, for a given percentile.\n",
        "\n",
        "    Calculate first the specified quantile for the \"avgmark\" column.\n",
        "    HINT: There is a function in pandas you can use for this.\n",
        "\n",
        "    Example: 0.1 would indicate the 10% percentile. This is the value for \"Average Mark\" for which 10% of the\n",
        "    students are below the rest, i.e. the 10% biggest low-performers.\n",
        "\n",
        "    Then, select all students in the dataframe which are below the percentile value and plot their average marks as a bar chart.\n",
        "\n",
        "    Additionally:\n",
        "        - use the student name for the x-axis\n",
        "        - rotate the Name so it is readable from left to right (the default will be from bottom to top)\n",
        "        - set the figure size to be 1000x700 pixels\n",
        "\n",
        "    :param percentile: The percentile.\n",
        "    :param df: A dataframe containing the student data.\n",
        "    \"\"\"\n",
        "    \n",
        "    # calculate quantile value\n",
        "    q = df[\"avgmark\"].quantile(percentile)\n",
        "\n",
        "    # select all the students below the quantile value\n",
        "    df = df[df[\"avgmark\"] < q]\n",
        "\n",
        "    # create plot\n",
        "    ax = df.plot.bar(x=\"name\", rot=0, figsize=(10, 7))\n",
        "\n",
        "    plt.show()"
      ],
      "execution_count": 0,
      "outputs": []
    },
    {
      "cell_type": "code",
      "metadata": {
        "id": "slcjIWpzj2mo",
        "colab_type": "code",
        "outputId": "04d06f6c-3ed3-4b6f-ae40-5e1d3b55635f",
        "colab": {
          "base_uri": "https://localhost:8080/",
          "height": 442
        }
      },
      "source": [
        "student_data(0.1, clean_df)"
      ],
      "execution_count": 40,
      "outputs": [
        {
          "output_type": "display_data",
          "data": {
            "image/png": "[encoded data removed]",
            "text/plain": [
              "<Figure size 720x504 with 1 Axes>"
            ]
          },
          "metadata": {
            "tags": [],
            "needs_background": "light"
          }
        }
      ]
    },
    {
      "cell_type": "code",
      "metadata": {
        "id": "UtD0k7XGSnaR",
        "colab_type": "code",
        "colab": {}
      },
      "source": [
        ""
      ],
      "execution_count": 0,
      "outputs": []
    }
  ]
}