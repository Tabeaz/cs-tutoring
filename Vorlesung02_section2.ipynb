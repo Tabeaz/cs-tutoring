{
  "nbformat": 4,
  "nbformat_minor": 5,
  "metadata": {
    "celltoolbar": "Slideshow",
    "colab": {
      "name": "Vorlesung02.section2.ipynb",
      "provenance": [],
      "collapsed_sections": [
        "nominated-theorem",
        "temporal-hindu",
        "marine-conversion",
        "legal-impossible",
        "popular-cabinet",
        "powered-history",
        "designed-validation",
        "indie-merchandise",
        "searching-europe",
        "liable-pressing",
        "ordered-storage",
        "ongoing-sally",
        "described-tooth",
        "cubic-aquatic",
        "insured-hydrogen",
        "choice-booth",
        "underlying-girlfriend",
        "junior-detection",
        "heard-population",
        "incredible-queens",
        "desperate-bonus"
      ],
      "include_colab_link": true
    },
    "kernelspec": {
      "display_name": "Python 3",
      "language": "python",
      "name": "python3"
    },
    "language_info": {
      "codemirror_mode": {
        "name": "ipython",
        "version": 3
      },
      "file_extension": ".py",
      "mimetype": "text/x-python",
      "name": "python",
      "nbconvert_exporter": "python",
      "pygments_lexer": "ipython3",
      "version": "3.8.8"
    }
  },
  "cells": [
    {
      "cell_type": "markdown",
      "metadata": {
        "id": "view-in-github",
        "colab_type": "text"
      },
      "source": [
        "<a href=\"https://colab.research.google.com/github/Tabeaz/cs-tutoring/blob/master/Vorlesung02_section2.ipynb\" target=\"_parent\"><img src=\"https://colab.research.google.com/assets/colab-badge.svg\" alt=\"Open In Colab\"/></a>"
      ]
    },
    {
      "cell_type": "markdown",
      "metadata": {
        "id": "maritime-agent"
      },
      "source": [
        "# Lecture 2\n",
        "\n",
        "# Section 2: A short recap of the Python basics (variable, assignment, types, arithmetic, input, output)\n",
        "\n",
        "Hint: All the examples and explanations from this second part of today's lecture can be found in chapter 2 of the book."
      ],
      "id": "maritime-agent"
    },
    {
      "cell_type": "markdown",
      "metadata": {
        "id": "saved-resource"
      },
      "source": [
        "##  2.1 Variables and Assignment Statements"
      ],
      "id": "saved-resource"
    },
    {
      "cell_type": "code",
      "metadata": {
        "colab": {
          "base_uri": "https://localhost:8080/"
        },
        "id": "unlikely-nicholas",
        "outputId": "218a6c2a-33c3-40b0-a257-8f6ffd8e88fa"
      },
      "source": [
        "X = 20\r\n",
        "x = 15\r\n",
        "y = 1\r\n",
        "print (x + y + X\r\n",
        "\r\n",
        "\r\n",
        "\r\n",
        "\r\n"
      ],
      "id": "unlikely-nicholas",
      "execution_count": null,
      "outputs": [
        {
          "output_type": "stream",
          "text": [
            "36\n"
          ],
          "name": "stdout"
        }
      ]
    },
    {
      "cell_type": "code",
      "metadata": {
        "id": "eight-envelope"
      },
      "source": [
        "x = 7"
      ],
      "id": "eight-envelope",
      "execution_count": null,
      "outputs": []
    },
    {
      "cell_type": "markdown",
      "metadata": {
        "id": "worthy-burton"
      },
      "source": [
        "* Preceding snippet is a **statement**. \n",
        "* Specifies a task to perform. \n",
        "* Preceding statement creates `x` and uses the **assignment symbol (`=`)** to give `x` a value. "
      ],
      "id": "worthy-burton"
    },
    {
      "cell_type": "code",
      "metadata": {
        "id": "unlimited-automation"
      },
      "source": [
        "y = 3"
      ],
      "id": "unlimited-automation",
      "execution_count": null,
      "outputs": []
    },
    {
      "cell_type": "markdown",
      "metadata": {
        "id": "geographic-tonight"
      },
      "source": [
        "### Adding Variable Values and Viewing the Result"
      ],
      "id": "geographic-tonight"
    },
    {
      "cell_type": "code",
      "metadata": {
        "colab": {
          "base_uri": "https://localhost:8080/"
        },
        "id": "primary-spanish",
        "outputId": "a3459432-6080-4084-e023-d10924f0f224"
      },
      "source": [
        "X = 20\n",
        "x = 25\n",
        "y = 1\n",
        "x + y + X"
      ],
      "id": "primary-spanish",
      "execution_count": null,
      "outputs": [
        {
          "output_type": "execute_result",
          "data": {
            "text/plain": [
              "46"
            ]
          },
          "metadata": {
            "tags": []
          },
          "execution_count": 9
        }
      ]
    },
    {
      "cell_type": "markdown",
      "metadata": {
        "id": "blond-placement"
      },
      "source": [
        "### Calculations in Assignment Statements"
      ],
      "id": "blond-placement"
    },
    {
      "cell_type": "code",
      "metadata": {
        "colab": {
          "base_uri": "https://localhost:8080/"
        },
        "id": "incident-caution",
        "outputId": "f5b76deb-cd14-4ddd-c297-d09c38fb7cd1"
      },
      "source": [
        "print (x + y)\r\n"
      ],
      "id": "incident-caution",
      "execution_count": null,
      "outputs": [
        {
          "output_type": "stream",
          "text": [
            "26\n"
          ],
          "name": "stdout"
        }
      ]
    },
    {
      "cell_type": "markdown",
      "metadata": {
        "id": "unique-calendar"
      },
      "source": [
        "* **assignment symbol (`=`)** is not an operator"
      ],
      "id": "unique-calendar"
    },
    {
      "cell_type": "code",
      "metadata": {
        "id": "appreciated-topic"
      },
      "source": [
        "total"
      ],
      "id": "appreciated-topic",
      "execution_count": null,
      "outputs": []
    },
    {
      "cell_type": "markdown",
      "metadata": {
        "id": "nutritional-arrow"
      },
      "source": [
        "### Python Style\n",
        "* The _Style Guide for Python Code_ helps you write code that conforms to Python’s coding conventions. \n",
        "* Recommends inserting one space on each side of the assignment symbol `=` and binary operators like `+` to make programs more readable. "
      ],
      "id": "nutritional-arrow"
    },
    {
      "cell_type": "markdown",
      "metadata": {
        "id": "hollow-monster"
      },
      "source": [
        "### Variable Names\n",
        "* A variable name is an **identifier**. \n",
        "* May consist of letters, digits and underscores (`_`) but may not begin with a digit. \n",
        "* Python is _case sensitive_. "
      ],
      "id": "hollow-monster"
    },
    {
      "cell_type": "markdown",
      "metadata": {
        "id": "insured-taiwan"
      },
      "source": [
        "### Types\n",
        "* Each value in Python has a type that indicates the kind of data the value represents. \n",
        "* You can view a value’s type, with the **`type` built-in function**."
      ],
      "id": "insured-taiwan"
    },
    {
      "cell_type": "code",
      "metadata": {
        "colab": {
          "base_uri": "https://localhost:8080/"
        },
        "id": "resident-cross",
        "outputId": "43771c70-0cbd-426a-e0c8-5314653c0cbc"
      },
      "source": [
        "type (10.5)"
      ],
      "id": "resident-cross",
      "execution_count": null,
      "outputs": [
        {
          "output_type": "execute_result",
          "data": {
            "text/plain": [
              "float"
            ]
          },
          "metadata": {
            "tags": []
          },
          "execution_count": 14
        }
      ]
    },
    {
      "cell_type": "code",
      "metadata": {
        "id": "accessory-requirement"
      },
      "source": [
        "type(10.5)"
      ],
      "id": "accessory-requirement",
      "execution_count": null,
      "outputs": []
    },
    {
      "cell_type": "markdown",
      "metadata": {
        "id": "familiar-quarterly"
      },
      "source": [
        "* A function performs a task when you call it by writing its name, followed by **parentheses, `()`**. \n",
        "* The parentheses contain the function’s **argument**—the data that the type function needs to perform its task."
      ],
      "id": "familiar-quarterly"
    },
    {
      "cell_type": "markdown",
      "metadata": {
        "id": "piano-focus"
      },
      "source": [
        "## 2.2 Arithmetic\n",
        "| Python operation | Arithmetic operator | Python expression\n",
        "| :-------- | :-------- | :-------- \n",
        "| Addition | `+`  | `f + 7` \n",
        "| Subtraction | `–` | `p - c` \n",
        "| Multiplication | `*` | `b * m` \n",
        "| Exponentiation | `**` |  `x ** y` \n",
        "| True division | `/` | `x / y` \n",
        "| Floor division | `//` | `x // y` \n",
        "| Remainder (modulo) | `%` | `r % s` \n",
        "\n",
        "* [All operators and their precedence](https://docs.python.org/3/reference/expressions.html#operator-precedence)"
      ],
      "id": "piano-focus"
    },
    {
      "cell_type": "markdown",
      "metadata": {
        "id": "constant-metro"
      },
      "source": [
        "### Multiplication (`*`)\n",
        "* Python uses the **asterisk (`*`) multiplication operator**:"
      ],
      "id": "constant-metro"
    },
    {
      "cell_type": "code",
      "metadata": {
        "colab": {
          "base_uri": "https://localhost:8080/"
        },
        "id": "republican-monaco",
        "outputId": "4f8dc01f-cfe7-4c76-d037-407daddfece0"
      },
      "source": [
        "7 * 4"
      ],
      "id": "republican-monaco",
      "execution_count": null,
      "outputs": [
        {
          "output_type": "execute_result",
          "data": {
            "text/plain": [
              "28"
            ]
          },
          "metadata": {
            "tags": []
          },
          "execution_count": 15
        }
      ]
    },
    {
      "cell_type": "markdown",
      "metadata": {
        "id": "convertible-vienna"
      },
      "source": [
        "### Exponentiation (`**`)\n",
        "* The **exponentiation (&ast;&ast;) operator** raises one value to the power of another."
      ],
      "id": "convertible-vienna"
    },
    {
      "cell_type": "code",
      "metadata": {
        "colab": {
          "base_uri": "https://localhost:8080/"
        },
        "id": "limited-toolbox",
        "outputId": "bd1e1915-472d-47da-f5c1-d2f230c67743"
      },
      "source": [
        "2 ** 10"
      ],
      "id": "limited-toolbox",
      "execution_count": null,
      "outputs": [
        {
          "output_type": "execute_result",
          "data": {
            "text/plain": [
              "1024"
            ]
          },
          "metadata": {
            "tags": []
          },
          "execution_count": 32
        }
      ]
    },
    {
      "cell_type": "markdown",
      "metadata": {
        "id": "fifth-newport"
      },
      "source": [
        "* To calculate the square root, use the exponent `1/2` or `0.5`."
      ],
      "id": "fifth-newport"
    },
    {
      "cell_type": "code",
      "metadata": {
        "colab": {
          "base_uri": "https://localhost:8080/"
        },
        "id": "beginning-resistance",
        "outputId": "bd78763d-8670-4a22-ae08-870cdabe3855"
      },
      "source": [
        "9 ** (1 / 2)"
      ],
      "id": "beginning-resistance",
      "execution_count": null,
      "outputs": [
        {
          "output_type": "execute_result",
          "data": {
            "text/plain": [
              "3.0"
            ]
          },
          "metadata": {
            "tags": []
          },
          "execution_count": 33
        }
      ]
    },
    {
      "cell_type": "markdown",
      "metadata": {
        "id": "interested-kansas"
      },
      "source": [
        "But of course, Python has a library and a function to calculate the square root, too."
      ],
      "id": "interested-kansas"
    },
    {
      "cell_type": "code",
      "metadata": {
        "colab": {
          "base_uri": "https://localhost:8080/"
        },
        "id": "overhead-harassment",
        "outputId": "cdae4f39-798e-49d0-e70b-edf672ebfb41"
      },
      "source": [
        "# Import math Library\n",
        "import math\n",
        "\n",
        "# Return the square root of the argument\n",
        "math.sqrt(9)"
      ],
      "id": "overhead-harassment",
      "execution_count": null,
      "outputs": [
        {
          "output_type": "execute_result",
          "data": {
            "text/plain": [
              "3.0"
            ]
          },
          "metadata": {
            "tags": []
          },
          "execution_count": 34
        }
      ]
    },
    {
      "cell_type": "markdown",
      "metadata": {
        "id": "olive-sleeve"
      },
      "source": [
        "### True Division (`/`) vs. Floor Division (`//`)\n",
        "* **True division (`/`)** divides a numerator by a denominator and yields a floating-point number."
      ],
      "id": "olive-sleeve"
    },
    {
      "cell_type": "code",
      "metadata": {
        "colab": {
          "base_uri": "https://localhost:8080/"
        },
        "id": "spoken-vertical",
        "outputId": "d3dbefb3-71ee-4a6d-8f3c-fc1004d75ffd"
      },
      "source": [
        "7 / 4"
      ],
      "id": "spoken-vertical",
      "execution_count": null,
      "outputs": [
        {
          "output_type": "execute_result",
          "data": {
            "text/plain": [
              "1.75"
            ]
          },
          "metadata": {
            "tags": []
          },
          "execution_count": 19
        }
      ]
    },
    {
      "cell_type": "markdown",
      "metadata": {
        "id": "peripheral-notice"
      },
      "source": [
        "* **Floor division (`//`)** divides a numerator by a denominator, yielding the highest _integer_ that’s not greater than the result.\n",
        "* **Truncates** (discards) the fractional part. "
      ],
      "id": "peripheral-notice"
    },
    {
      "cell_type": "code",
      "metadata": {
        "colab": {
          "base_uri": "https://localhost:8080/"
        },
        "id": "starting-grammar",
        "outputId": "35e1cd95-be30-4718-a8d5-d7cee4e95585"
      },
      "source": [
        "7 // 4"
      ],
      "id": "starting-grammar",
      "execution_count": null,
      "outputs": [
        {
          "output_type": "execute_result",
          "data": {
            "text/plain": [
              "1"
            ]
          },
          "metadata": {
            "tags": []
          },
          "execution_count": 20
        }
      ]
    },
    {
      "cell_type": "code",
      "metadata": {
        "id": "ViHV1e4TkcpY"
      },
      "source": [
        "#floor division gibt die ganze Zahl, die nicht grösser ist als (7/4)"
      ],
      "id": "ViHV1e4TkcpY",
      "execution_count": null,
      "outputs": []
    },
    {
      "cell_type": "code",
      "metadata": {
        "colab": {
          "base_uri": "https://localhost:8080/"
        },
        "id": "absolute-greensboro",
        "outputId": "d2f88eea-fb5a-4a55-c529-1513f0467f8d"
      },
      "source": [
        "3 // 5"
      ],
      "id": "absolute-greensboro",
      "execution_count": null,
      "outputs": [
        {
          "output_type": "execute_result",
          "data": {
            "text/plain": [
              "0"
            ]
          },
          "metadata": {
            "tags": []
          },
          "execution_count": 21
        }
      ]
    },
    {
      "cell_type": "code",
      "metadata": {
        "id": "bEDbRFRbktrZ"
      },
      "source": [
        ""
      ],
      "id": "bEDbRFRbktrZ",
      "execution_count": null,
      "outputs": []
    },
    {
      "cell_type": "code",
      "metadata": {
        "colab": {
          "base_uri": "https://localhost:8080/"
        },
        "id": "loved-occasions",
        "outputId": "404857c2-42e1-4403-f313-5faa5c7ccf1d"
      },
      "source": [
        "14 // 7"
      ],
      "id": "loved-occasions",
      "execution_count": null,
      "outputs": [
        {
          "output_type": "execute_result",
          "data": {
            "text/plain": [
              "2"
            ]
          },
          "metadata": {
            "tags": []
          },
          "execution_count": 22
        }
      ]
    },
    {
      "cell_type": "markdown",
      "metadata": {
        "id": "charming-allah"
      },
      "source": [
        "* And again, the difference between **true division** and **floor division**"
      ],
      "id": "charming-allah"
    },
    {
      "cell_type": "code",
      "metadata": {
        "colab": {
          "base_uri": "https://localhost:8080/"
        },
        "id": "approximate-roads",
        "outputId": "77e48c7b-54ea-4829-9cf4-112e8bf7c172"
      },
      "source": [
        "-13 / 4"
      ],
      "id": "approximate-roads",
      "execution_count": null,
      "outputs": [
        {
          "output_type": "execute_result",
          "data": {
            "text/plain": [
              "-3.25"
            ]
          },
          "metadata": {
            "tags": []
          },
          "execution_count": 23
        }
      ]
    },
    {
      "cell_type": "code",
      "metadata": {
        "colab": {
          "base_uri": "https://localhost:8080/"
        },
        "id": "Z-GtmCIamQi6",
        "outputId": "2e14f491-80e7-4c90-8d7a-1115b5fd34ed"
      },
      "source": [
        "-20 / 4"
      ],
      "id": "Z-GtmCIamQi6",
      "execution_count": null,
      "outputs": [
        {
          "output_type": "execute_result",
          "data": {
            "text/plain": [
              "-5.0"
            ]
          },
          "metadata": {
            "tags": []
          },
          "execution_count": 35
        }
      ]
    },
    {
      "cell_type": "code",
      "metadata": {
        "id": "LulwApUjmWKa"
      },
      "source": [
        "#5.0 ist Gleitkommazahl. Unten ist es ganze Zahl (int)."
      ],
      "id": "LulwApUjmWKa",
      "execution_count": null,
      "outputs": []
    },
    {
      "cell_type": "code",
      "metadata": {
        "colab": {
          "base_uri": "https://localhost:8080/"
        },
        "id": "liberal-wichita",
        "outputId": "45836a81-00c3-45a2-937b-267ddab84d83"
      },
      "source": [
        "-13 // 4"
      ],
      "id": "liberal-wichita",
      "execution_count": null,
      "outputs": [
        {
          "output_type": "execute_result",
          "data": {
            "text/plain": [
              "-4"
            ]
          },
          "metadata": {
            "tags": []
          },
          "execution_count": 24
        }
      ]
    },
    {
      "cell_type": "code",
      "metadata": {
        "colab": {
          "base_uri": "https://localhost:8080/"
        },
        "id": "H_Ka5esbmTCp",
        "outputId": "b9b70657-9a48-4ff9-882b-49d74b51553c"
      },
      "source": [
        "-20 // 4"
      ],
      "id": "H_Ka5esbmTCp",
      "execution_count": null,
      "outputs": [
        {
          "output_type": "execute_result",
          "data": {
            "text/plain": [
              "-5"
            ]
          },
          "metadata": {
            "tags": []
          },
          "execution_count": 36
        }
      ]
    },
    {
      "cell_type": "code",
      "metadata": {
        "id": "KFrr90gzkvkE"
      },
      "source": [
        "#-3 wäre grösser als -3.25, aber -4 ist kleiner"
      ],
      "id": "KFrr90gzkvkE",
      "execution_count": null,
      "outputs": []
    },
    {
      "cell_type": "markdown",
      "metadata": {
        "id": "promotional-product"
      },
      "source": [
        "Floor division gives the closest integer that **is not greater** than `-3.25` — which is `-4`"
      ],
      "id": "promotional-product"
    },
    {
      "cell_type": "code",
      "metadata": {
        "colab": {
          "base_uri": "https://localhost:8080/",
          "height": 171
        },
        "id": "necessary-berkeley",
        "outputId": "d444057e-f687-4b26-e488-4ca75d89679c"
      },
      "source": [
        "123 / 0\r\n",
        "#Fehler liegt in Zeile 1"
      ],
      "id": "necessary-berkeley",
      "execution_count": null,
      "outputs": [
        {
          "output_type": "error",
          "ename": "ZeroDivisionError",
          "evalue": "ignored",
          "traceback": [
            "\u001b[0;31m---------------------------------------------------------------------------\u001b[0m",
            "\u001b[0;31mZeroDivisionError\u001b[0m                         Traceback (most recent call last)",
            "\u001b[0;32m<ipython-input-25-76e1a9ab9410>\u001b[0m in \u001b[0;36m<module>\u001b[0;34m()\u001b[0m\n\u001b[0;32m----> 1\u001b[0;31m \u001b[0;36m123\u001b[0m \u001b[0;34m/\u001b[0m \u001b[0;36m0\u001b[0m\u001b[0;34m\u001b[0m\u001b[0;34m\u001b[0m\u001b[0m\n\u001b[0m",
            "\u001b[0;31mZeroDivisionError\u001b[0m: division by zero"
          ]
        }
      ]
    },
    {
      "cell_type": "markdown",
      "metadata": {
        "id": "fatty-pilot"
      },
      "source": [
        "### Exceptions and Tracebacks (1 of 3)\n",
        "* Dividing by zero with `/` or `//` is not allowed and results in an **exception**."
      ],
      "id": "fatty-pilot"
    },
    {
      "cell_type": "code",
      "metadata": {
        "colab": {
          "base_uri": "https://localhost:8080/",
          "height": 171
        },
        "id": "velvet-defensive",
        "outputId": "0a7f99c9-15d1-4a8b-b21c-b0fbaeba7baf"
      },
      "source": [
        "123 / 0"
      ],
      "id": "velvet-defensive",
      "execution_count": null,
      "outputs": [
        {
          "output_type": "error",
          "ename": "ZeroDivisionError",
          "evalue": "ignored",
          "traceback": [
            "\u001b[0;31m---------------------------------------------------------------------------\u001b[0m",
            "\u001b[0;31mZeroDivisionError\u001b[0m                         Traceback (most recent call last)",
            "\u001b[0;32m<ipython-input-37-76e1a9ab9410>\u001b[0m in \u001b[0;36m<module>\u001b[0;34m()\u001b[0m\n\u001b[0;32m----> 1\u001b[0;31m \u001b[0;36m123\u001b[0m \u001b[0;34m/\u001b[0m \u001b[0;36m0\u001b[0m\u001b[0;34m\u001b[0m\u001b[0;34m\u001b[0m\u001b[0m\n\u001b[0m",
            "\u001b[0;31mZeroDivisionError\u001b[0m: division by zero"
          ]
        }
      ]
    },
    {
      "cell_type": "markdown",
      "metadata": {
        "id": "nominated-theorem"
      },
      "source": [
        "### Exceptions and Tracebacks (2 of 3)\n",
        "* Exceptions produce **tracebacks**. \n",
        "* The line that begins with `---->` shows the code that caused the exception. \n",
        "* The error message at the bottom of the traceback shows the exception that occurred, followed by a colon (:) and an error message with more information about the exception."
      ],
      "id": "nominated-theorem"
    },
    {
      "cell_type": "markdown",
      "metadata": {
        "id": "killing-catholic"
      },
      "source": [
        "### Exceptions and Tracebacks (3 of 3)\n",
        "* An exception occurs if you try to use a variable that you have not yet created. "
      ],
      "id": "killing-catholic"
    },
    {
      "cell_type": "code",
      "metadata": {
        "colab": {
          "base_uri": "https://localhost:8080/",
          "height": 171
        },
        "id": "searching-newman",
        "outputId": "d4627334-b9bb-45c3-ded6-b55f5d53c5a4"
      },
      "source": [
        "z + 7"
      ],
      "id": "searching-newman",
      "execution_count": null,
      "outputs": [
        {
          "output_type": "error",
          "ename": "NameError",
          "evalue": "ignored",
          "traceback": [
            "\u001b[0;31m---------------------------------------------------------------------------\u001b[0m",
            "\u001b[0;31mNameError\u001b[0m                                 Traceback (most recent call last)",
            "\u001b[0;32m<ipython-input-38-2ca5f6c7aca2>\u001b[0m in \u001b[0;36m<module>\u001b[0;34m()\u001b[0m\n\u001b[0;32m----> 1\u001b[0;31m \u001b[0mz\u001b[0m \u001b[0;34m+\u001b[0m \u001b[0;36m7\u001b[0m\u001b[0;34m\u001b[0m\u001b[0;34m\u001b[0m\u001b[0m\n\u001b[0m",
            "\u001b[0;31mNameError\u001b[0m: name 'z' is not defined"
          ]
        }
      ]
    },
    {
      "cell_type": "code",
      "metadata": {
        "id": "2bEeKDwcnhD6"
      },
      "source": [
        "#habe Variable z nirgends definiert"
      ],
      "id": "2bEeKDwcnhD6",
      "execution_count": null,
      "outputs": []
    },
    {
      "cell_type": "markdown",
      "metadata": {
        "id": "comprehensive-moisture"
      },
      "source": [
        "### Remainder Operator (Modulo)\n",
        "* **Remainder operator (`%`)** yields the remainder after the left operand is divided by the right operand."
      ],
      "id": "comprehensive-moisture"
    },
    {
      "cell_type": "code",
      "metadata": {
        "colab": {
          "base_uri": "https://localhost:8080/"
        },
        "id": "mounted-gathering",
        "outputId": "bed90def-6efa-423d-c3bb-d63e0d2bc94b"
      },
      "source": [
        "7 % 3\r\n",
        "#3 passt 2 mal rein. "
      ],
      "id": "mounted-gathering",
      "execution_count": null,
      "outputs": [
        {
          "output_type": "execute_result",
          "data": {
            "text/plain": [
              "1"
            ]
          },
          "metadata": {
            "tags": []
          },
          "execution_count": 42
        }
      ]
    },
    {
      "cell_type": "code",
      "metadata": {
        "id": "iMvEu_LAoYEL"
      },
      "source": [
        "#die 2 passt vollständig in die 2"
      ],
      "id": "iMvEu_LAoYEL",
      "execution_count": null,
      "outputs": []
    },
    {
      "cell_type": "code",
      "metadata": {
        "colab": {
          "base_uri": "https://localhost:8080/"
        },
        "id": "psychological-mailing",
        "outputId": "0806f18d-1574-4d6f-f00b-74380a7ac3f0"
      },
      "source": [
        "7.5 % 3.5\r\n",
        "#eine gerade Zahl würde immer immer 0 Rest ergeben. Hier geht die 3.5 0.5 mal rein. "
      ],
      "id": "psychological-mailing",
      "execution_count": null,
      "outputs": [
        {
          "output_type": "execute_result",
          "data": {
            "text/plain": [
              "0.5"
            ]
          },
          "metadata": {
            "tags": []
          },
          "execution_count": 41
        }
      ]
    },
    {
      "cell_type": "markdown",
      "metadata": {
        "id": "auburn-summit"
      },
      "source": [
        "### Grouping Expressions with Parentheses\n",
        "* Parentheses group Python expressions, as in algebraic expressions. "
      ],
      "id": "auburn-summit"
    },
    {
      "cell_type": "code",
      "metadata": {
        "id": "impressed-illness"
      },
      "source": [
        "10 * (5 + 3)"
      ],
      "id": "impressed-illness",
      "execution_count": null,
      "outputs": []
    },
    {
      "cell_type": "code",
      "metadata": {
        "id": "third-section"
      },
      "source": [
        "10 * 5 + 3"
      ],
      "id": "third-section",
      "execution_count": null,
      "outputs": []
    },
    {
      "cell_type": "markdown",
      "metadata": {
        "id": "temporal-hindu"
      },
      "source": [
        "### Operator Precedence Rules (1 of 2)\n",
        "* Generally the same as those in algebra:\n",
        "> 1. Expressions in parentheses evaluate first, so parentheses may force the order of evaluation to occur in any sequence you desire. Parentheses have the highest level of precedence. In expressions with **nested parentheses**, such as `(a / (b - c))`, the expression in the _innermost_ parentheses (that is, `b - c`) evaluates first. \n",
        "> 2. Exponentiation operations evaluate next. If an expression contains several exponentiation operations, Python applies them from right to left."
      ],
      "id": "temporal-hindu"
    },
    {
      "cell_type": "markdown",
      "metadata": {
        "id": "marine-conversion"
      },
      "source": [
        "### Operator Precedence Rules (2 of 2)\n",
        "> 3. Multiplication, division and modulus operations evaluate next. If an expression contains several multiplication, true-division, floor-division and modulus operations, Python applies them from left to right. Multiplication, division and modulus are “on the same level of precedence.”\n",
        "> 4. Addition and subtraction operations evaluate last. If an expression contains several addition and subtraction operations, Python applies them from left to right. Addition and subtraction also have the same level of precedence.\n",
        "\n",
        "* [Complete list of operators and their precedence](https://docs.python.org/3/reference/expressions.html#operator-precedence)"
      ],
      "id": "marine-conversion"
    },
    {
      "cell_type": "markdown",
      "metadata": {
        "id": "legal-impossible"
      },
      "source": [
        "### Redundant Parentheses\n",
        "* Can use redundant parentheses to group subexpressions to make an expression clearer. "
      ],
      "id": "legal-impossible"
    },
    {
      "cell_type": "markdown",
      "metadata": {
        "id": "virgin-plain"
      },
      "source": [
        "### Operand Types\n",
        "* If both operands are integers, the result is an integer—**except for the true-division (`/`) operator, which always yields a floating-point number**. \n",
        "* If both operands are floating-point numbers, the result is a floating-point number. \n",
        "* Mixed-type expressions produce floating-point results."
      ],
      "id": "virgin-plain"
    },
    {
      "cell_type": "code",
      "metadata": {
        "colab": {
          "base_uri": "https://localhost:8080/"
        },
        "id": "pressed-assembly",
        "outputId": "fc6862a2-458e-47a0-da41-e2a90ef30b04"
      },
      "source": [
        "type(3 + 4)\r\n",
        "# 2 integers addieren (ganze Zahlen)."
      ],
      "id": "pressed-assembly",
      "execution_count": null,
      "outputs": [
        {
          "output_type": "execute_result",
          "data": {
            "text/plain": [
              "int"
            ]
          },
          "metadata": {
            "tags": []
          },
          "execution_count": 43
        }
      ]
    },
    {
      "cell_type": "code",
      "metadata": {
        "colab": {
          "base_uri": "https://localhost:8080/"
        },
        "id": "diverse-ecuador",
        "outputId": "c0846bbb-af52-4cf3-a500-05dad3eb8a88"
      },
      "source": [
        "type(3.0 + 4)\r\n",
        "#Gleitkommazahl mit ganzer Zahl addieren --> Ergebnis gleitkommazahl, auch wenn es ein int hätte sein können. \r\n"
      ],
      "id": "diverse-ecuador",
      "execution_count": null,
      "outputs": [
        {
          "output_type": "execute_result",
          "data": {
            "text/plain": [
              "float"
            ]
          },
          "metadata": {
            "tags": []
          },
          "execution_count": 44
        }
      ]
    },
    {
      "cell_type": "code",
      "metadata": {
        "colab": {
          "base_uri": "https://localhost:8080/"
        },
        "id": "limiting-freight",
        "outputId": "b5974f34-8ae6-4250-9e24-98c3ba2a14f3"
      },
      "source": [
        "type(12 / 4)\r\n",
        "#gibt ein float. Es ist nicht immer klar, was für Werte man in eine Division reinsteckt. Die Wahrscheinlichkeit ist nämlich hoch, dass keine ganze Zahl rauskommt. "
      ],
      "id": "limiting-freight",
      "execution_count": null,
      "outputs": [
        {
          "output_type": "execute_result",
          "data": {
            "text/plain": [
              "float"
            ]
          },
          "metadata": {
            "tags": []
          },
          "execution_count": 45
        }
      ]
    },
    {
      "cell_type": "code",
      "metadata": {
        "colab": {
          "base_uri": "https://localhost:8080/"
        },
        "id": "funny-level",
        "outputId": "4e379ed5-558c-4a41-af9c-3da73410744a"
      },
      "source": [
        "type(12 // 5)\r\n",
        "#floor division gibt immer den ganzzahligen Anteil vor dem Komma. Es kommt also IMMER ein integer raus. Modulo?"
      ],
      "id": "funny-level",
      "execution_count": null,
      "outputs": [
        {
          "output_type": "execute_result",
          "data": {
            "text/plain": [
              "int"
            ]
          },
          "metadata": {
            "tags": []
          },
          "execution_count": 46
        }
      ]
    },
    {
      "cell_type": "markdown",
      "metadata": {
        "id": "indoor-player"
      },
      "source": [
        "# Time to do a short quiz ... on _menti.com_"
      ],
      "id": "indoor-player"
    },
    {
      "cell_type": "code",
      "metadata": {
        "id": "_5aEctIKq6B4"
      },
      "source": [
        "#Quizfragen:\r\n",
        "#Are these variable names: 3g, Level 6, score_4?\r\n",
        "#Antwort: Nein. Nein, weil eine mit einer Zahl beginnt. \r\n"
      ],
      "id": "_5aEctIKq6B4",
      "execution_count": null,
      "outputs": []
    },
    {
      "cell_type": "code",
      "metadata": {
        "colab": {
          "base_uri": "https://localhost:8080/",
          "height": 207
        },
        "id": "Bnsq9saNr9FA",
        "outputId": "09cf6b96-ed99-4467-a0bf-4c9987ed0bdb"
      },
      "source": [
        "y = 3 + 6 * 2\r\n",
        "y = Y + 3\r\n",
        "print (y)\r\n",
        "#Variablennamen sind case sensitive. Python kennt die Variable nicht. \r\n"
      ],
      "id": "Bnsq9saNr9FA",
      "execution_count": null,
      "outputs": [
        {
          "output_type": "error",
          "ename": "NameError",
          "evalue": "ignored",
          "traceback": [
            "\u001b[0;31m---------------------------------------------------------------------------\u001b[0m",
            "\u001b[0;31mNameError\u001b[0m                                 Traceback (most recent call last)",
            "\u001b[0;32m<ipython-input-49-3637aeef845e>\u001b[0m in \u001b[0;36m<module>\u001b[0;34m()\u001b[0m\n\u001b[1;32m      1\u001b[0m \u001b[0my\u001b[0m \u001b[0;34m=\u001b[0m \u001b[0;36m3\u001b[0m \u001b[0;34m+\u001b[0m \u001b[0;36m6\u001b[0m \u001b[0;34m*\u001b[0m \u001b[0;36m2\u001b[0m\u001b[0;34m\u001b[0m\u001b[0;34m\u001b[0m\u001b[0m\n\u001b[0;32m----> 2\u001b[0;31m \u001b[0my\u001b[0m \u001b[0;34m=\u001b[0m \u001b[0mY\u001b[0m \u001b[0;34m+\u001b[0m \u001b[0;36m3\u001b[0m\u001b[0;34m\u001b[0m\u001b[0;34m\u001b[0m\u001b[0m\n\u001b[0m\u001b[1;32m      3\u001b[0m \u001b[0mprint\u001b[0m \u001b[0;34m(\u001b[0m\u001b[0my\u001b[0m\u001b[0;34m)\u001b[0m\u001b[0;34m\u001b[0m\u001b[0;34m\u001b[0m\u001b[0m\n",
            "\u001b[0;31mNameError\u001b[0m: name 'Y' is not defined"
          ]
        }
      ]
    },
    {
      "cell_type": "markdown",
      "metadata": {
        "id": "generic-moisture"
      },
      "source": [
        "## 2.3 Function `print` and an Intro to Single-and-Double-Quoted Strings\n",
        "* The built-in **`print` function** displays its argument(s) as a line of text "
      ],
      "id": "generic-moisture"
    },
    {
      "cell_type": "code",
      "metadata": {
        "colab": {
          "base_uri": "https://localhost:8080/"
        },
        "id": "equivalent-applicant",
        "outputId": "85b960c0-cc94-4813-b17f-6b3a3f4b3d2a"
      },
      "source": [
        "print('Welcome to Python!')\r\n",
        "#ohne die Gänsefüsschen wäre es ein error: invalid syntax. "
      ],
      "id": "equivalent-applicant",
      "execution_count": null,
      "outputs": [
        {
          "output_type": "stream",
          "text": [
            "Welcome to Python!\n"
          ],
          "name": "stdout"
        }
      ]
    },
    {
      "cell_type": "markdown",
      "metadata": {
        "id": "convinced-stone"
      },
      "source": [
        "* May enclose a string in double quotes (`\"`)."
      ],
      "id": "convinced-stone"
    },
    {
      "cell_type": "code",
      "metadata": {
        "id": "judicial-static"
      },
      "source": [
        "print(\"Welcome to Python!\")"
      ],
      "id": "judicial-static",
      "execution_count": null,
      "outputs": []
    },
    {
      "cell_type": "markdown",
      "metadata": {
        "id": "painted-wrist"
      },
      "source": [
        "* Python programmers generally prefer single quotes. \n",
        "* When `print` completes its task, it positions the screen cursor at the beginning of the next line. "
      ],
      "id": "painted-wrist"
    },
    {
      "cell_type": "markdown",
      "metadata": {
        "id": "loose-awareness"
      },
      "source": [
        "### Printing a Comma-Separated List of Items"
      ],
      "id": "loose-awareness"
    },
    {
      "cell_type": "code",
      "metadata": {
        "colab": {
          "base_uri": "https://localhost:8080/"
        },
        "id": "general-belief",
        "outputId": "c3800654-5d22-422e-a92b-ae33d18baa97"
      },
      "source": [
        "print('Welcome', 'to', 'Python!')"
      ],
      "id": "general-belief",
      "execution_count": null,
      "outputs": [
        {
          "output_type": "stream",
          "text": [
            "Welcome to Python!\n"
          ],
          "name": "stdout"
        }
      ]
    },
    {
      "cell_type": "markdown",
      "metadata": {
        "id": "respective-apartment"
      },
      "source": [
        "* Displays each argument separated from the next by a space."
      ],
      "id": "respective-apartment"
    },
    {
      "cell_type": "markdown",
      "metadata": {
        "id": "desperate-aside"
      },
      "source": [
        "### Printing Many Lines of Text with One Statement\n",
        "* A backslash (`\\`) in a string is the **escape character**. \n",
        "* The backslash and the character immediately following it form an **escape sequence**. \n",
        "* `\\n` represents the **newline character** escape sequence, which tells `print` to move the output cursor to the next line. "
      ],
      "id": "desperate-aside"
    },
    {
      "cell_type": "code",
      "metadata": {
        "colab": {
          "base_uri": "https://localhost:8080/"
        },
        "id": "embedded-large",
        "outputId": "6027cf6d-3ca2-4e2f-8d4e-c22b1b7fedf7"
      },
      "source": [
        "print(\"Welcome\\nto\\n\\n\\\"Python!\\\"\")\r\n",
        "\r\n",
        "print('Welcome\\\"\"Python!\"')\r\n",
        "#aber nutze nie single quotes und double quotes anführungszeichen. Python muss unterscheiden können, welche für was gelten. Mit backslash geht es. "
      ],
      "id": "embedded-large",
      "execution_count": null,
      "outputs": [
        {
          "output_type": "stream",
          "text": [
            "Welcome\n",
            "to\n",
            "\n",
            "\"Python!\"\n",
            "Welcome\"\"Python!\"\n"
          ],
          "name": "stdout"
        }
      ]
    },
    {
      "cell_type": "markdown",
      "metadata": {
        "id": "popular-cabinet"
      },
      "source": [
        "### Other Escape Sequences\n",
        "| Escape sequence | Description\n",
        "| :------- | :------------\n",
        "| `\\n` | Insert a newline character in a string. When the string is displayed, for each newline, move the screen cursor to the beginning of the next line. \n",
        "| `\\t` | Insert a horizontal tab. When the string is displayed, for each tab, move the screen cursor to the next tab stop. \n",
        "| `\\\\` | Insert a backslash character in a string.\n",
        "| `\\\"` | Insert a double quote character in a string.\n",
        "| `\\'` | Insert a single quote character in a string."
      ],
      "id": "popular-cabinet"
    },
    {
      "cell_type": "markdown",
      "metadata": {
        "id": "powered-history"
      },
      "source": [
        "### Ignoring a Line Break in a Long String\n",
        "* Can split a long string (or a long statement) over several lines by using the **\\ continuation character** as the last character on a line to ignore the line break."
      ],
      "id": "powered-history"
    },
    {
      "cell_type": "code",
      "metadata": {
        "colab": {
          "base_uri": "https://localhost:8080/",
          "height": 134
        },
        "id": "owned-denmark",
        "outputId": "c24b0090-0a8e-4698-e7da-4726ecec525a"
      },
      "source": [
        "print('this is a longer string \\ so we \n",
        "split it over two lines')\n",
        "#strings über mehrere Zeilen verteilen. "
      ],
      "id": "owned-denmark",
      "execution_count": null,
      "outputs": [
        {
          "output_type": "error",
          "ename": "SyntaxError",
          "evalue": "ignored",
          "traceback": [
            "\u001b[0;36m  File \u001b[0;32m\"<ipython-input-8-a74cb1da72a7>\"\u001b[0;36m, line \u001b[0;32m1\u001b[0m\n\u001b[0;31m    print('this is a longer string \\ so we\u001b[0m\n\u001b[0m                                           ^\u001b[0m\n\u001b[0;31mSyntaxError\u001b[0m\u001b[0;31m:\u001b[0m EOL while scanning string literal\n"
          ]
        }
      ]
    },
    {
      "cell_type": "markdown",
      "metadata": {
        "id": "national-bernard"
      },
      "source": [
        "* In this case, `\\` is not the escape character because another character does not follow it."
      ],
      "id": "national-bernard"
    },
    {
      "cell_type": "markdown",
      "metadata": {
        "id": "designed-validation"
      },
      "source": [
        "### Printing the Value of an Expression"
      ],
      "id": "designed-validation"
    },
    {
      "cell_type": "code",
      "metadata": {
        "colab": {
          "base_uri": "https://localhost:8080/"
        },
        "id": "indian-surface",
        "outputId": "c4c33fec-8e11-49f3-c663-d8f6cd229d58"
      },
      "source": [
        "print('Sum is', '7 + 3', 'oder was?')"
      ],
      "id": "indian-surface",
      "execution_count": null,
      "outputs": [
        {
          "output_type": "stream",
          "text": [
            "Sum is 7 + 3 oder was?\n"
          ],
          "name": "stdout"
        }
      ]
    },
    {
      "cell_type": "markdown",
      "metadata": {
        "id": "indie-merchandise"
      },
      "source": [
        "## 2.4 Triple-Quoted Strings\n",
        "* Delimited by **`\"\"\"`** or **`'''`**, but the _Style Guide for Python Code_ recommends **`\"\"\"`**. \n",
        "* Used for:\n",
        "    * multiline strings\n",
        "    * strings containing single or double quotes\n",
        "    * **docstrings**&mdash;the recommended way to document the purposes of certain program components. "
      ],
      "id": "indie-merchandise"
    },
    {
      "cell_type": "code",
      "metadata": {
        "id": "m-czPdSCqphB"
      },
      "source": [
        "#python ourccode. Am Anfang docstring: Worum geht's im file? Beschreibung unseres codes, die automatisiert ausgewertet werden kann. Triple quoted strings. "
      ],
      "id": "m-czPdSCqphB",
      "execution_count": null,
      "outputs": []
    },
    {
      "cell_type": "markdown",
      "metadata": {
        "id": "searching-europe"
      },
      "source": [
        "### Including Quotes in Strings (1 of 3)\n",
        "* A string delimited by single quotes may include double-quote characters, but not single quotes, unless you use the `\\'` escape sequence."
      ],
      "id": "searching-europe"
    },
    {
      "cell_type": "code",
      "metadata": {
        "id": "graduate-accuracy"
      },
      "source": [
        "print('Display \"hi\" in quotes')"
      ],
      "id": "graduate-accuracy",
      "execution_count": null,
      "outputs": []
    },
    {
      "cell_type": "code",
      "metadata": {
        "colab": {
          "base_uri": "https://localhost:8080/",
          "height": 134
        },
        "id": "weighted-microphone",
        "outputId": "8cb60445-e3e4-48dd-82e9-93f2801b4360"
      },
      "source": [
        "print('Display 'hi' in quotes')"
      ],
      "id": "weighted-microphone",
      "execution_count": null,
      "outputs": [
        {
          "output_type": "error",
          "ename": "SyntaxError",
          "evalue": "ignored",
          "traceback": [
            "\u001b[0;36m  File \u001b[0;32m\"<ipython-input-12-19bf596ccf72>\"\u001b[0;36m, line \u001b[0;32m1\u001b[0m\n\u001b[0;31m    print('Display 'hi' in quotes')\u001b[0m\n\u001b[0m                     ^\u001b[0m\n\u001b[0;31mSyntaxError\u001b[0m\u001b[0;31m:\u001b[0m invalid syntax\n"
          ]
        }
      ]
    },
    {
      "cell_type": "code",
      "metadata": {
        "colab": {
          "base_uri": "https://localhost:8080/"
        },
        "id": "unusual-admission",
        "outputId": "b9765eb7-ecc5-4429-cff6-0166ed36849d"
      },
      "source": [
        "print('Display \\'hi\\' in quotes')\r\n",
        "#per backslash gesagt, das ist ein single quote"
      ],
      "id": "unusual-admission",
      "execution_count": null,
      "outputs": [
        {
          "output_type": "stream",
          "text": [
            "Display 'hi' in quotes\n"
          ],
          "name": "stdout"
        }
      ]
    },
    {
      "cell_type": "markdown",
      "metadata": {
        "id": "liable-pressing"
      },
      "source": [
        "### Including Quotes in Strings (2 of 3)\n",
        "* A string delimited by double quotes may include single quote characters, but not double quotes, unless you use the `\\\"` escape sequence."
      ],
      "id": "liable-pressing"
    },
    {
      "cell_type": "code",
      "metadata": {
        "id": "painful-course"
      },
      "source": [
        "print(\"Display the name O'Brien\")"
      ],
      "id": "painful-course",
      "execution_count": null,
      "outputs": []
    },
    {
      "cell_type": "code",
      "metadata": {
        "id": "literary-awareness",
        "colab": {
          "base_uri": "https://localhost:8080/"
        },
        "outputId": "5b270c26-242d-4a77-8f2c-6e7d9da8b62c"
      },
      "source": [
        "print(\"Display \\\"hi\\\" in quotes\")"
      ],
      "id": "literary-awareness",
      "execution_count": null,
      "outputs": [
        {
          "output_type": "stream",
          "text": [
            "Display \"hi\" in quotes\n"
          ],
          "name": "stdout"
        }
      ]
    },
    {
      "cell_type": "markdown",
      "metadata": {
        "id": "ordered-storage"
      },
      "source": [
        "### Including Quotes in Strings (3 of 3)\n",
        "* Triple-quoted strings may contain both single and double quotes."
      ],
      "id": "ordered-storage"
    },
    {
      "cell_type": "code",
      "metadata": {
        "id": "continued-oriental",
        "colab": {
          "base_uri": "https://localhost:8080/"
        },
        "outputId": "e7af9e75-7e11-4fa1-a810-6b1be0f3a3c3"
      },
      "source": [
        "print(\"\"\"Display \"hi\" and 'bye' in quotes\"\"\")"
      ],
      "id": "continued-oriental",
      "execution_count": null,
      "outputs": [
        {
          "output_type": "stream",
          "text": [
            "Display \"hi\" and 'bye' in quotes\n"
          ],
          "name": "stdout"
        }
      ]
    },
    {
      "cell_type": "markdown",
      "metadata": {
        "id": "ongoing-sally"
      },
      "source": [
        "### Multiline Strings (1 of 2)"
      ],
      "id": "ongoing-sally"
    },
    {
      "cell_type": "code",
      "metadata": {
        "id": "lesbian-mailman"
      },
      "source": [
        "triple_quoted_string = \"\"\"This is a triple-quoted\n",
        "string that spans two lines\"\"\"\n"
      ],
      "id": "lesbian-mailman",
      "execution_count": null,
      "outputs": []
    },
    {
      "cell_type": "markdown",
      "metadata": {
        "id": "recent-drunk"
      },
      "source": [
        "* IPython knows that the string is incomplete because we did not type the closing `\"\"\"` before we pressed _Enter_. \n",
        "* IPython displays a **continuation prompt `...:`** at which you can input the multiline string’s next line. \n",
        "* This continues until you enter the ending `\"\"\"` and press _Enter_. "
      ],
      "id": "recent-drunk"
    },
    {
      "cell_type": "markdown",
      "metadata": {
        "id": "described-tooth"
      },
      "source": [
        "### Multiline Strings (2 of 2)"
      ],
      "id": "described-tooth"
    },
    {
      "cell_type": "code",
      "metadata": {
        "colab": {
          "base_uri": "https://localhost:8080/"
        },
        "id": "comparative-robertson",
        "outputId": "e18a6411-376b-4e80-bf78-139ae1fe55d8"
      },
      "source": [
        "triple_quoted_string = \"\"\"This is a triple-quoted\r\n",
        "string that spans two lines\"\"\"\r\n",
        "\r\n",
        "print(triple_quoted_string)"
      ],
      "id": "comparative-robertson",
      "execution_count": null,
      "outputs": [
        {
          "output_type": "stream",
          "text": [
            "This is a triple-quoted\n",
            "string that spans two lines\n"
          ],
          "name": "stdout"
        }
      ]
    },
    {
      "cell_type": "markdown",
      "metadata": {
        "id": "threatened-resistance"
      },
      "source": [
        "* Python stores multiline strings with embedded newline characters."
      ],
      "id": "threatened-resistance"
    },
    {
      "cell_type": "code",
      "metadata": {
        "colab": {
          "base_uri": "https://localhost:8080/",
          "height": 36
        },
        "id": "blind-slovakia",
        "outputId": "2cf3cd01-7d33-4f43-c23a-400558fa4a19"
      },
      "source": [
        "triple_quoted_string\r\n",
        "\r\n",
        "#backslash n sagt: Zeilenumbruch rein."
      ],
      "id": "blind-slovakia",
      "execution_count": null,
      "outputs": [
        {
          "output_type": "execute_result",
          "data": {
            "application/vnd.google.colaboratory.intrinsic+json": {
              "type": "string"
            },
            "text/plain": [
              "'This is a triple-quoted\\nstring that spans two lines'"
            ]
          },
          "metadata": {
            "tags": []
          },
          "execution_count": 18
        }
      ]
    },
    {
      "cell_type": "markdown",
      "metadata": {
        "id": "generous-witch"
      },
      "source": [
        "## 2.5 Getting Input from the User\n",
        "* Built-in **`input` function** requests and obtains user input."
      ],
      "id": "generous-witch"
    },
    {
      "cell_type": "code",
      "metadata": {
        "colab": {
          "background_save": true
        },
        "id": "UWqTMoDnsMBs"
      },
      "source": [
        "#advanced TR nutzen. Quadratwurzel aus 9: Math bibliothek, square route funktion. "
      ],
      "id": "UWqTMoDnsMBs",
      "execution_count": null,
      "outputs": []
    },
    {
      "cell_type": "code",
      "metadata": {
        "colab": {
          "base_uri": "https://localhost:8080/"
        },
        "id": "governing-single",
        "outputId": "49850be8-9461-4192-efd5-a2ac5fe58ac9"
      },
      "source": [
        "name = input(\"What is your name? \")"
      ],
      "id": "governing-single",
      "execution_count": null,
      "outputs": [
        {
          "output_type": "stream",
          "text": [
            "What is your name? Cecile\n"
          ],
          "name": "stdout"
        }
      ]
    },
    {
      "cell_type": "code",
      "metadata": {
        "id": "drawn-reliance"
      },
      "source": [
        ""
      ],
      "id": "drawn-reliance",
      "execution_count": null,
      "outputs": []
    },
    {
      "cell_type": "code",
      "metadata": {
        "colab": {
          "base_uri": "https://localhost:8080/"
        },
        "id": "floating-abuse",
        "outputId": "9743802e-96c2-426f-e269-b38fbde6ec15"
      },
      "source": [
        "print(name)"
      ],
      "id": "floating-abuse",
      "execution_count": null,
      "outputs": [
        {
          "output_type": "stream",
          "text": [
            "Cecile\n"
          ],
          "name": "stdout"
        }
      ]
    },
    {
      "cell_type": "markdown",
      "metadata": {
        "id": "opening-supplement"
      },
      "source": [
        "* If you enter quotes, they’re input as part of the string."
      ],
      "id": "opening-supplement"
    },
    {
      "cell_type": "code",
      "metadata": {
        "id": "sought-while",
        "colab": {
          "base_uri": "https://localhost:8080/"
        },
        "outputId": "f8b771ef-8a6e-4c09-81bc-ca64136c83c0"
      },
      "source": [
        "name = input(\"What's your name? \")"
      ],
      "id": "sought-while",
      "execution_count": null,
      "outputs": [
        {
          "output_type": "stream",
          "text": [
            "What's your name? Cecile\n"
          ],
          "name": "stdout"
        }
      ]
    },
    {
      "cell_type": "code",
      "metadata": {
        "id": "approved-citizen",
        "colab": {
          "base_uri": "https://localhost:8080/",
          "height": 36
        },
        "outputId": "734af746-e075-4700-f91e-a9731af3ad71"
      },
      "source": [
        "name"
      ],
      "id": "approved-citizen",
      "execution_count": null,
      "outputs": [
        {
          "output_type": "execute_result",
          "data": {
            "application/vnd.google.colaboratory.intrinsic+json": {
              "type": "string"
            },
            "text/plain": [
              "'Cecile'"
            ]
          },
          "metadata": {
            "tags": []
          },
          "execution_count": 32
        }
      ]
    },
    {
      "cell_type": "code",
      "metadata": {
        "id": "taken-transcription",
        "colab": {
          "base_uri": "https://localhost:8080/"
        },
        "outputId": "ba82dcbe-4c27-47f7-c57d-b13e46a857fd"
      },
      "source": [
        "print(name)"
      ],
      "id": "taken-transcription",
      "execution_count": null,
      "outputs": [
        {
          "output_type": "stream",
          "text": [
            "Cecile\n"
          ],
          "name": "stdout"
        }
      ]
    },
    {
      "cell_type": "markdown",
      "metadata": {
        "id": "veterinary-bolivia"
      },
      "source": [
        "### Function `input` Always Returns a String"
      ],
      "id": "veterinary-bolivia"
    },
    {
      "cell_type": "code",
      "metadata": {
        "id": "finite-hostel",
        "colab": {
          "base_uri": "https://localhost:8080/"
        },
        "outputId": "8ff6cba8-c7a2-4e43-eb71-a3d2e8deccbb"
      },
      "source": [
        "value1 = input('Enter first number: ')"
      ],
      "id": "finite-hostel",
      "execution_count": null,
      "outputs": [
        {
          "output_type": "stream",
          "text": [
            "Enter first number: 7\n"
          ],
          "name": "stdout"
        }
      ]
    },
    {
      "cell_type": "code",
      "metadata": {
        "id": "conditional-senior",
        "colab": {
          "base_uri": "https://localhost:8080/"
        },
        "outputId": "3cb06de2-b6da-41aa-9f73-f0cd14bdb69d"
      },
      "source": [
        "value2 = input('Enter second number: ')"
      ],
      "id": "conditional-senior",
      "execution_count": null,
      "outputs": [
        {
          "output_type": "stream",
          "text": [
            "Enter second number: 3\n"
          ],
          "name": "stdout"
        }
      ]
    },
    {
      "cell_type": "code",
      "metadata": {
        "id": "honest-perspective",
        "colab": {
          "base_uri": "https://localhost:8080/",
          "height": 36
        },
        "outputId": "8f0f0093-d322-45db-8503-937b46651da6"
      },
      "source": [
        "value1 + value2"
      ],
      "id": "honest-perspective",
      "execution_count": null,
      "outputs": [
        {
          "output_type": "execute_result",
          "data": {
            "application/vnd.google.colaboratory.intrinsic+json": {
              "type": "string"
            },
            "text/plain": [
              "'73'"
            ]
          },
          "metadata": {
            "tags": []
          },
          "execution_count": 38
        }
      ]
    },
    {
      "cell_type": "code",
      "metadata": {
        "id": "Lic3LqBVxL_l"
      },
      "source": [
        "#die addition hat die beiden strings verkettet. Weil value 1 + value 2. Arithmetisch nicht korrekt."
      ],
      "id": "Lic3LqBVxL_l",
      "execution_count": null,
      "outputs": []
    },
    {
      "cell_type": "markdown",
      "metadata": {
        "id": "mediterranean-algeria"
      },
      "source": [
        "* Python “adds” the _string_ values `'7'` and `'3'`, producing the _string_ `'73'`. \n",
        "* Known as **string concatenation**. "
      ],
      "id": "mediterranean-algeria"
    },
    {
      "cell_type": "markdown",
      "metadata": {
        "id": "resident-sunglasses"
      },
      "source": [
        "### Getting an Integer from the User\n",
        "* If you need an integer, convert the string to an integer using the built-in **`int` function**. "
      ],
      "id": "resident-sunglasses"
    },
    {
      "cell_type": "code",
      "metadata": {
        "id": "together-symbol",
        "colab": {
          "base_uri": "https://localhost:8080/"
        },
        "outputId": "ede9cf9e-2b4e-43fb-9aa0-25c7c34e085f"
      },
      "source": [
        "value = input('Enter an integer: ')"
      ],
      "id": "together-symbol",
      "execution_count": null,
      "outputs": [
        {
          "output_type": "stream",
          "text": [
            "Enter an integer: 10\n"
          ],
          "name": "stdout"
        }
      ]
    },
    {
      "cell_type": "code",
      "metadata": {
        "id": "aware-coach"
      },
      "source": [
        "value = int(value)\r\n",
        "\r\n",
        "#nimmt argument entgegen."
      ],
      "id": "aware-coach",
      "execution_count": null,
      "outputs": []
    },
    {
      "cell_type": "code",
      "metadata": {
        "id": "recreational-weight",
        "colab": {
          "base_uri": "https://localhost:8080/"
        },
        "outputId": "90baf438-b81f-4f7a-9b1c-f77b67684ded"
      },
      "source": [
        "value\r\n",
        "\r\n",
        "#wenn ich 43 nicht mach, kommt es mit gänsefüsschen."
      ],
      "id": "recreational-weight",
      "execution_count": null,
      "outputs": [
        {
          "output_type": "execute_result",
          "data": {
            "text/plain": [
              "10"
            ]
          },
          "metadata": {
            "tags": []
          },
          "execution_count": 54
        }
      ]
    },
    {
      "cell_type": "markdown",
      "metadata": {
        "id": "illegal-christian"
      },
      "source": [
        "* Can combine `int` and `input` in one statement."
      ],
      "id": "illegal-christian"
    },
    {
      "cell_type": "code",
      "metadata": {
        "id": "fatty-marking",
        "colab": {
          "base_uri": "https://localhost:8080/"
        },
        "outputId": "577a2ba5-dbb3-4669-f404-92e04ee01e56"
      },
      "source": [
        "another_value = int(input('Enter another integer: '))\r\n",
        "\r\n",
        "#von innen nach aussen ausklammern. "
      ],
      "id": "fatty-marking",
      "execution_count": null,
      "outputs": [
        {
          "output_type": "stream",
          "text": [
            "Enter another integer: 27\n"
          ],
          "name": "stdout"
        }
      ]
    },
    {
      "cell_type": "code",
      "metadata": {
        "id": "relevant-spiritual",
        "colab": {
          "base_uri": "https://localhost:8080/"
        },
        "outputId": "6fba9740-2fc3-4977-97b4-67c99932ba82"
      },
      "source": [
        "another_value"
      ],
      "id": "relevant-spiritual",
      "execution_count": null,
      "outputs": [
        {
          "output_type": "execute_result",
          "data": {
            "text/plain": [
              "27"
            ]
          },
          "metadata": {
            "tags": []
          },
          "execution_count": 56
        }
      ]
    },
    {
      "cell_type": "code",
      "metadata": {
        "id": "functioning-television",
        "colab": {
          "base_uri": "https://localhost:8080/"
        },
        "outputId": "2f26eec3-c40c-4a08-cf9a-defa1703cb88"
      },
      "source": [
        "value + another_value\r\n",
        "\r\n",
        "#vorhin stand 10 im value. "
      ],
      "id": "functioning-television",
      "execution_count": null,
      "outputs": [
        {
          "output_type": "execute_result",
          "data": {
            "text/plain": [
              "37"
            ]
          },
          "metadata": {
            "tags": []
          },
          "execution_count": 57
        }
      ]
    },
    {
      "cell_type": "markdown",
      "metadata": {
        "id": "opposite-donor"
      },
      "source": [
        "* If the string passed to `int` cannot be converted to an integer, a `ValueError` occurs."
      ],
      "id": "opposite-donor"
    },
    {
      "cell_type": "code",
      "metadata": {
        "id": "successful-blink",
        "colab": {
          "base_uri": "https://localhost:8080/"
        },
        "outputId": "ea93c12e-5862-4363-a5a4-5756255244c4"
      },
      "source": [
        "bad_value = int(input('Enter another integer: '))"
      ],
      "id": "successful-blink",
      "execution_count": null,
      "outputs": [
        {
          "output_type": "stream",
          "text": [
            "Enter another integer: 10\n"
          ],
          "name": "stdout"
        }
      ]
    },
    {
      "cell_type": "markdown",
      "metadata": {
        "id": "rising-poison"
      },
      "source": [
        "* Function `int` also can convert a floating-point value to an integer."
      ],
      "id": "rising-poison"
    },
    {
      "cell_type": "code",
      "metadata": {
        "id": "permanent-depression",
        "scrolled": false,
        "colab": {
          "base_uri": "https://localhost:8080/"
        },
        "outputId": "b5571539-59ef-40f6-ae15-6f4e102915f8"
      },
      "source": [
        "int(-10.5)"
      ],
      "id": "permanent-depression",
      "execution_count": null,
      "outputs": [
        {
          "output_type": "execute_result",
          "data": {
            "text/plain": [
              "-10"
            ]
          },
          "metadata": {
            "tags": []
          },
          "execution_count": 62
        }
      ]
    },
    {
      "cell_type": "code",
      "metadata": {
        "id": "controlling-banking",
        "colab": {
          "base_uri": "https://localhost:8080/"
        },
        "outputId": "29b94915-bdcd-43ae-e67d-d924df2d0458"
      },
      "source": [
        "round(-10.6)"
      ],
      "id": "controlling-banking",
      "execution_count": null,
      "outputs": [
        {
          "output_type": "execute_result",
          "data": {
            "text/plain": [
              "-11"
            ]
          },
          "metadata": {
            "tags": []
          },
          "execution_count": 63
        }
      ]
    },
    {
      "cell_type": "markdown",
      "metadata": {
        "id": "painted-router"
      },
      "source": [
        "# Time to do a short quiz ... on _menti.com_"
      ],
      "id": "painted-router"
    },
    {
      "cell_type": "code",
      "metadata": {
        "colab": {
          "base_uri": "https://localhost:8080/"
        },
        "id": "-CoAdriVzkOM",
        "outputId": "e7d35837-1d4e-4ae7-95e9-04c3d8e4ffb3"
      },
      "source": [
        "#What is the output of#\r\n",
        "\r\n",
        "print ((float('6.2') + int(3.3)))\r\n",
        "\r\n",
        " #antwort: 9,2: float wandelt es in gleitkommazahl um. 3.3 in integer umwandeln gibt 3. --> = 9.2 Ergebnis ist ein string: 9.2. "
      ],
      "id": "-CoAdriVzkOM",
      "execution_count": null,
      "outputs": [
        {
          "output_type": "stream",
          "text": [
            "9.2\n"
          ],
          "name": "stdout"
        }
      ]
    },
    {
      "cell_type": "code",
      "metadata": {
        "id": "nQLSgrCS1AUm"
      },
      "source": [
        ""
      ],
      "id": "nQLSgrCS1AUm",
      "execution_count": null,
      "outputs": []
    },
    {
      "cell_type": "markdown",
      "metadata": {
        "id": "alert-finger"
      },
      "source": [
        "## 2.6 Decision Making: The if Statement and Comparison Operators\n",
        "* A **condition** is a Boolean expression with the value **`True`** or **`False`**. "
      ],
      "id": "alert-finger"
    },
    {
      "cell_type": "code",
      "metadata": {
        "id": "offshore-manner",
        "colab": {
          "base_uri": "https://localhost:8080/"
        },
        "outputId": "071aeed6-82cc-488b-a53d-302c4e22dc41"
      },
      "source": [
        "7 > 4"
      ],
      "id": "offshore-manner",
      "execution_count": null,
      "outputs": [
        {
          "output_type": "execute_result",
          "data": {
            "text/plain": [
              "True"
            ]
          },
          "metadata": {
            "tags": []
          },
          "execution_count": 68
        }
      ]
    },
    {
      "cell_type": "code",
      "metadata": {
        "id": "faced-lemon",
        "colab": {
          "base_uri": "https://localhost:8080/"
        },
        "outputId": "07b78cad-7bd2-4541-e469-bd54cf7eeb4f"
      },
      "source": [
        "7 < 4"
      ],
      "id": "faced-lemon",
      "execution_count": null,
      "outputs": [
        {
          "output_type": "execute_result",
          "data": {
            "text/plain": [
              "False"
            ]
          },
          "metadata": {
            "tags": []
          },
          "execution_count": 69
        }
      ]
    },
    {
      "cell_type": "markdown",
      "metadata": {
        "id": "responsible-procurement"
      },
      "source": [
        "Algebraic operator | Python operator | Sample condition | Meaning \n",
        ":---- | :---- | :---- | :----\n",
        "&gt;  | `>` | `x > y` | `x` is greater than `y`\n",
        "&lt;  | `<` | `x < y` | `x` is less than `y`\n",
        "&ge; | `>=` | `x >= y` | `x` is greater than or equal to `y`\n",
        "&le; | `<=` | `x <= y` | `x` is less than or equal to `y`\n",
        "= | `==` | `x == y` | `x` is equal to `y`\n",
        "&ne; | `!=` | `x != y` | `x` is not equal to `y`\n",
        "\n",
        "* Operators `>`, `<`, `>=` and `<=` have the same precedence. \n",
        "* Operators `==` and `!=` have the same precedence, which is lower than `>`, `<`, `>=` and `<=`. "
      ],
      "id": "responsible-procurement"
    },
    {
      "cell_type": "markdown",
      "metadata": {
        "id": "visible-military"
      },
      "source": [
        "* It's a syntax error when any of the operators `==`, `!=`, `>=` and `<=` contains spaces between its pair of symbols."
      ],
      "id": "visible-military"
    },
    {
      "cell_type": "code",
      "metadata": {
        "id": "handy-distributor",
        "colab": {
          "base_uri": "https://localhost:8080/",
          "height": 134
        },
        "outputId": "3897badd-7563-4e58-8f75-de4554d936c5"
      },
      "source": [
        "7 > = 4\r\n",
        "\r\n",
        "#falsch wegen abstand"
      ],
      "id": "handy-distributor",
      "execution_count": null,
      "outputs": [
        {
          "output_type": "error",
          "ename": "SyntaxError",
          "evalue": "ignored",
          "traceback": [
            "\u001b[0;36m  File \u001b[0;32m\"<ipython-input-72-91c38bef7921>\"\u001b[0;36m, line \u001b[0;32m1\u001b[0m\n\u001b[0;31m    7 > = 4\u001b[0m\n\u001b[0m        ^\u001b[0m\n\u001b[0;31mSyntaxError\u001b[0m\u001b[0;31m:\u001b[0m invalid syntax\n"
          ]
        }
      ]
    },
    {
      "cell_type": "markdown",
      "metadata": {
        "id": "fewer-process"
      },
      "source": [
        "### Making Decisions with the if Statement: Introducing Scripts\n",
        "* The **`if` statement** uses a condition to decide whether to execute a statement (or a group of statements). \n",
        "* We’ll read two integers from the user and compare them using six consecutive `if` statements, one for each comparison operator. \n",
        "* When you have many statements to execute as a group, you typically write them as a **script** stored in a file with the `.py` (short for Python) extension. "
      ],
      "id": "fewer-process"
    },
    {
      "cell_type": "markdown",
      "metadata": {
        "id": "revised-pharmacy"
      },
      "source": [
        "* To run this example, change to the folder containg the file `fig02_01.py`, then enter:\n",
        ">```\n",
        "ipython fig02_01.py\n",
        "```\n",
        "* In IPython interactive mode or in JupyterLab, you can use the command:\n",
        ">```\n",
        "run fig02_01.py\n",
        "```"
      ],
      "id": "revised-pharmacy"
    },
    {
      "cell_type": "markdown",
      "metadata": {
        "id": "covered-reference"
      },
      "source": [
        "```python \n",
        "# fig02_01.py\n",
        "\"\"\"Comparing integers using if statements and comparison operators.\"\"\"\n",
        "\n",
        "#vergleicht mit if statement. Zwei integer eingeben und vergleichen\n",
        "\n",
        "\n",
        "print('Enter two integers, and I will tell you',\n",
        "      'the relationships they satisfy.')\n",
        "\n",
        "# read first integer\n",
        "number1 = int(input('Enter first integer: '))\n",
        "\n",
        "# read second integer\n",
        "number2 = int(input('Enter second integer: '))\n",
        "\n",
        "if number1 == number2:\n",
        "    print(number1, 'is equal to', number2)\n",
        "\n",
        "    #wenn es fehlschlägt, ist das nächste vlt. ausführbar usw. Er prüft nacheinander alle vergleichsoperationen, ob die bedingung irgendwo wahr ist.\n",
        "\n",
        "if number1 != number2:\n",
        "    print(number1, 'is not equal to', number2)\n",
        "\n",
        "if number1 < number2:\n",
        "    print(number1, 'is less than', number2)\n",
        "\n",
        "if number1 > number2:\n",
        "    print(number1, 'is greater than', number2)\n",
        "\n",
        "if number1 <= number2:\n",
        "    print(number1, 'is less than or equal to', number2)\n",
        "\n",
        "if number1 >= number2:\n",
        "    print(number1, 'is greater than or equal to', number2)\n",
        "```"
      ],
      "id": "covered-reference"
    },
    {
      "cell_type": "markdown",
      "metadata": {
        "id": "dominican-collective"
      },
      "source": [
        "* Enter `37` and `42`"
      ],
      "id": "dominican-collective"
    },
    {
      "cell_type": "code",
      "metadata": {
        "id": "contained-words",
        "scrolled": true,
        "colab": {
          "base_uri": "https://localhost:8080/"
        },
        "outputId": "95880fd8-b1e9-4364-bf1d-4fd736dacc23"
      },
      "source": [
        " run fig02_01.py"
      ],
      "id": "contained-words",
      "execution_count": null,
      "outputs": [
        {
          "output_type": "stream",
          "text": [
            "ERROR:root:File `'fig02_01.py'` not found.\n"
          ],
          "name": "stderr"
        }
      ]
    },
    {
      "cell_type": "markdown",
      "metadata": {
        "id": "frequent-commission"
      },
      "source": [
        "* Enter `7` and `7`"
      ],
      "id": "frequent-commission"
    },
    {
      "cell_type": "code",
      "metadata": {
        "id": "skilled-foster",
        "scrolled": true,
        "colab": {
          "base_uri": "https://localhost:8080/"
        },
        "outputId": "8084f9a6-5509-4881-fdb9-d1d1eb1e1b75"
      },
      "source": [
        " run fig02_01.py"
      ],
      "id": "skilled-foster",
      "execution_count": null,
      "outputs": [
        {
          "output_type": "stream",
          "text": [
            "ERROR:root:File `'fig02_01.py'` not found.\n"
          ],
          "name": "stderr"
        }
      ]
    },
    {
      "cell_type": "markdown",
      "metadata": {
        "id": "front-chain"
      },
      "source": [
        "* Enter `54` and `17`"
      ],
      "id": "front-chain"
    },
    {
      "cell_type": "code",
      "metadata": {
        "id": "proprietary-discovery"
      },
      "source": [
        "run fig02_01.py"
      ],
      "id": "proprietary-discovery",
      "execution_count": null,
      "outputs": []
    },
    {
      "cell_type": "markdown",
      "metadata": {
        "id": "cubic-aquatic"
      },
      "source": [
        "### Comments\n",
        "* The hash character (**`#`**) indicates that the rest of the line is a **comment**.\n",
        "* We begin each script with a comment indicating the script’s file name. \n",
        "* A comment also can begin to the right of the code on a given line and continue until the end of that line.  "
      ],
      "id": "cubic-aquatic"
    },
    {
      "cell_type": "markdown",
      "metadata": {
        "id": "insured-hydrogen"
      },
      "source": [
        "### Docstrings\n",
        "* The _Style Guide for Python Code_ says each script should start with a docstring that explains the script’s purpose.\n",
        "* Often spans many lines for more complex scripts. "
      ],
      "id": "insured-hydrogen"
    },
    {
      "cell_type": "markdown",
      "metadata": {
        "id": "choice-booth"
      },
      "source": [
        "### Blank Lines\n",
        "* Blank lines and space characters to make code easier to read. \n",
        "* Together, blank lines, space characters and tab characters are known as **white space**. \n",
        "* Python ignores most white space."
      ],
      "id": "choice-booth"
    },
    {
      "cell_type": "markdown",
      "metadata": {
        "id": "underlying-girlfriend"
      },
      "source": [
        "### Splitting a Lengthy Statement Across Lines\n",
        "* Typically, you write statements on one line. \n",
        "* You may spread a lengthy statement over several lines with the `\\` continuation character. \n",
        "* Also can split long code lines in parentheses without using continuation characters (as in the script's first `print` statement)&mdash;this is preferred according to the _Style Guide for Python Code_. "
      ],
      "id": "underlying-girlfriend"
    },
    {
      "cell_type": "markdown",
      "metadata": {
        "id": "junior-detection"
      },
      "source": [
        "### Reading Integer Values from the User\n",
        "* We use built-in functions `input` and `int` to prompt for and read two integer values from the user. "
      ],
      "id": "junior-detection"
    },
    {
      "cell_type": "markdown",
      "metadata": {
        "id": "heard-population"
      },
      "source": [
        "### `if` Statements\n",
        "* Each `if` statement consists of the keyword `if`, the condition to test, and a colon (`:`) followed by an indented body called a **suite**. \n",
        "* Each suite must contain one or more statements. \n"
      ],
      "id": "heard-population"
    },
    {
      "cell_type": "markdown",
      "metadata": {
        "id": "supposed-three"
      },
      "source": [
        "### Suite Indentation\n",
        "* Python requires you to indent the statements in suites. \n",
        "* The _Style Guide for Python Code_ recommends four-space indents."
      ],
      "id": "supposed-three"
    },
    {
      "cell_type": "code",
      "metadata": {
        "id": "fRctaFdt6NS6"
      },
      "source": [
        "#alles was nach dem if ausgeführt werden soll, war eingerückt. Diese Einrückung ist wichtig bei mehreren Befehlen. Gehört zum Teil der if-Prüfung. Empfehlung: 4 Leerschläge."
      ],
      "id": "fRctaFdt6NS6",
      "execution_count": null,
      "outputs": []
    },
    {
      "cell_type": "markdown",
      "metadata": {
        "id": "incredible-queens"
      },
      "source": [
        "### Confusing == and = \n",
        "* Using the assignment symbol (`=`) instead of the equality operator (`==`) in an `if` statement’s condition is a common syntax error. "
      ],
      "id": "incredible-queens"
    },
    {
      "cell_type": "markdown",
      "metadata": {
        "id": "proof-quarter"
      },
      "source": [
        "### Chaining Comparisons\n",
        "* You can chain comparisons to check whether a value is in a range."
      ],
      "id": "proof-quarter"
    },
    {
      "cell_type": "code",
      "metadata": {
        "id": "exceptional-outreach"
      },
      "source": [
        "x = 3"
      ],
      "id": "exceptional-outreach",
      "execution_count": null,
      "outputs": []
    },
    {
      "cell_type": "code",
      "metadata": {
        "id": "sitting-optimum",
        "colab": {
          "base_uri": "https://localhost:8080/"
        },
        "outputId": "0e7c745a-6aa0-40f8-87b4-f88b906ed2ac"
      },
      "source": [
        "1 <= x <= 5"
      ],
      "id": "sitting-optimum",
      "execution_count": null,
      "outputs": [
        {
          "output_type": "execute_result",
          "data": {
            "text/plain": [
              "True"
            ]
          },
          "metadata": {
            "tags": []
          },
          "execution_count": 83
        }
      ]
    },
    {
      "cell_type": "code",
      "metadata": {
        "id": "changing-measurement"
      },
      "source": [
        "x = 10"
      ],
      "id": "changing-measurement",
      "execution_count": null,
      "outputs": []
    },
    {
      "cell_type": "code",
      "metadata": {
        "id": "ancient-happening",
        "colab": {
          "base_uri": "https://localhost:8080/"
        },
        "outputId": "98354a93-5bf9-48bc-9568-68b22eaaf248"
      },
      "source": [
        "1 <= x <= 5"
      ],
      "id": "ancient-happening",
      "execution_count": null,
      "outputs": [
        {
          "output_type": "execute_result",
          "data": {
            "text/plain": [
              "False"
            ]
          },
          "metadata": {
            "tags": []
          },
          "execution_count": 85
        }
      ]
    },
    {
      "cell_type": "markdown",
      "metadata": {
        "id": "appointed-practice"
      },
      "source": [
        "## 2.7 Dynamic Typing\n",
        "* `7` (an integer), `4.1` (a floating-point number) and `'dog'` are all objects. \n",
        "* Every object has a type and a value."
      ],
      "id": "appointed-practice"
    },
    {
      "cell_type": "code",
      "metadata": {
        "id": "billion-meeting",
        "colab": {
          "base_uri": "https://localhost:8080/"
        },
        "outputId": "33e6e5de-5a2c-43d6-8779-7fad7c6f5359"
      },
      "source": [
        "type(7)\r\n",
        "#diese 7 ist ein Objekt. 7 ist der Wert davon. "
      ],
      "id": "billion-meeting",
      "execution_count": null,
      "outputs": [
        {
          "output_type": "execute_result",
          "data": {
            "text/plain": [
              "int"
            ]
          },
          "metadata": {
            "tags": []
          },
          "execution_count": 86
        }
      ]
    },
    {
      "cell_type": "code",
      "metadata": {
        "id": "crazy-banking",
        "colab": {
          "base_uri": "https://localhost:8080/"
        },
        "outputId": "312dcb79-e616-4870-c926-1f1d5a807840"
      },
      "source": [
        "type(4.1)"
      ],
      "id": "crazy-banking",
      "execution_count": null,
      "outputs": [
        {
          "output_type": "execute_result",
          "data": {
            "text/plain": [
              "float"
            ]
          },
          "metadata": {
            "tags": []
          },
          "execution_count": 87
        }
      ]
    },
    {
      "cell_type": "code",
      "metadata": {
        "id": "white-density",
        "colab": {
          "base_uri": "https://localhost:8080/"
        },
        "outputId": "a0b09721-e512-419b-fa5a-aea660790e2d"
      },
      "source": [
        "type('dog')"
      ],
      "id": "white-density",
      "execution_count": null,
      "outputs": [
        {
          "output_type": "execute_result",
          "data": {
            "text/plain": [
              "str"
            ]
          },
          "metadata": {
            "tags": []
          },
          "execution_count": 88
        }
      ]
    },
    {
      "cell_type": "markdown",
      "metadata": {
        "id": "acceptable-december"
      },
      "source": [
        "* An object’s value is the data stored in the object. \n",
        "* The snippets above show objects of built-in types **`int`** (for integers), **`float`** (for floating-point numbers) and **`str`** (for strings). "
      ],
      "id": "acceptable-december"
    },
    {
      "cell_type": "markdown",
      "metadata": {
        "id": "attempted-quebec"
      },
      "source": [
        "### Variables Refer to Objects\n",
        "* Assigning an object to a variable **binds** (associates) that variable’s name to the object. \n",
        "* Can then use the variable to access the object’s value."
      ],
      "id": "attempted-quebec"
    },
    {
      "cell_type": "code",
      "metadata": {
        "id": "advised-cemetery"
      },
      "source": [
        "x = 7"
      ],
      "id": "advised-cemetery",
      "execution_count": null,
      "outputs": []
    },
    {
      "cell_type": "code",
      "metadata": {
        "id": "modern-fifteen",
        "colab": {
          "base_uri": "https://localhost:8080/"
        },
        "outputId": "c8c4864f-0b1a-4354-ea00-f54ff0a10ba4"
      },
      "source": [
        "x + 10"
      ],
      "id": "modern-fifteen",
      "execution_count": null,
      "outputs": [
        {
          "output_type": "execute_result",
          "data": {
            "text/plain": [
              "17"
            ]
          },
          "metadata": {
            "tags": []
          },
          "execution_count": 103
        }
      ]
    },
    {
      "cell_type": "code",
      "metadata": {
        "id": "periodic-drive",
        "colab": {
          "base_uri": "https://localhost:8080/"
        },
        "outputId": "a7d4dcdd-b793-41a3-9eb5-ca31e7ddc463"
      },
      "source": [
        "x"
      ],
      "id": "periodic-drive",
      "execution_count": null,
      "outputs": [
        {
          "output_type": "execute_result",
          "data": {
            "text/plain": [
              "7"
            ]
          },
          "metadata": {
            "tags": []
          },
          "execution_count": 104
        }
      ]
    },
    {
      "cell_type": "markdown",
      "metadata": {
        "id": "metropolitan-brook"
      },
      "source": [
        "* Variable `x` **refers** to the integer object containing `7`."
      ],
      "id": "metropolitan-brook"
    },
    {
      "cell_type": "code",
      "metadata": {
        "id": "protective-missouri"
      },
      "source": [
        "x = x + 10"
      ],
      "id": "protective-missouri",
      "execution_count": null,
      "outputs": []
    },
    {
      "cell_type": "code",
      "metadata": {
        "id": "governmental-biodiversity",
        "colab": {
          "base_uri": "https://localhost:8080/"
        },
        "outputId": "38ccac32-feaf-41bb-f15d-10c947b6f21f"
      },
      "source": [
        "x"
      ],
      "id": "governmental-biodiversity",
      "execution_count": null,
      "outputs": [
        {
          "output_type": "execute_result",
          "data": {
            "text/plain": [
              "17"
            ]
          },
          "metadata": {
            "tags": []
          },
          "execution_count": 106
        }
      ]
    },
    {
      "cell_type": "markdown",
      "metadata": {
        "id": "desperate-bonus"
      },
      "source": [
        "### Dynamic Typing (1 of 2)\n",
        "* Python uses **dynamic typing**—it determines the type of the object a variable refers to while executing your code. \n",
        "* Can show this by rebinding the variable `x` to different objects and checking their types."
      ],
      "id": "desperate-bonus"
    },
    {
      "cell_type": "markdown",
      "metadata": {
        "id": "solved-appraisal"
      },
      "source": [
        "### Dynamic Typing (2 of 2)"
      ],
      "id": "solved-appraisal"
    },
    {
      "cell_type": "code",
      "metadata": {
        "id": "reliable-compression",
        "colab": {
          "base_uri": "https://localhost:8080/"
        },
        "outputId": "b8a9f28d-7ed4-496d-be19-17497728486b"
      },
      "source": [
        "type(x)"
      ],
      "id": "reliable-compression",
      "execution_count": null,
      "outputs": [
        {
          "output_type": "execute_result",
          "data": {
            "text/plain": [
              "int"
            ]
          },
          "metadata": {
            "tags": []
          },
          "execution_count": 107
        }
      ]
    },
    {
      "cell_type": "code",
      "metadata": {
        "id": "impaired-score"
      },
      "source": [
        "x = 4.1"
      ],
      "id": "impaired-score",
      "execution_count": null,
      "outputs": []
    },
    {
      "cell_type": "code",
      "metadata": {
        "id": "parliamentary-genetics",
        "colab": {
          "base_uri": "https://localhost:8080/"
        },
        "outputId": "e0593119-43c6-42cf-cbf4-844e2d3b8750"
      },
      "source": [
        "type(x)"
      ],
      "id": "parliamentary-genetics",
      "execution_count": null,
      "outputs": [
        {
          "output_type": "execute_result",
          "data": {
            "text/plain": [
              "float"
            ]
          },
          "metadata": {
            "tags": []
          },
          "execution_count": 109
        }
      ]
    },
    {
      "cell_type": "code",
      "metadata": {
        "id": "equipped-single"
      },
      "source": [
        "x = 'dog'"
      ],
      "id": "equipped-single",
      "execution_count": null,
      "outputs": []
    },
    {
      "cell_type": "code",
      "metadata": {
        "id": "unlikely-organization",
        "colab": {
          "base_uri": "https://localhost:8080/"
        },
        "outputId": "4b388ff8-8f8d-4735-b964-f705d73920f8"
      },
      "source": [
        "type(x)"
      ],
      "id": "unlikely-organization",
      "execution_count": null,
      "outputs": [
        {
          "output_type": "execute_result",
          "data": {
            "text/plain": [
              "str"
            ]
          },
          "metadata": {
            "tags": []
          },
          "execution_count": 111
        }
      ]
    },
    {
      "cell_type": "code",
      "metadata": {
        "id": "6Q9AtMMI7r95"
      },
      "source": [
        "#Ein argument ist für eine funkrion. Die funktion macht damit etwas. Argumente sind immer objekte, die ich den funktionen übergebe. "
      ],
      "id": "6Q9AtMMI7r95",
      "execution_count": null,
      "outputs": []
    },
    {
      "cell_type": "markdown",
      "metadata": {
        "id": "lonely-millennium"
      },
      "source": [
        "### Garbage Collection\n",
        "* Python creates objects in memory and removes them from memory as necessary. \n",
        "* When an object is no longer bound to a variable, Python can automatically removes the object from memory. \n",
        "* This process—called **garbage collection**—helps ensure that memory is available for new objects."
      ],
      "id": "lonely-millennium"
    },
    {
      "cell_type": "code",
      "metadata": {
        "id": "ojvJeHnC8L-q"
      },
      "source": [
        "#sind objekte, die keiner mehr braucht? "
      ],
      "id": "ojvJeHnC8L-q",
      "execution_count": null,
      "outputs": []
    },
    {
      "cell_type": "markdown",
      "metadata": {
        "id": "rental-industry"
      },
      "source": [
        "## 2.8 Basic Descriptive Statistics\n",
        "* In data science, you’ll often use statistics to describe and summarize your data. \n",
        "* Here, we introduce two **descriptive statistics**:\n",
        "    * **minimum**—the smallest value in a collection of values.\n",
        "    * **maximum**—the largest value in a collection of values.\n",
        "   "
      ],
      "id": "rental-industry"
    },
    {
      "cell_type": "markdown",
      "metadata": {
        "id": "possible-validation"
      },
      "source": [
        "### Determining the Minimum of Three Values \n",
        "* Determine the minimum of three values manually in a script that prompts for and inputs three values, uses `if` statements to determine the minimum value, then displays it."
      ],
      "id": "possible-validation"
    },
    {
      "cell_type": "markdown",
      "metadata": {
        "id": "sunset-pittsburgh"
      },
      "source": [
        "```python \n",
        "# fig02_02.py\n",
        "\"\"\"Find the minimum of three values.\"\"\"\n",
        "\n",
        "number1 = int(input('Enter first integer: '))\n",
        "number2 = int(input('Enter second integer: '))\n",
        "number3 = int(input('Enter third integer: '))\n",
        "\n",
        "minimum = number1\n",
        "\n",
        "if number2 < minimum:\n",
        "    minimum = number2\n",
        "\n",
        "    #wert überschreiben durch number 2. Wenn die 3. zahl noch kleiner ist. Dann überschreiben wir das minimum nochmal mit dem wert von 3. Dann sollte das unten rauskommen\n",
        "\n",
        "if number3 < minimum:\n",
        "    minimum = number3\n",
        "\n",
        "print('Minimum value is', minimum)\n",
        "```"
      ],
      "id": "sunset-pittsburgh"
    },
    {
      "cell_type": "markdown",
      "metadata": {
        "id": "convertible-northwest"
      },
      "source": [
        "* Enter `12`, `27` and `36`"
      ],
      "id": "convertible-northwest"
    },
    {
      "cell_type": "code",
      "metadata": {
        "id": "choice-triangle"
      },
      "source": [
        "run fig02_02.py"
      ],
      "id": "choice-triangle",
      "execution_count": null,
      "outputs": []
    },
    {
      "cell_type": "markdown",
      "metadata": {
        "id": "single-variety"
      },
      "source": [
        "* Enter `12`, `36` and `27`"
      ],
      "id": "single-variety"
    },
    {
      "cell_type": "code",
      "metadata": {
        "id": "annoying-fifty"
      },
      "source": [
        "run fig02_02.py"
      ],
      "id": "annoying-fifty",
      "execution_count": null,
      "outputs": []
    },
    {
      "cell_type": "markdown",
      "metadata": {
        "id": "stunning-extension"
      },
      "source": [
        "* Enter `36`, `27` and `12`"
      ],
      "id": "stunning-extension"
    },
    {
      "cell_type": "code",
      "metadata": {
        "id": "standing-gravity"
      },
      "source": [
        "run fig02_02.py"
      ],
      "id": "standing-gravity",
      "execution_count": null,
      "outputs": []
    },
    {
      "cell_type": "code",
      "metadata": {
        "id": "pEC0wLNW9cfT"
      },
      "source": [
        "#wir haben mit python schon vordefinierte funktionen. min(3 werte): Gibt uns minimum raus. "
      ],
      "id": "pEC0wLNW9cfT",
      "execution_count": null,
      "outputs": []
    },
    {
      "cell_type": "markdown",
      "metadata": {
        "id": "conventional-leonard"
      },
      "source": [
        "* Logic of determining minimum:\n",
        "    * First, assume that `number1` contains the smallest value. \n",
        "    * The first `if` statement then tests `number2 < minimum` and if this condition is `True` assigns `number2` to `minimum`. \n",
        "    * The second `if` statement then tests `number3 < minimum`, and if this condition is `True` assigns `number3` to `minimum`. \n",
        "* Now, `minimum` contains the smallest value, so we display it. "
      ],
      "id": "conventional-leonard"
    },
    {
      "cell_type": "markdown",
      "metadata": {
        "id": "favorite-hudson"
      },
      "source": [
        "### Determining the Minimum and Maximum with Built-In Functions `min` and `max`\n",
        "* Python has many built-in functions for performing common tasks. \n",
        "* **`min`** and **`max`** calculate the minimum and maximum, respectively, of a collection of values."
      ],
      "id": "favorite-hudson"
    },
    {
      "cell_type": "code",
      "metadata": {
        "id": "prompt-lecture",
        "colab": {
          "base_uri": "https://localhost:8080/"
        },
        "outputId": "327c35a9-da79-4ef3-be94-9a7a9e7320ed"
      },
      "source": [
        "min(36, 27, 12)"
      ],
      "id": "prompt-lecture",
      "execution_count": null,
      "outputs": [
        {
          "output_type": "execute_result",
          "data": {
            "text/plain": [
              "12"
            ]
          },
          "metadata": {
            "tags": []
          },
          "execution_count": 112
        }
      ]
    },
    {
      "cell_type": "code",
      "metadata": {
        "id": "ecological-utility",
        "colab": {
          "base_uri": "https://localhost:8080/"
        },
        "outputId": "ab87fbb9-a801-4843-dd13-432d6f674124"
      },
      "source": [
        "max(36, 27, 12)"
      ],
      "id": "ecological-utility",
      "execution_count": null,
      "outputs": [
        {
          "output_type": "execute_result",
          "data": {
            "text/plain": [
              "36"
            ]
          },
          "metadata": {
            "tags": []
          },
          "execution_count": 113
        }
      ]
    },
    {
      "cell_type": "markdown",
      "metadata": {
        "id": "compliant-argument"
      },
      "source": [
        "------\n",
        "&copy;1992&ndash;2020 by Pearson Education, Inc. All Rights Reserved. This content is based on Chapter 1 of the book [**Intro to Python for Computer Science and Data Science: Learning to Program with AI, Big Data and the Cloud**](https://amzn.to/2VvdnxE).         "
      ],
      "id": "compliant-argument"
    }
  ]
}