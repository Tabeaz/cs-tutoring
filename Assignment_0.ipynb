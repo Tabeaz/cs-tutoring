{
  "nbformat": 4,
  "nbformat_minor": 0,
  "metadata": {
    "colab": {
      "name": "Assignment_0.ipynb",
      "provenance": [],
      "collapsed_sections": [],
      "include_colab_link": true
    },
    "kernelspec": {
      "display_name": "Python 3",
      "language": "python",
      "name": "python3"
    },
    "language_info": {
      "codemirror_mode": {
        "name": "ipython",
        "version": 3
      },
      "file_extension": ".py",
      "mimetype": "text/x-python",
      "name": "python",
      "nbconvert_exporter": "python",
      "pygments_lexer": "ipython3",
      "version": "3.9.1"
    },
    "toc-autonumbering": true
  },
  "cells": [
    {
      "cell_type": "markdown",
      "metadata": {
        "id": "view-in-github",
        "colab_type": "text"
      },
      "source": [
        "<a href=\"https://colab.research.google.com/github/Tabeaz/cs-tutoring/blob/master/Assignment_0.ipynb\" target=\"_parent\"><img src=\"https://colab.research.google.com/assets/colab-badge.svg\" alt=\"Open In Colab\"/></a>"
      ]
    },
    {
      "cell_type": "markdown",
      "metadata": {
        "id": "FBFs1ykcR99r",
        "nbgrader": {
          "grade": false,
          "grade_id": "39f0ee",
          "locked": true,
          "schema_version": 3,
          "solution": false,
          "task": false
        }
      },
      "source": [
        "# Assignment 0: Programming Basics\n",
        "\n",
        "## Introduction: A Simple Calculation Operator as your first computer program!\n",
        "This assignment will introduce the following arithmetic operations:\n",
        "* Addition: `+`\n",
        "* Subtraction: `-`\n",
        "* Multiplication: `*`\n",
        "* Division: `/`\n",
        "* Power Function: `**`"
      ]
    },
    {
      "cell_type": "markdown",
      "metadata": {
        "id": "vBay-pbLrdyD"
      },
      "source": [
        "## Setup\n",
        "\n",
        "First, we need two variables that we want to add:\n",
        "\n",
        "Define the variables `x` and `y` and assign them the integer values `10` (for `x`) and `4` (for `y`):"
      ]
    },
    {
      "cell_type": "code",
      "metadata": {
        "colab": {
          "base_uri": "https://localhost:8080/"
        },
        "id": "KBmVQHvqrdyF",
        "outputId": "83de16df-819a-4459-cfc3-0782efb98f3e"
      },
      "source": [
        "# Add your code in this cell:\n",
        "x = 10\n",
        "y = 4\n",
        "\n",
        "print(x)\n",
        "print(y)\n",
        "\n"
      ],
      "execution_count": 1,
      "outputs": [
        {
          "output_type": "stream",
          "text": [
            "10\n",
            "4\n"
          ],
          "name": "stdout"
        }
      ]
    },
    {
      "cell_type": "markdown",
      "metadata": {
        "id": "2SDtM8ZUrdyH"
      },
      "source": [
        "### Testing?\n",
        "How can you test if your code is working correctly? Test your own code:\n",
        "\n",
        "Check if you defined the variable `x` by `print`-ing it:\n",
        "```python\n",
        "print(x)\n",
        "```\n",
        "If you see the value `10` below the cell then it worked! If you you see an error, __read__ it and try to understand what it means. __Do not ignore__ any error or be scared of the rather long output. Check where the error occurs: _What does the error say?_, _What did Python expect but what was actually given?_\n",
        "\n",
        "\n",
        "In these assignments, we will use *automated unit test* to verify the implementation. This means that the code below will call your functions (in later assignments), test if the variables you defined actually exist and if their value is correct."
      ]
    },
    {
      "cell_type": "code",
      "metadata": {
        "id": "-1WHAEWJR991",
        "nbgrader": {
          "grade": true,
          "grade_id": "task_1.1",
          "locked": true,
          "points": 1,
          "schema_version": 3,
          "solution": false,
          "task": false
        }
      },
      "source": [
        "# This is a very simple test if you defined variable x. You do not need to understand it fully.\n",
        "# If you get any error here, this means that your implementation above is incorrect.\n",
        "# Read the error message!\n",
        "assert locals().get('x'), 'You did not define variable x.'\n",
        "assert isinstance(x, int), 'You did not define x to be an integer.'\n",
        "assert x == 10, 'You did not define x to be 10.'\n",
        "\n",
        "# This is the same test but for variable y.\n",
        "assert locals().get('y'), 'You did not define variable y.'\n",
        "assert isinstance(y, int), 'You did not define y to be an integer.'\n",
        "assert y == 4, 'You did not define y to be 4.'\n",
        "\n",
        "\n",
        "print('If you see this message printed, then the test succeeded.')"
      ],
      "execution_count": null,
      "outputs": []
    },
    {
      "cell_type": "markdown",
      "metadata": {
        "id": "CvelfmVXrdyI"
      },
      "source": [
        "The next test fails __intentionally__. It will test if there is variable defined with the name `h`. Check the error message, it tells you that the variable `h` is not defined!"
      ]
    },
    {
      "cell_type": "code",
      "metadata": {
        "id": "vgPgmES6rdyJ"
      },
      "source": [
        "assert locals().get('h'), 'You did not define variable h'"
      ],
      "execution_count": null,
      "outputs": []
    },
    {
      "cell_type": "markdown",
      "metadata": {
        "id": "fbsS6FJ_rdyK"
      },
      "source": [
        "## Addition, Subtraction, and Multiplication"
      ]
    },
    {
      "cell_type": "markdown",
      "metadata": {
        "id": "voNtODkOrdyL"
      },
      "source": [
        "Now that we have the variable `x` and `y` in scope, we can do calculations.\n",
        "\n",
        "* Define variable `z1` to be the result of adding the two _variables_ `x` and `y`.\n",
        "* Define variable `z2` to be the result of subtracting the two _variables_ `x` and `y`.\n",
        "* Define variable `z3` to be the result of multiplying the two _variables_ `x` and `y`."
      ]
    },
    {
      "cell_type": "code",
      "metadata": {
        "colab": {
          "base_uri": "https://localhost:8080/"
        },
        "id": "Qj51dkJ-rdyL",
        "outputId": "58d41ba2-c8e6-4ce9-ebab-0196c7bf1372"
      },
      "source": [
        "z1 = x + y\r\n",
        "z2 = x - y\r\n",
        "z3 = x * y\r\n",
        "\r\n",
        "print(z1, z2, z3)\r\n",
        "\r\n"
      ],
      "execution_count": 3,
      "outputs": [
        {
          "output_type": "stream",
          "text": [
            "14 6 40\n"
          ],
          "name": "stdout"
        }
      ]
    },
    {
      "cell_type": "code",
      "metadata": {
        "id": "mo-dAWsurdyL"
      },
      "source": [
        "# Again, here we test your implementation\n",
        "assert locals().get('z1'), 'You did not define variable z1.'\n",
        "assert z1 == 14, 'Incorrect result for z1.'\n",
        "\n",
        "assert locals().get('z2'), 'You did not define variable z2.'\n",
        "assert z2 == 6, 'Incorrect result for z2.'\n",
        "\n",
        "assert locals().get('z3'), 'You did not define variable z3.'\n",
        "assert z3 == 40, 'Incorrect result for z3.'\n",
        "\n",
        "print('If you see this message printed, then the test succeeded.')"
      ],
      "execution_count": null,
      "outputs": []
    },
    {
      "cell_type": "markdown",
      "metadata": {
        "id": "rgrk11V9rdyO"
      },
      "source": [
        "## Division\n",
        "\n",
        "A division is a bit different. The result of a division is __always__ of type `float`, no matter if the two operands are `int`, `float`, or a mixture.\n",
        "Additionally, a division is dangerous because a division by `0` is not possible.\n",
        "\n",
        "Try the division of `x` by `0`."
      ]
    },
    {
      "cell_type": "code",
      "metadata": {
        "colab": {
          "base_uri": "https://localhost:8080/",
          "height": 189
        },
        "id": "E9bNkjm2rdyQ",
        "outputId": "2f31b5e0-1de4-486e-e1bf-05a7e98e6700"
      },
      "source": [
        "z4 = x / 0\r\n",
        "print(z4)"
      ],
      "execution_count": 4,
      "outputs": [
        {
          "output_type": "error",
          "ename": "ZeroDivisionError",
          "evalue": "ignored",
          "traceback": [
            "\u001b[0;31m---------------------------------------------------------------------------\u001b[0m",
            "\u001b[0;31mZeroDivisionError\u001b[0m                         Traceback (most recent call last)",
            "\u001b[0;32m<ipython-input-4-cbd47e886e5a>\u001b[0m in \u001b[0;36m<module>\u001b[0;34m()\u001b[0m\n\u001b[0;32m----> 1\u001b[0;31m \u001b[0mz4\u001b[0m \u001b[0;34m=\u001b[0m \u001b[0mx\u001b[0m \u001b[0;34m/\u001b[0m \u001b[0;36m0\u001b[0m\u001b[0;34m\u001b[0m\u001b[0;34m\u001b[0m\u001b[0m\n\u001b[0m\u001b[1;32m      2\u001b[0m \u001b[0mprint\u001b[0m\u001b[0;34m(\u001b[0m\u001b[0mz4\u001b[0m\u001b[0;34m)\u001b[0m\u001b[0;34m\u001b[0m\u001b[0;34m\u001b[0m\u001b[0m\n",
            "\u001b[0;31mZeroDivisionError\u001b[0m: division by zero"
          ]
        }
      ]
    },
    {
      "cell_type": "markdown",
      "metadata": {
        "id": "m19Rpsz4rdyQ"
      },
      "source": [
        "See that there is a well-defined error message for this exact type or error? It is called `ZeroDivionError` and it occurs if there a divison by zero."
      ]
    },
    {
      "cell_type": "markdown",
      "metadata": {
        "id": "Cd9Ek_9xrdyR"
      },
      "source": [
        "For this task, store the result of the division of `x` by `y` in the variable `z4`."
      ]
    },
    {
      "cell_type": "code",
      "metadata": {
        "colab": {
          "base_uri": "https://localhost:8080/"
        },
        "id": "3SbiVStXrdyR",
        "outputId": "848fab73-c1a9-4e73-aa95-48cd86ba5a31"
      },
      "source": [
        "z4 = x / y\r\n",
        "print(z4)"
      ],
      "execution_count": 5,
      "outputs": [
        {
          "output_type": "stream",
          "text": [
            "2.5\n"
          ],
          "name": "stdout"
        }
      ]
    },
    {
      "cell_type": "code",
      "metadata": {
        "id": "Unb_x7kSrdyR"
      },
      "source": [
        "# Again, here we test your implementation\n",
        "assert locals().get('z4'), 'You did not define variable z4.'\n",
        "assert z4 == 2.5, 'Incorrect result for z4.'\n",
        "\n",
        "print('If you see this message printed, then the test succeeded.')"
      ],
      "execution_count": null,
      "outputs": []
    },
    {
      "cell_type": "markdown",
      "metadata": {
        "id": "KfNyyGRDrdyS"
      },
      "source": [
        "## Combination\n",
        "\n",
        "Now, we want to combine a few arithmetic operation:\n",
        "\n",
        "1. Define the variables `x`, `y`, and `z` with the values `3`, `21`, and `12`.\n",
        "2. Define a new variable `r` with the value `0`.\n",
        "3. Add `x` to `r` (store the result in `r`).\n",
        "4. Add the result of the multiplication of `y` and `z` to `r` (store the result in `r`).\n",
        "5. Divide `r` by `x` (store the result in `r`).\n",
        "6. Subtract the result of the substraction of `x` and `y` from `r`  (store the result in `r`)."
      ]
    },
    {
      "cell_type": "code",
      "metadata": {
        "colab": {
          "base_uri": "https://localhost:8080/"
        },
        "id": "o6WkQCgPrdyT",
        "outputId": "947d80fb-a14e-40e3-c9b3-4620cd6bbbb4"
      },
      "source": [
        "x = 3\r\n",
        "y = 21\r\n",
        "z = 12\r\n",
        "r = 0\r\n",
        "\r\n",
        "r = x + r\r\n",
        "r = y * z + r\r\n",
        "r = r / x\r\n",
        "r = r - (x - y)\r\n",
        "\r\n",
        "print(r)"
      ],
      "execution_count": 6,
      "outputs": [
        {
          "output_type": "stream",
          "text": [
            "103.0\n"
          ],
          "name": "stdout"
        }
      ]
    },
    {
      "cell_type": "code",
      "metadata": {
        "id": "JVsmKc7BrdyT"
      },
      "source": [
        "# The result is supposed to be 103.0\n",
        "assert locals().get('r'), 'You did not define variable r.'\n",
        "assert r == 103.0, 'Incorrect result for r.'\n",
        "\n",
        "print('If you see this message printed, then the test succeeded.')"
      ],
      "execution_count": null,
      "outputs": []
    },
    {
      "cell_type": "markdown",
      "metadata": {
        "id": "fW70281KrdyT"
      },
      "source": [
        "## Combination\n",
        "\n",
        "Another example:\n",
        "\n",
        "1. Define the variables `x`, `y`, and `z` with the values `2.4`, `4`, and `14`.\n",
        "2. Define the variable `r` with the initial value `2`.\n",
        "3. Add `x`, `y`, and `z` in one step and multiply the result with `r` (store in `r`).\n",
        "4. Add the square of `y` to `r` (store in `r`).\n",
        "5. Divide `r` by the result of the addition of `y` and `1` (store in `r`).\n",
        "6. Multiply `r` by `y` to the power of the division of `y` by `2` (store in `r`)."
      ]
    },
    {
      "cell_type": "code",
      "metadata": {
        "colab": {
          "base_uri": "https://localhost:8080/"
        },
        "id": "s6wvHX33rdyU",
        "outputId": "3a919c2c-2634-4278-c992-1c8ca4af0e6f"
      },
      "source": [
        "x = 2.4\r\n",
        "y = 4\r\n",
        "z = 14\r\n",
        "r = 2\r\n",
        "\r\n",
        "r = (x+y+z) * r\r\n",
        "r = r + y**2\r\n",
        "r = r / (y + 1)\r\n",
        "r = r * y**(y/2)\r\n",
        "print(r)"
      ],
      "execution_count": 8,
      "outputs": [
        {
          "output_type": "stream",
          "text": [
            "181.76\n"
          ],
          "name": "stdout"
        }
      ]
    },
    {
      "cell_type": "code",
      "metadata": {
        "id": "gEVF4SiQrdyU"
      },
      "source": [
        "assert locals().get('r'), 'You did not define variable r.'\n",
        "assert r == 181.76, 'Incorrect result for r.'\n",
        "\n",
        "print('If you see this message printed, then the test succeeded.')"
      ],
      "execution_count": null,
      "outputs": []
    }
  ]
}