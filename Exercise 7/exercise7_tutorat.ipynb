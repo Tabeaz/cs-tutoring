{
  "nbformat": 4,
  "nbformat_minor": 0,
  "metadata": {
    "celltoolbar": "Edit Metadata",
    "kernelspec": {
      "display_name": "Python 3",
      "language": "python",
      "name": "python3"
    },
    "language_info": {
      "codemirror_mode": {
        "name": "ipython",
        "version": 3
      },
      "file_extension": ".py",
      "mimetype": "text/x-python",
      "name": "python",
      "nbconvert_exporter": "python",
      "pygments_lexer": "ipython3",
      "version": "3.7.4"
    },
    "colab": {
      "name": "exercise7_tutorat.ipynb",
      "provenance": [],
      "collapsed_sections": []
    }
  },
  "cells": [
    {
      "cell_type": "code",
      "metadata": {
        "deletable": false,
        "editable": false,
        "id": "1W79kGo7j2mB",
        "colab_type": "code",
        "outputId": "e1b75d4e-74f0-4b6d-b747-a51d5c33b3ce",
        "colab": {
          "base_uri": "https://localhost:8080/",
          "height": 1000
        }
      },
      "source": [
        "from IPython import get_ipython\n",
        "!jupyter nbconvert --to script assignment7_template.ipynb"
      ],
      "execution_count": 1,
      "outputs": [
        {
          "output_type": "stream",
          "text": [
            "[NbConvertApp] WARNING | pattern u'assignment7_template.ipynb' matched no files\n",
            "This application is used to convert notebook files (*.ipynb) to various other\n",
            "formats.\n",
            "\n",
            "WARNING: THE COMMANDLINE INTERFACE MAY CHANGE IN FUTURE RELEASES.\n",
            "\n",
            "Options\n",
            "-------\n",
            "\n",
            "Arguments that take values are actually convenience aliases to full\n",
            "Configurables, whose aliases are listed on the help line. For more information\n",
            "on full configurables, see '--help-all'.\n",
            "\n",
            "--execute\n",
            "    Execute the notebook prior to export.\n",
            "--allow-errors\n",
            "    Continue notebook execution even if one of the cells throws an error and include the error message in the cell output (the default behaviour is to abort conversion). This flag is only relevant if '--execute' was specified, too.\n",
            "--no-input\n",
            "    Exclude input cells and output prompts from converted document. \n",
            "    This mode is ideal for generating code-free reports.\n",
            "--stdout\n",
            "    Write notebook output to stdout instead of files.\n",
            "--stdin\n",
            "    read a single notebook file from stdin. Write the resulting notebook with default basename 'notebook.*'\n",
            "--inplace\n",
            "    Run nbconvert in place, overwriting the existing notebook (only \n",
            "    relevant when converting to notebook format)\n",
            "-y\n",
            "    Answer yes to any questions instead of prompting.\n",
            "--clear-output\n",
            "    Clear output of current file and save in place, \n",
            "    overwriting the existing notebook.\n",
            "--debug\n",
            "    set log level to logging.DEBUG (maximize logging output)\n",
            "--no-prompt\n",
            "    Exclude input and output prompts from converted document.\n",
            "--generate-config\n",
            "    generate default config file\n",
            "--nbformat=<Enum> (NotebookExporter.nbformat_version)\n",
            "    Default: 4\n",
            "    Choices: [1, 2, 3, 4]\n",
            "    The nbformat version to write. Use this to downgrade notebooks.\n",
            "--output-dir=<Unicode> (FilesWriter.build_directory)\n",
            "    Default: ''\n",
            "    Directory to write output(s) to. Defaults to output to the directory of each\n",
            "    notebook. To recover previous default behaviour (outputting to the current\n",
            "    working directory) use . as the flag value.\n",
            "--writer=<DottedObjectName> (NbConvertApp.writer_class)\n",
            "    Default: 'FilesWriter'\n",
            "    Writer class used to write the  results of the conversion\n",
            "--log-level=<Enum> (Application.log_level)\n",
            "    Default: 30\n",
            "    Choices: (0, 10, 20, 30, 40, 50, 'DEBUG', 'INFO', 'WARN', 'ERROR', 'CRITICAL')\n",
            "    Set the log level by value or name.\n",
            "--reveal-prefix=<Unicode> (SlidesExporter.reveal_url_prefix)\n",
            "    Default: u''\n",
            "    The URL prefix for reveal.js (version 3.x). This defaults to the reveal CDN,\n",
            "    but can be any url pointing to a copy  of reveal.js.\n",
            "    For speaker notes to work, this must be a relative path to a local  copy of\n",
            "    reveal.js: e.g., \"reveal.js\".\n",
            "    If a relative path is given, it must be a subdirectory of the current\n",
            "    directory (from which the server is run).\n",
            "    See the usage documentation\n",
            "    (https://nbconvert.readthedocs.io/en/latest/usage.html#reveal-js-html-\n",
            "    slideshow) for more details.\n",
            "--to=<Unicode> (NbConvertApp.export_format)\n",
            "    Default: 'html'\n",
            "    The export format to be used, either one of the built-in formats\n",
            "    ['asciidoc', 'custom', 'html', 'latex', 'markdown', 'notebook', 'pdf',\n",
            "    'python', 'rst', 'script', 'slides'] or a dotted object name that represents\n",
            "    the import path for an `Exporter` class\n",
            "--template=<Unicode> (TemplateExporter.template_file)\n",
            "    Default: u''\n",
            "    Name of the template file to use\n",
            "--output=<Unicode> (NbConvertApp.output_base)\n",
            "    Default: ''\n",
            "    overwrite base name use for output files. can only be used when converting\n",
            "    one notebook at a time.\n",
            "--post=<DottedOrNone> (NbConvertApp.postprocessor_class)\n",
            "    Default: u''\n",
            "    PostProcessor class used to write the results of the conversion\n",
            "--config=<Unicode> (JupyterApp.config_file)\n",
            "    Default: u''\n",
            "    Full path of a config file.\n",
            "\n",
            "To see all available configurables, use `--help-all`\n",
            "\n",
            "Examples\n",
            "--------\n",
            "\n",
            "    The simplest way to use nbconvert is\n",
            "    \n",
            "    > jupyter nbconvert mynotebook.ipynb\n",
            "    \n",
            "    which will convert mynotebook.ipynb to the default format (probably HTML).\n",
            "    \n",
            "    You can specify the export format with `--to`.\n",
            "    Options include ['asciidoc', 'custom', 'html', 'latex', 'markdown', 'notebook', 'pdf', 'python', 'rst', 'script', 'slides'].\n",
            "    \n",
            "    > jupyter nbconvert --to latex mynotebook.ipynb\n",
            "    \n",
            "    Both HTML and LaTeX support multiple output templates. LaTeX includes\n",
            "    'base', 'article' and 'report'.  HTML includes 'basic' and 'full'. You\n",
            "    can specify the flavor of the format used.\n",
            "    \n",
            "    > jupyter nbconvert --to html --template basic mynotebook.ipynb\n",
            "    \n",
            "    You can also pipe the output to stdout, rather than a file\n",
            "    \n",
            "    > jupyter nbconvert mynotebook.ipynb --stdout\n",
            "    \n",
            "    PDF is generated via latex\n",
            "    \n",
            "    > jupyter nbconvert mynotebook.ipynb --to pdf\n",
            "    \n",
            "    You can get (and serve) a Reveal.js-powered slideshow\n",
            "    \n",
            "    > jupyter nbconvert myslides.ipynb --to slides --post serve\n",
            "    \n",
            "    Multiple notebooks can be given at the command line in a couple of \n",
            "    different ways:\n",
            "    \n",
            "    > jupyter nbconvert notebook*.ipynb\n",
            "    > jupyter nbconvert notebook1.ipynb notebook2.ipynb\n",
            "    \n",
            "    or you can specify the notebooks list in a config file, containing::\n",
            "    \n",
            "        c.NbConvertApp.notebooks = [\"my_notebook.ipynb\"]\n",
            "    \n",
            "    > jupyter nbconvert --config mycfg.py\n",
            "\n"
          ],
          "name": "stdout"
        }
      ]
    },
    {
      "cell_type": "code",
      "metadata": {
        "deletable": false,
        "editable": false,
        "id": "h0WS-Kl-j2mC",
        "colab_type": "code",
        "colab": {}
      },
      "source": [
        "import os\n",
        "import pandas as pd\n",
        "import numpy as np\n",
        "\n",
        "import matplotlib.pyplot as plt"
      ],
      "execution_count": 0,
      "outputs": []
    },
    {
      "cell_type": "code",
      "metadata": {
        "id": "7xQ8OjRXBXoA",
        "colab_type": "code",
        "colab": {}
      },
      "source": [
        "class Footballplayer:\n",
        "    def __init__(self, position, rating, age, is_striker, name):\n",
        "        self.position = position\n",
        "        self.rating = rating\n",
        "        self.age = age\n",
        "        self.is_striker = is_striker\n",
        "        self.name = name"
      ],
      "execution_count": 0,
      "outputs": []
    },
    {
      "cell_type": "code",
      "metadata": {
        "id": "GOGEhhcdBu0K",
        "colab_type": "code",
        "colab": {}
      },
      "source": [
        "footballplayers = [\n",
        "    Footballplayer(\"defender\", 93, 34, False, \"Sergio Ramos\"),\n",
        "    Footballplayer(\"midfielder\", 90, 24, False, \"Dele\"),\n",
        "    Footballplayer(\"defender\", 88, 28, False, \"Joel Matip\"),\n",
        "    Footballplayer(\"striker\", 95, 26, True, \"Harry Kane\"),\n",
        "    Footballplayer(\"striker\", 99, 32, True, \"Lionel Messi\"),\n",
        "    Footballplayer(\"goalkeeper\", 90, 26, False, \"Ederson\"),\n",
        "    Footballplayer(None, 85, 28, False, \"Fabian Schär\"),  # defender\n",
        "    Footballplayer(\"midfielder\", 95, 28, False, \"Kevin De Bruyne\"),\n",
        "    Footballplayer(None, 95, 31, True, \"Sergio Agüero\"),  # striker\n",
        "    Footballplayer(\"goalkeeper\", 93, 27, False, \"Jan Oblak\")\n",
        "]"
      ],
      "execution_count": 0,
      "outputs": []
    },
    {
      "cell_type": "code",
      "metadata": {
        "id": "giI4Pl5JBZI1",
        "colab_type": "code",
        "colab": {}
      },
      "source": [
        "def create_footballplayer_list(footballplayers):\n",
        "    \"\"\"\n",
        "    Takes a list of Player objects and creates tuples containing the information of each Footballplayer, then returns them.\n",
        "    The tuple format is (name, position, rating, age, is_striker).\n",
        "\n",
        "    :param football_players: A list of Footballplayer objects.\n",
        "    :return: A list of tuples, where each tuple represents the data of one player\n",
        "    \"\"\"\n",
        "\n",
        "    # your code here"
      ],
      "execution_count": 0,
      "outputs": []
    },
    {
      "cell_type": "code",
      "metadata": {
        "id": "tns0RUT2BwI3",
        "colab_type": "code",
        "colab": {}
      },
      "source": [
        "player_lst = create_footballplayer_list(footballplayers)\n",
        "player_lst"
      ],
      "execution_count": 0,
      "outputs": []
    },
    {
      "cell_type": "code",
      "metadata": {
        "id": "HZaJPQZ9BbNG",
        "colab_type": "code",
        "colab": {}
      },
      "source": [
        "def create_footballplayer_df(footballplayers):\n",
        "    \"\"\"\n",
        "    Takes a list of Footballplayer objects as tuples and creates a DataFrame containing the footballplayer data.\n",
        "    It should have the following columns in the same exact order:\n",
        "        Name, Position, Rating, Age, Is Striker?\n",
        "\n",
        "    :param footballplayers: A list of tuples in the format\n",
        "    :return: A DataFrame containing the data from \"footballplayers\" with the correct columns as specified.\n",
        "    \"\"\"\n",
        "\n",
        "    # your code here\n",
        "    "
      ],
      "execution_count": 0,
      "outputs": []
    },
    {
      "cell_type": "code",
      "metadata": {
        "id": "ZK2yiOleB0KH",
        "colab_type": "code",
        "colab": {}
      },
      "source": [
        "player_df = create_footballplayer_df(player_lst)\n",
        "player_df"
      ],
      "execution_count": 0,
      "outputs": []
    },
    {
      "cell_type": "code",
      "metadata": {
        "id": "j-6yCqkMBd08",
        "colab_type": "code",
        "colab": {}
      },
      "source": [
        "def get_footballplayer_df_dtypes(df):\n",
        "    \"\"\"\n",
        "    Takes a DataFrame containing the footballplayer data and creates a dictionary mapping the label of each column\n",
        "    to its dtype.\n",
        "\n",
        "    :param df: The DataFrame containing the footballplayer data.\n",
        "    :return: A dictionary mapping the label (name) of each column of the DataFrame to the dtype of the column.\n",
        "    \"\"\"\n",
        "\n",
        "    # your code here"
      ],
      "execution_count": 0,
      "outputs": []
    },
    {
      "cell_type": "code",
      "metadata": {
        "id": "a6pP82XVB371",
        "colab_type": "code",
        "colab": {}
      },
      "source": [
        "get_footballplayer_df_dtypes(player_df)"
      ],
      "execution_count": 0,
      "outputs": []
    },
    {
      "cell_type": "code",
      "metadata": {
        "id": "fNtiWrSFBg-P",
        "colab_type": "code",
        "colab": {}
      },
      "source": [
        "def replace_none_values_in_column(df, column, values):\n",
        "    \"\"\"\n",
        "    Replaces all None values in a column of a DataFrame.\n",
        "\n",
        "    :param df: The DataFrame.\n",
        "    :param column: The column that has None values.\n",
        "    :param values: The values that are being used to replace the None values.\n",
        "    :return: Nothing - performs the replacement in-place.\n",
        "\n",
        "    HINTS:\n",
        "    - You can assume that the number of None values is always equal to len(values). That means you always get the\n",
        "        exactly right amount of values.\n",
        "    - Start by figuring out how to find the None values!\n",
        "    - Use this information to select the rows where this condition holds\n",
        "    - You only want to replace values in one column - find a way to select only this one column from the relevant rows\n",
        "    - Lastly you can update the row values in this one column. You find the replacement values in the variable \"values\"\n",
        "    \"\"\"\n",
        "    \n",
        "    # your code here"
      ],
      "execution_count": 0,
      "outputs": []
    },
    {
      "cell_type": "code",
      "metadata": {
        "id": "-wJKI8S1B6S3",
        "colab_type": "code",
        "colab": {}
      },
      "source": [
        "replace_none_values_in_column(player_df, \"Position\", [\"defender\", \"striker\"])\n",
        "player_df"
      ],
      "execution_count": 0,
      "outputs": []
    },
    {
      "cell_type": "code",
      "metadata": {
        "id": "W30es8HpWyT0",
        "colab_type": "code",
        "colab": {}
      },
      "source": [
        "def drop_column(df, column):\n",
        "    \"\"\"\n",
        "    Drops a column from a DataFrame.\n",
        "\n",
        "    :param df: The DataFrame.\n",
        "    :param column: The column to be dropped.\n",
        "    :return: The DataFrame without the unwanted column.\n",
        "    \"\"\"\n",
        "\n",
        "    # your code here\n"
      ],
      "execution_count": 0,
      "outputs": []
    },
    {
      "cell_type": "code",
      "metadata": {
        "id": "mCS3oDOQW-6u",
        "colab_type": "code",
        "colab": {}
      },
      "source": [
        "player_df = drop_column(player_df, 'Is Striker?')\n",
        "player_df"
      ],
      "execution_count": 0,
      "outputs": []
    },
    {
      "cell_type": "code",
      "metadata": {
        "id": "Dz-9RAs0YO90",
        "colab_type": "code",
        "colab": {}
      },
      "source": [
        "def change_column_order(df, new_order):\n",
        "    \"\"\"\n",
        "    Applies new column order to a DataFrame.\n",
        "\n",
        "    :param new_order: A list of the column labels in the new order.\n",
        "    :return: The DataFrame wiht the columns in new order.\n",
        "    \"\"\"\n",
        "\n",
        "    # your code here"
      ],
      "execution_count": 0,
      "outputs": []
    },
    {
      "cell_type": "code",
      "metadata": {
        "id": "u9v6bGjkZU_S",
        "colab_type": "code",
        "colab": {}
      },
      "source": [
        "player_df = change_column_order(player_df, ['Name', 'Rating',\t'Age', 'Position'])\n",
        "player_df"
      ],
      "execution_count": 0,
      "outputs": []
    },
    {
      "cell_type": "code",
      "metadata": {
        "id": "gie5bnD0aUIu",
        "colab_type": "code",
        "colab": {}
      },
      "source": [
        "def create_stats_df(stats, footballplayers):\n",
        "    \"\"\"\n",
        "    Takes a list of stats tuples and a dataframe of footballplayer objects and creates a DataFrame containing the footballplayer stats.\n",
        "    Each tuple in the stats list belongs to a footballplayer -> the first tuple belongs to the first footballplayer in the list etc.\n",
        "    \n",
        "    It should have the following columns in the same exact order:\n",
        "        Name, 2016/1017, 2017/2018, 2018/2019\n",
        "\n",
        "    :param stats: A list of tuples which each tuple containing three integer values.\n",
        "    :param footballplayers: A dataframe containing the footballplayers\n",
        "    :return: A DataFrame containing the name from \"footballplayers\" and his stats with the correct columns as specified.\n",
        "    \"\"\"\n",
        "    \n",
        "    # your code here\n"
      ],
      "execution_count": 0,
      "outputs": []
    },
    {
      "cell_type": "code",
      "metadata": {
        "id": "009r0fducyhu",
        "colab_type": "code",
        "colab": {}
      },
      "source": [
        "stats = [\n",
        "         (10,8,12),\n",
        "         (15,12,5),\n",
        "         (2,5,1),\n",
        "         (25,17,23),\n",
        "         (40,45,51),\n",
        "         (0,0,0),\n",
        "         (4,6,2),\n",
        "         (10,12,16),\n",
        "         (30,25,27),\n",
        "         (0,0,0)\n",
        "         ]\n",
        "\n",
        "stats_df = create_stats_df(stats, player_df)\n",
        "stats_df"
      ],
      "execution_count": 0,
      "outputs": []
    },
    {
      "cell_type": "code",
      "metadata": {
        "id": "AcWQ0MbRdgdD",
        "colab_type": "code",
        "colab": {}
      },
      "source": [
        "player_df"
      ],
      "execution_count": 0,
      "outputs": []
    },
    {
      "cell_type": "code",
      "metadata": {
        "id": "H0UVpX5H3C1q",
        "colab_type": "code",
        "colab": {}
      },
      "source": [
        "def add_more_players(df, players):\n",
        "    \"\"\"\n",
        "    Takes a list of dictionaries where each dictionary representsa a new player and adds them to the DataFrame df.\n",
        "    You must not check whether the number of columns in df is the same as the number of elements in the players tuple. Just add each player as new row to the DataFrame.\n",
        "\n",
        "    :param players: A list of tuples which each tuple representing a player\n",
        "    :param df: A DataFrame to which all the players should be added.\n",
        "    :return: The updated DataFrame\n",
        "    \"\"\"\n",
        "\n",
        "    # your code here"
      ],
      "execution_count": 0,
      "outputs": []
    },
    {
      "cell_type": "code",
      "metadata": {
        "id": "oL3MpXnh4sKU",
        "colab_type": "code",
        "colab": {}
      },
      "source": [
        "new_players = [{\n",
        "    'Name':'Cristiano Ronaldo',\n",
        "    '2016/1017'\t: 40,\n",
        "    '2017/2018' : 50,\n",
        "    '2018/2019' : 42\n",
        "  },\n",
        "  {\n",
        "    'Name':'Neymar',\n",
        "    '2016/1017'\t: 35,\n",
        "    '2017/2018' : 22,\n",
        "    '2018/2019' : 24\n",
        "  }]\n",
        "\n",
        "stats_df = add_more_players(stats_df, new_players)\n",
        "\n",
        "new_players = [{\n",
        "    'Name':'Heu-Ming Son',\n",
        "    'Rating': 87,\n",
        "    'Age' : 27,\n",
        "    'Position' : 'midfielder',\n",
        "  },\n",
        "  {\n",
        "    'Name':'Denis Zakaria',\n",
        "    'Rating': 86,\n",
        "    'Age' : 23,\n",
        "    'Position' : 'midfielder',\n",
        "  }]\n",
        "\n",
        "player_df = add_more_players(player_df, new_players)"
      ],
      "execution_count": 0,
      "outputs": []
    },
    {
      "cell_type": "code",
      "metadata": {
        "id": "mogzBnX7_U8c",
        "colab_type": "code",
        "colab": {}
      },
      "source": [
        "player_df"
      ],
      "execution_count": 0,
      "outputs": []
    },
    {
      "cell_type": "code",
      "metadata": {
        "id": "acfTr59w_iRn",
        "colab_type": "code",
        "colab": {}
      },
      "source": [
        "stats_df"
      ],
      "execution_count": 0,
      "outputs": []
    },
    {
      "cell_type": "code",
      "metadata": {
        "id": "IQxVleDNCXV2",
        "colab_type": "code",
        "colab": {}
      },
      "source": [
        "def merge_dfs(df1, df2, index, how):\n",
        "    \"\"\"\n",
        "    Merges two DataFrames.\n",
        "\n",
        "    :param df1: The first DataFrame.\n",
        "    :param df2: The second DataFrame.\n",
        "    :param index: Which column to use as index.\n",
        "    :param how: How the merging should be performed.\n",
        "    :return: The merge of the DataFrame.\n",
        "    \"\"\"\n",
        "    \n",
        "    # your code here"
      ],
      "execution_count": 0,
      "outputs": []
    },
    {
      "cell_type": "code",
      "metadata": {
        "id": "pIUipZTnaJ5Y",
        "colab_type": "code",
        "colab": {}
      },
      "source": [
        "# just uncomment the print-statement below for any desired possibility of merge\n",
        "\n",
        "# OUTER-merge: Take all rows of both dataframes\n",
        "# print(merge_dfs(player_df, stats_df, \"Name\", \"outer\"))\n",
        "\n",
        "# INNER-merge: Take all rows which match against the join-key\n",
        "# print(merge_dfs(player_df, stats_df, \"Name\", \"inner\"))\n",
        "\n",
        "# LEFT-merge: Take all rows from the left dataframe and those rows from the right dataframe which match against the join-key\n",
        "#print(merge_dfs(player_df, stats_df, \"Name\", \"left\"))\n",
        "\n",
        "# RIGHT-merge: Take all rows from the right dataframe and those rows from the left dataframe which match against the join-key\n",
        "# print(merge_dfs(player_df, stats_df, \"Name\", \"right\"))"
      ],
      "execution_count": 0,
      "outputs": []
    },
    {
      "cell_type": "code",
      "metadata": {
        "id": "lX577gsNCVuo",
        "colab_type": "code",
        "colab": {}
      },
      "source": [
        "def add_mean(df, columns):\n",
        "    \"\"\"\n",
        "    Adds a column \"Mean\" to a DataFrame and round the mean value to one digit.\n",
        "    Each row should have a value in this column. The \"Mean\" for each row should be calculated over all values in that\n",
        "    are in the columns from \"columns\".\n",
        "\n",
        "    HINT: Be sure to specify the correct axis!\n",
        "\n",
        "    :param df: The DataFrame.\n",
        "    :param columns: The columns over which the mean should be calculated.\n",
        "    :return: Nothing, add the column in-place.\n",
        "    \"\"\"\n",
        "\n",
        "    # your code here"
      ],
      "execution_count": 0,
      "outputs": []
    },
    {
      "cell_type": "code",
      "metadata": {
        "id": "8-qm86ipRXFc",
        "colab_type": "code",
        "colab": {}
      },
      "source": [
        "merged_df = merge_dfs(player_df, stats_df, \"Name\", \"outer\")\n",
        "add_mean(merged_df, ['2016/1017', '2017/2018','2018/2019'])"
      ],
      "execution_count": 0,
      "outputs": []
    },
    {
      "cell_type": "code",
      "metadata": {
        "id": "I-Dr_BA6R4Z3",
        "colab_type": "code",
        "colab": {}
      },
      "source": [
        "# now sort the data frame in descending order based on the column Average Goals\n",
        "# your code here"
      ],
      "execution_count": 0,
      "outputs": []
    },
    {
      "cell_type": "code",
      "metadata": {
        "id": "vvNeQ1frTmHc",
        "colab_type": "code",
        "colab": {}
      },
      "source": [
        "merged_df"
      ],
      "execution_count": 0,
      "outputs": []
    }
  ]
}