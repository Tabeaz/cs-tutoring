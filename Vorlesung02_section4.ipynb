{
  "nbformat": 4,
  "nbformat_minor": 5,
  "metadata": {
    "celltoolbar": "Slideshow",
    "kernelspec": {
      "display_name": "Python 3",
      "language": "python",
      "name": "python3"
    },
    "language_info": {
      "codemirror_mode": {
        "name": "ipython",
        "version": 3
      },
      "file_extension": ".py",
      "mimetype": "text/x-python",
      "name": "python",
      "nbconvert_exporter": "python",
      "pygments_lexer": "ipython3",
      "version": "3.8.8"
    },
    "colab": {
      "name": "Vorlesung02.section4.ipynb",
      "provenance": [],
      "collapsed_sections": [],
      "include_colab_link": true
    }
  },
  "cells": [
    {
      "cell_type": "markdown",
      "metadata": {
        "id": "view-in-github",
        "colab_type": "text"
      },
      "source": [
        "<a href=\"https://colab.research.google.com/github/Tabeaz/cs-tutoring/blob/master/Vorlesung02_section4.ipynb\" target=\"_parent\"><img src=\"https://colab.research.google.com/assets/colab-badge.svg\" alt=\"Open In Colab\"/></a>"
      ]
    },
    {
      "cell_type": "markdown",
      "metadata": {
        "id": "equal-patrick"
      },
      "source": [
        "# Lecture 2\n",
        "\n",
        "# Section 4: Functions\n",
        "\n",
        "Hint: All the examples and explanations from this fourth part of today's lecture can be found in chapter 4 of the book."
      ],
      "id": "equal-patrick"
    },
    {
      "cell_type": "markdown",
      "metadata": {
        "id": "flexible-reception"
      },
      "source": [
        "### Objectives \n",
        "* Create custom functions.\n",
        "* Import and use Python Standard Library modules, such as `random` and `math`, to reuse code and avoid “reinventing the wheel.”\n",
        "* Pass data between functions.\n",
        "* Generate a range of random numbers. "
      ],
      "id": "flexible-reception"
    },
    {
      "cell_type": "markdown",
      "metadata": {
        "id": "mexican-picnic"
      },
      "source": [
        "## 4.1 Idea\n",
        "* Construct large programs from smaller, more manageable pieces. \n",
        "* Divide and conquer. \n",
        "* Use existing functions as building blocks.\n",
        "    * Key aspect of software reusability.\n",
        "    * Also a major benefit of object-oriented programming. \n",
        "* Packaging code as a function allows you to execute it from various locations in your program just by calling the function.\n",
        "* Makes programs easier to modify."
      ],
      "id": "mexican-picnic"
    },
    {
      "cell_type": "markdown",
      "metadata": {
        "id": "sublime-development"
      },
      "source": [
        "## 4.2 Defining Functions\n",
        "* `square` function that calculates the square of its argument."
      ],
      "id": "sublime-development"
    },
    {
      "cell_type": "code",
      "metadata": {
        "id": "pregnant-japan"
      },
      "source": [
        "def square(number):\n",
        "    \"\"\"Calculate the square of number.\"\"\"  #das heisst dogstring. Erklärt wofür die funktion ist zur dokumentation. \n",
        "    return number ** 2\n",
        "\n",
        "#eine funktion quadrieren. WIe schreibt man funktionen? funktionsname, argument in klammer: EInrückung, return als Anweisung. Diese definiert was es ist, was die funktion zurückgibt."
      ],
      "id": "pregnant-japan",
      "execution_count": null,
      "outputs": []
    },
    {
      "cell_type": "code",
      "metadata": {
        "id": "eYy0R2GhR7Os"
      },
      "source": [
        "#die funktion gibt die rechnung zurück."
      ],
      "id": "eYy0R2GhR7Os",
      "execution_count": null,
      "outputs": []
    },
    {
      "cell_type": "code",
      "metadata": {
        "colab": {
          "base_uri": "https://localhost:8080/"
        },
        "id": "roman-meditation",
        "outputId": "4c3419d8-e371-46a3-de99-40ddb6f41051"
      },
      "source": [
        "square(7)\r\n",
        "\r\n",
        "#7 zum quadrat. "
      ],
      "id": "roman-meditation",
      "execution_count": null,
      "outputs": [
        {
          "output_type": "execute_result",
          "data": {
            "text/plain": [
              "49"
            ]
          },
          "metadata": {
            "tags": []
          },
          "execution_count": 5
        }
      ]
    },
    {
      "cell_type": "code",
      "metadata": {
        "colab": {
          "base_uri": "https://localhost:8080/"
        },
        "id": "excessive-perry",
        "outputId": "1afb13d6-76f5-4284-e5db-e8f9f4ff2286"
      },
      "source": [
        "square(2.5)"
      ],
      "id": "excessive-perry",
      "execution_count": null,
      "outputs": [
        {
          "output_type": "execute_result",
          "data": {
            "text/plain": [
              "6.25"
            ]
          },
          "metadata": {
            "tags": []
          },
          "execution_count": 3
        }
      ]
    },
    {
      "cell_type": "markdown",
      "metadata": {
        "id": "upper-signal"
      },
      "source": [
        "* Calling `square` with a non-numeric argument like `'hello'` causes a `TypeError` because the exponentiation operator (`**`) works only with numeric values"
      ],
      "id": "upper-signal"
    },
    {
      "cell_type": "markdown",
      "metadata": {
        "id": "scenic-interpretation"
      },
      "source": [
        "### Defining a Custom Function\n",
        "* Definition begins with the (**`def` keyword**, followed by the function name, a set of parentheses and a colon (`:`). \n",
        "* By convention function names should begin with a lowercase letter and in multiword names underscores should separate each word. \n",
        "* Required parentheses contain the function’s **parameter list**.\n",
        "* Empty parentheses mean no parameters. \n",
        "* The indented lines after the colon (`:`) are the function’s **block**\n",
        "    * Consists of an optional docstring followed by the statements that perform the function’s task."
      ],
      "id": "scenic-interpretation"
    },
    {
      "cell_type": "code",
      "metadata": {
        "id": "YxkS6O44STAs"
      },
      "source": [
        "#man braucht immer die klammer nach return zum aufruf. "
      ],
      "id": "YxkS6O44STAs",
      "execution_count": null,
      "outputs": []
    },
    {
      "cell_type": "markdown",
      "metadata": {
        "id": "hourly-checklist"
      },
      "source": [
        "### Specifying a Custom Function’s Docstring \n",
        "* _Style Guide for Python Code_: First line in a function’s block should be a docstring that briefly explains the function’s purpose."
      ],
      "id": "hourly-checklist"
    },
    {
      "cell_type": "markdown",
      "metadata": {
        "id": "combined-contemporary"
      },
      "source": [
        "### Returning a Result to a Function’s Caller\n",
        "* Function calls also can be embedded in expressions:"
      ],
      "id": "combined-contemporary"
    },
    {
      "cell_type": "code",
      "metadata": {
        "colab": {
          "base_uri": "https://localhost:8080/"
        },
        "id": "durable-deviation",
        "outputId": "cfad95d0-1b98-4661-c001-6068be6a744a"
      },
      "source": [
        "print('The square of 7 is', square(90))\r\n",
        "\r\n",
        "#richtig ausgeführt, auch wenn falsch."
      ],
      "id": "durable-deviation",
      "execution_count": null,
      "outputs": [
        {
          "output_type": "stream",
          "text": [
            "The square of 7 is 8100\n"
          ],
          "name": "stdout"
        }
      ]
    },
    {
      "cell_type": "markdown",
      "metadata": {
        "id": "automotive-place"
      },
      "source": [
        "* Three Ways to Return a Result to a Function’s Caller\n",
        "    * **`return`** followed by an expression.\n",
        "    * **`return`** without an expression implicitly returns **`None`**&mdash;represents the **absence of a value** and **evaluates to `False` in conditions**.\n",
        "    * **No `return` statement implicitly returns `None`**.\n"
      ],
      "id": "automotive-place"
    },
    {
      "cell_type": "markdown",
      "metadata": {
        "id": "round-hampshire"
      },
      "source": [
        "### What Happens When You Call a Function\n",
        "* Parameters exist only during the function call. \n",
        "* Created on each call to the function to receive arguments.\n",
        "* Destroyed when the function returns its result to the caller. \n",
        "* A function’s parameters and variables defined in its block are all **local variables**."
      ],
      "id": "round-hampshire"
    },
    {
      "cell_type": "code",
      "metadata": {
        "id": "medium-kennedy"
      },
      "source": [
        "def square(number):\n",
        "    \"\"\"Calculate the square of number.\"\"\"\n",
        "    return number ** 2\n",
        "\n",
        "    #Wenn die funktion fertig ist, gibt es die variable nicht mehr. Deshab gibt es unten einen fehler. Er kennt number nur in der funktion. "
      ],
      "id": "medium-kennedy",
      "execution_count": null,
      "outputs": []
    },
    {
      "cell_type": "code",
      "metadata": {
        "colab": {
          "base_uri": "https://localhost:8080/",
          "height": 189
        },
        "id": "better-connection",
        "outputId": "2a00c9ca-ab32-4d3d-8b36-c98045b55c10"
      },
      "source": [
        "print (square(10))\r\n",
        "number"
      ],
      "id": "better-connection",
      "execution_count": null,
      "outputs": [
        {
          "output_type": "error",
          "ename": "NameError",
          "evalue": "ignored",
          "traceback": [
            "\u001b[0;31m---------------------------------------------------------------------------\u001b[0m",
            "\u001b[0;31mNameError\u001b[0m                                 Traceback (most recent call last)",
            "\u001b[0;32m<ipython-input-8-02367c47834f>\u001b[0m in \u001b[0;36m<module>\u001b[0;34m()\u001b[0m\n\u001b[0;32m----> 1\u001b[0;31m \u001b[0mprint\u001b[0m \u001b[0;34m(\u001b[0m\u001b[0msquare\u001b[0m\u001b[0;34m(\u001b[0m\u001b[0;36m10\u001b[0m\u001b[0;34m)\u001b[0m\u001b[0;34m)\u001b[0m\u001b[0;34m\u001b[0m\u001b[0;34m\u001b[0m\u001b[0m\n\u001b[0m\u001b[1;32m      2\u001b[0m \u001b[0mnumber\u001b[0m\u001b[0;34m\u001b[0m\u001b[0;34m\u001b[0m\u001b[0m\n",
            "\u001b[0;31mNameError\u001b[0m: name 'square' is not defined"
          ]
        }
      ]
    },
    {
      "cell_type": "markdown",
      "metadata": {
        "id": "upset-translator"
      },
      "source": [
        "## 4.3 Functions with Multiple Parameters\n",
        "* `maximum` function that determines and returns the largest of three values."
      ],
      "id": "upset-translator"
    },
    {
      "cell_type": "code",
      "metadata": {
        "id": "sitting-poetry"
      },
      "source": [
        "def maximum(value1, value2, value3):\n",
        "    \"\"\"Return the maximum of three values.\"\"\"\n",
        "    max_value = value1\n",
        "    if value2 > max_value:\n",
        "        max_value = value2\n",
        "    if value3 > max_value:\n",
        "        max_value = value3\n",
        "    return max_value"
      ],
      "id": "sitting-poetry",
      "execution_count": null,
      "outputs": []
    },
    {
      "cell_type": "code",
      "metadata": {
        "colab": {
          "base_uri": "https://localhost:8080/"
        },
        "id": "interracial-shower",
        "outputId": "200f088a-2f76-437f-fe7a-75d6e5ece2df"
      },
      "source": [
        "maximum(12, 27, 36)"
      ],
      "id": "interracial-shower",
      "execution_count": null,
      "outputs": [
        {
          "output_type": "execute_result",
          "data": {
            "text/plain": [
              "36"
            ]
          },
          "metadata": {
            "tags": []
          },
          "execution_count": 11
        }
      ]
    },
    {
      "cell_type": "code",
      "metadata": {
        "colab": {
          "base_uri": "https://localhost:8080/"
        },
        "id": "residential-accommodation",
        "outputId": "5d9defee-f645-41f0-8f9d-af729f55e510"
      },
      "source": [
        "maximum(12.3, 45.6, 9.7)"
      ],
      "id": "residential-accommodation",
      "execution_count": null,
      "outputs": [
        {
          "output_type": "execute_result",
          "data": {
            "text/plain": [
              "45.6"
            ]
          },
          "metadata": {
            "tags": []
          },
          "execution_count": 12
        }
      ]
    },
    {
      "cell_type": "code",
      "metadata": {
        "colab": {
          "base_uri": "https://localhost:8080/",
          "height": 36
        },
        "id": "interesting-rescue",
        "outputId": "5c7be6b2-8272-4111-8b22-4d21864e5e43"
      },
      "source": [
        "maximum('yellow', 'red', 'orange')"
      ],
      "id": "interesting-rescue",
      "execution_count": null,
      "outputs": [
        {
          "output_type": "execute_result",
          "data": {
            "application/vnd.google.colaboratory.intrinsic+json": {
              "type": "string"
            },
            "text/plain": [
              "'yellow'"
            ]
          },
          "metadata": {
            "tags": []
          },
          "execution_count": 13
        }
      ]
    },
    {
      "cell_type": "markdown",
      "metadata": {
        "id": "other-judge"
      },
      "source": [
        "* May call maximum with mixed types, such as `int`s and `float`s."
      ],
      "id": "other-judge"
    },
    {
      "cell_type": "code",
      "metadata": {
        "id": "republican-undergraduate"
      },
      "source": [
        "maximum(13.5, -3, 7)"
      ],
      "id": "republican-undergraduate",
      "execution_count": null,
      "outputs": []
    },
    {
      "cell_type": "markdown",
      "metadata": {
        "id": "adopted-mining"
      },
      "source": [
        "### Function maximum’s Definition\n",
        "* Specify multiple parameters in a comma-separated list.\n",
        "* To determine the largest value:\n",
        "    * Assume that `value1` contains the largest value. \n",
        "    * The first `if` statement then tests `value2 > max_value`, and if this condition is `True` assigns `value2` to `max_value`. \n",
        "    * The second `if` statement then tests `value3 > max_value`, and if this condition is `True` assigns `value3` to `max_value`. \n",
        "* Now, `max_value` contains the largest value."
      ],
      "id": "adopted-mining"
    },
    {
      "cell_type": "markdown",
      "metadata": {
        "id": "intermediate-intent"
      },
      "source": [
        "### Python’s Built-In max and min Functions\n",
        "* For many common tasks, the capabilities you need already exist in Python. \n",
        "* Built-in `max` and `min` functions know how to determine the largest and smallest of their two or more arguments:"
      ],
      "id": "intermediate-intent"
    },
    {
      "cell_type": "code",
      "metadata": {
        "colab": {
          "base_uri": "https://localhost:8080/",
          "height": 36
        },
        "id": "continental-gabriel",
        "outputId": "d770e05d-1374-433f-a381-2f3d3e2b837c"
      },
      "source": [
        "max('yellow', 'red', 'orange', 'blue', 'green')"
      ],
      "id": "continental-gabriel",
      "execution_count": null,
      "outputs": [
        {
          "output_type": "execute_result",
          "data": {
            "application/vnd.google.colaboratory.intrinsic+json": {
              "type": "string"
            },
            "text/plain": [
              "'yellow'"
            ]
          },
          "metadata": {
            "tags": []
          },
          "execution_count": 15
        }
      ]
    },
    {
      "cell_type": "code",
      "metadata": {
        "colab": {
          "base_uri": "https://localhost:8080/"
        },
        "id": "wrong-herald",
        "outputId": "b41be67a-bd54-4f4c-9cbe-40b49734254f"
      },
      "source": [
        "min(15, 9, 27, 14)"
      ],
      "id": "wrong-herald",
      "execution_count": null,
      "outputs": [
        {
          "output_type": "execute_result",
          "data": {
            "text/plain": [
              "9"
            ]
          },
          "metadata": {
            "tags": []
          },
          "execution_count": 14
        }
      ]
    },
    {
      "cell_type": "markdown",
      "metadata": {
        "id": "blank-producer"
      },
      "source": [
        "* Each also can receive an iterable argument, such as a list or a string. \n",
        "* Using built-in functions or functions from the Python Standard Library’s modules rather than writing your own can reduce development time and increase program reliability, portability and performance. \n",
        "* [Python’s built-in functions and modules](https://docs.python.org/3/library/index.html)"
      ],
      "id": "blank-producer"
    },
    {
      "cell_type": "markdown",
      "metadata": {
        "id": "conscious-couple"
      },
      "source": [
        "# 4.4 Random-Number Generation\n",
        "* Can introduce the element of chance via the Python Standard Library’s `random` module. "
      ],
      "id": "conscious-couple"
    },
    {
      "cell_type": "markdown",
      "metadata": {
        "id": "realistic-stomach"
      },
      "source": [
        "### Rolling a Six-Sided Die\n",
        "* Product 10 random integers in the range 1–6 to simulate rolling a six-sided die:"
      ],
      "id": "realistic-stomach"
    },
    {
      "cell_type": "code",
      "metadata": {
        "id": "level-senior"
      },
      "source": [
        "import random"
      ],
      "id": "level-senior",
      "execution_count": null,
      "outputs": []
    },
    {
      "cell_type": "code",
      "metadata": {
        "id": "assured-trunk"
      },
      "source": [
        "for roll in range(10):\n",
        "    print(random.randrange(1, 7), end=' ')"
      ],
      "id": "assured-trunk",
      "execution_count": null,
      "outputs": []
    },
    {
      "cell_type": "markdown",
      "metadata": {
        "id": "related-clone"
      },
      "source": [
        "* `randrange` function generates an integer from the first argument value up to, but not including, the second argument value.\n",
        "* Different values are displayed if you re-execute the loop."
      ],
      "id": "related-clone"
    },
    {
      "cell_type": "code",
      "metadata": {
        "id": "structural-module"
      },
      "source": [
        "for roll in range(10):\n",
        "    print(random.randrange(1, 7), end=' ')"
      ],
      "id": "structural-module",
      "execution_count": null,
      "outputs": []
    },
    {
      "cell_type": "markdown",
      "metadata": {
        "id": "vital-imaging"
      },
      "source": [
        "### Rolling a Six-Sided Die 6,000,000 Times\n",
        "* If `randrange` truly produces integers at random, every number in its range has an equal probability (or chance or likelihood) of being returned each time we call it. \n",
        "* Roll a die 6,000,000 times.\n",
        "* Each die face should occur approximately 1,000,000 times.\n",
        "* We used Python’s underscore (_) digit separator to make the value 6000000 more readable. "
      ],
      "id": "vital-imaging"
    },
    {
      "cell_type": "markdown",
      "metadata": {
        "id": "allied-bunny"
      },
      "source": [
        "```python\n",
        "### Rolling a Six-Sided Die 6,000,000 Times\n",
        "\n",
        "# fig04_01.py\n",
        "\"\"\"Roll a six-sided die 6,000,000 times.\"\"\"\n",
        "import random\n",
        "\n",
        "# face frequency counters\n",
        "frequency1 = 0\n",
        "frequency2 = 0\n",
        "frequency3 = 0\n",
        "frequency4 = 0\n",
        "frequency5 = 0\n",
        "frequency6 = 0\n",
        "\n",
        "# 6,000,000 die rolls\n",
        "for roll in range(6_000_000):  # note underscore separators\n",
        "    face = random.randrange(1, 7)\n",
        "\n",
        "    # increment appropriate face counter\n",
        "    if face == 1:\n",
        "        frequency1 += 1\n",
        "    elif face == 2:\n",
        "        frequency2 += 1\n",
        "    elif face == 3:\n",
        "        frequency3 += 1\n",
        "    elif face == 4:\n",
        "        frequency4 += 1\n",
        "    elif face == 5:\n",
        "        frequency5 += 1\n",
        "    elif face == 6:\n",
        "        frequency6 += 1\n",
        "\n",
        "print(f'Face{\"Frequency\":>13}')\n",
        "print(f'{1:>4}{frequency1:>13}')\n",
        "print(f'{2:>4}{frequency2:>13}')\n",
        "print(f'{3:>4}{frequency3:>13}')\n",
        "print(f'{4:>4}{frequency4:>13}')\n",
        "print(f'{5:>4}{frequency5:>13}')\n",
        "print(f'{6:>4}{frequency6:>13}')\n",
        "```"
      ],
      "id": "allied-bunny"
    },
    {
      "cell_type": "code",
      "metadata": {
        "id": "isolated-strain"
      },
      "source": [
        "run fig04_01.py"
      ],
      "id": "isolated-strain",
      "execution_count": null,
      "outputs": []
    },
    {
      "cell_type": "markdown",
      "metadata": {
        "id": "conservative-newman"
      },
      "source": [
        "### Seeding the Random-Number Generator for Reproducibility\n",
        "* Function `randrange` generates pseudorandom numbers. \n",
        "* Numbers appear to be random, because each time you start a new interactive session or execute a script that uses the random module’s functions, Python internally uses a different seed value. \n",
        "* When you’re debugging logic errors in programs that use randomly generated data, it can be helpful to use the same sequence of random numbers. \n",
        "* To do this, use the random module’s `seed` function to seed the random-number generator:"
      ],
      "id": "conservative-newman"
    },
    {
      "cell_type": "code",
      "metadata": {
        "id": "musical-france"
      },
      "source": [
        "random.seed(32)"
      ],
      "id": "musical-france",
      "execution_count": null,
      "outputs": []
    },
    {
      "cell_type": "code",
      "metadata": {
        "id": "mature-point"
      },
      "source": [
        "for roll in range(10):\n",
        "    print(random.randrange(1, 7), end=' ')"
      ],
      "id": "mature-point",
      "execution_count": null,
      "outputs": []
    },
    {
      "cell_type": "code",
      "metadata": {
        "id": "empirical-expansion"
      },
      "source": [
        "for roll in range(10):\n",
        "    print(random.randrange(1, 7), end=' ')"
      ],
      "id": "empirical-expansion",
      "execution_count": null,
      "outputs": []
    },
    {
      "cell_type": "code",
      "metadata": {
        "id": "beautiful-insert"
      },
      "source": [
        "random.seed(32)"
      ],
      "id": "beautiful-insert",
      "execution_count": null,
      "outputs": []
    },
    {
      "cell_type": "code",
      "metadata": {
        "scrolled": true,
        "id": "resistant-focus"
      },
      "source": [
        "for roll in range(10):\n",
        "    print(random.randrange(1, 7), end=' ')"
      ],
      "id": "resistant-focus",
      "execution_count": null,
      "outputs": []
    },
    {
      "cell_type": "markdown",
      "metadata": {
        "id": "creative-breath"
      },
      "source": [
        "# One more Quiz, please"
      ],
      "id": "creative-breath"
    },
    {
      "cell_type": "markdown",
      "metadata": {
        "id": "secret-soviet"
      },
      "source": [
        "------\n",
        "&copy;1992&ndash;2020 by Pearson Education, Inc. All Rights Reserved. This content is based on Chapter 1 of the book [**Intro to Python for Computer Science and Data Science: Learning to Program with AI, Big Data and the Cloud**](https://amzn.to/2VvdnxE).         "
      ],
      "id": "secret-soviet"
    }
  ]
}