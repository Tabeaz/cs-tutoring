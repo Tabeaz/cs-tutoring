{
  "nbformat": 4,
  "nbformat_minor": 5,
  "metadata": {
    "celltoolbar": "Slideshow",
    "kernelspec": {
      "display_name": "Python 3",
      "language": "python",
      "name": "python3"
    },
    "language_info": {
      "codemirror_mode": {
        "name": "ipython",
        "version": 3
      },
      "file_extension": ".py",
      "mimetype": "text/x-python",
      "name": "python",
      "nbconvert_exporter": "python",
      "pygments_lexer": "ipython3",
      "version": "3.8.8"
    },
    "colab": {
      "name": "Vorlesung02.section3.ipynb",
      "provenance": [],
      "collapsed_sections": [
        "familiar-cassette",
        "legislative-completion",
        "metropolitan-strip",
        "opened-routine",
        "stock-preparation",
        "japanese-variation",
        "deadly-montana",
        "brief-longer"
      ],
      "include_colab_link": true
    }
  },
  "cells": [
    {
      "cell_type": "markdown",
      "metadata": {
        "id": "view-in-github",
        "colab_type": "text"
      },
      "source": [
        "<a href=\"https://colab.research.google.com/github/Tabeaz/cs-tutoring/blob/master/Vorlesung02_section3.ipynb\" target=\"_parent\"><img src=\"https://colab.research.google.com/assets/colab-badge.svg\" alt=\"Open In Colab\"/></a>"
      ]
    },
    {
      "cell_type": "markdown",
      "metadata": {
        "id": "equal-patrick"
      },
      "source": [
        "# Lecture 2\n",
        "\n",
        "# Section 3: Control statements\n",
        "\n",
        "Hint: All the examples and explanations from this third part of today's lecture can be found in chapter 3 of the book."
      ],
      "id": "equal-patrick"
    },
    {
      "cell_type": "markdown",
      "metadata": {
        "id": "continued-kenya"
      },
      "source": [
        "### Objectives \n",
        "* Decide whether to execute actions with the statements `if`, `if`…`else` and `if`…`elif`…`else`.\n",
        "* Execute statements repeatedly with `while` and `for`.\n",
        "* Shorten assignment expressions with augmented assignments.\n",
        "* Use the `for` statement and the built-in `range` function to repeat actions for a sequence of values."
      ],
      "id": "continued-kenya"
    },
    {
      "cell_type": "markdown",
      "metadata": {
        "id": "affiliated-storm"
      },
      "source": [
        "## 3.1 Algorithms"
      ],
      "id": "affiliated-storm"
    },
    {
      "cell_type": "markdown",
      "metadata": {
        "id": "sitting-dryer"
      },
      "source": [
        "* Any computing problem can be solved by executing a series of actions in a specific order. \n",
        "* An algorithm is a procedure for solving a problem in terms of\n",
        "    * the actions to execute and\n",
        "    * the order in which these actions execute\n",
        "* Specifying the order in which statements (actions) execute in a program is called program control. \n"
      ],
      "id": "sitting-dryer"
    },
    {
      "cell_type": "markdown",
      "metadata": {
        "id": "alert-princeton"
      },
      "source": [
        "## 3.2 Control Statements"
      ],
      "id": "alert-princeton"
    },
    {
      "cell_type": "markdown",
      "metadata": {
        "id": "japanese-aurora"
      },
      "source": [
        "* Usually, statements in a program execute in the order in which they’re written. \n",
        "    * Called sequential execution. \n",
        "* Various Python statements enable you to specify that the next statement to execute may be other than the next one in sequence. \n",
        "    * Called transfer of control and is achieved with Python control statements. "
      ],
      "id": "japanese-aurora"
    },
    {
      "cell_type": "markdown",
      "metadata": {
        "id": "adjustable-underwear"
      },
      "source": [
        "### Forms of Control\n",
        "* All programs can be written using three forms of control\n",
        "    * Sequential execution\n",
        "    * The selection statement \n",
        "    * The iteration statement. \n",
        "* Python statements execute one after the other “in sequence,” unless directed otherwise. "
      ],
      "id": "adjustable-underwear"
    },
    {
      "cell_type": "code",
      "metadata": {
        "id": "qqCu7Rix_7Zt"
      },
      "source": [
        "#control :Sie steuern den programmablauf. "
      ],
      "id": "qqCu7Rix_7Zt",
      "execution_count": null,
      "outputs": []
    },
    {
      "cell_type": "markdown",
      "metadata": {
        "id": "vietnamese-membrane"
      },
      "source": [
        "### Flowcharts (1 of 3)\n",
        "* Graphical representation of an algorithm or a part of one. \n",
        "* Drawn using rectangles, diamonds, rounded rectangles and small circles connected by arrows called flowlines. \n",
        "* Clearly show how forms of control operate. "
      ],
      "id": "vietnamese-membrane"
    },
    {
      "cell_type": "markdown",
      "metadata": {
        "id": "associate-management"
      },
      "source": [
        "### Flowcharts (2 of 3)\n",
        "* Flowchart segment showing sequential execution: \n",
        "![Flowchart segment showing sequential execution of two statements](./ch03images/AAHBDOB0.png \"Flowchart segment showing sequential execution of two statements\")"
      ],
      "id": "associate-management"
    },
    {
      "cell_type": "markdown",
      "metadata": {
        "id": "adolescent-maximum"
      },
      "source": [
        "### Flowcharts (3 of 3)\n",
        "* Rectangle (or action) symbol indicates any action\n",
        "* Flowlines show the order in which the actions execute. \n",
        "* In a flowchart for a complete algorithm, the first symbol is a rounded rectangle containing the word “Begin.” The last symbol is a rounded rectangle containing the word “End.” \n",
        "* In a flowchart for only a part of an algorithm, use small circles called connector symbols."
      ],
      "id": "adolescent-maximum"
    },
    {
      "cell_type": "markdown",
      "metadata": {
        "id": "cloudy-theme"
      },
      "source": [
        "### Selection Statements\n",
        "* Three selection statements that execute code based on a condition—an expression that evaluates to either `True` or `False`: \n",
        "    * `if` performs an action if a condition is `True` or skips the action if the condition is `False`. \n",
        "    * `if`…`else` statement performs an action if a condition is `True` or performs a different action if the condition is `False`. \n",
        "    * `if`…`elif`…`else` statement performs one of many different actions, depending on the truth or falsity of several conditions. \n",
        "* Anywhere a single action can be placed, a group of actions can be placed. "
      ],
      "id": "cloudy-theme"
    },
    {
      "cell_type": "markdown",
      "metadata": {
        "id": "scheduled-building"
      },
      "source": [
        "### Iteration Statements\n",
        "* Two iteration statements\n",
        "    * `while`  repeats an action (or a group of actions) as long as a condition remains True. \n",
        "    * `for` statement repeats an action (or a group of actions) for every item in a sequence of items. "
      ],
      "id": "scheduled-building"
    },
    {
      "cell_type": "markdown",
      "metadata": {
        "id": "published-links"
      },
      "source": [
        "# 3.3 `if` Statement\n",
        "* Pseudocode: Suppose that a passing grade on an examination is 60. The pseudocode\n",
        "\n",
        "> If student’s grade is greater than or equal to 60  \n",
        "> &nbsp;&nbsp;&nbsp;&nbsp;&nbsp;&nbsp;Display 'Passed'\n",
        "\n",
        "* If the condition is true, 'Passed' is displayed. Then, the next pseudocode statement in order is “performed.”\n",
        "* If the condition is false, nothing is displayed, and the next pseudocode statement is “performed.” \n",
        "* Indentation emphasizes that 'Passed' is displayed only if the condition is true. "
      ],
      "id": "published-links"
    },
    {
      "cell_type": "markdown",
      "metadata": {
        "id": "useful-pixel"
      },
      "source": [
        "**Corresponding `if` Statement**"
      ],
      "id": "useful-pixel"
    },
    {
      "cell_type": "code",
      "metadata": {
        "id": "neutral-modification"
      },
      "source": [
        "grade = 85"
      ],
      "id": "neutral-modification",
      "execution_count": null,
      "outputs": []
    },
    {
      "cell_type": "code",
      "metadata": {
        "id": "finite-payment",
        "colab": {
          "base_uri": "https://localhost:8080/"
        },
        "outputId": "8c6c49a3-bebb-4205-b3bb-44074114a359"
      },
      "source": [
        "if grade >= 60:\n",
        "    print('Passed')"
      ],
      "id": "finite-payment",
      "execution_count": null,
      "outputs": [
        {
          "output_type": "stream",
          "text": [
            "Passed\n"
          ],
          "name": "stdout"
        }
      ]
    },
    {
      "cell_type": "markdown",
      "metadata": {
        "id": "administrative-aquarium"
      },
      "source": [
        "### Suite Indentation\n",
        "* Indenting a suite is required."
      ],
      "id": "administrative-aquarium"
    },
    {
      "cell_type": "code",
      "metadata": {
        "id": "historic-alpha",
        "colab": {
          "base_uri": "https://localhost:8080/"
        },
        "outputId": "cbfefa98-96a5-435f-fc55-36d2fe72a5c1"
      },
      "source": [
        "if grade >= 60:\n",
        "    print('Passed')  # statement is not indented properly\n",
        "\n",
        "#hier ist es nicht eingerückt. "
      ],
      "id": "historic-alpha",
      "execution_count": null,
      "outputs": [
        {
          "output_type": "stream",
          "text": [
            "Passed\n"
          ],
          "name": "stdout"
        }
      ]
    },
    {
      "cell_type": "markdown",
      "metadata": {
        "id": "bibliographic-austin"
      },
      "source": [
        "* Statements in a suite must have the same indentation."
      ],
      "id": "bibliographic-austin"
    },
    {
      "cell_type": "code",
      "metadata": {
        "id": "extensive-vacation",
        "colab": {
          "base_uri": "https://localhost:8080/"
        },
        "outputId": "a39c3082-e3ac-491d-d92d-e95778330654"
      },
      "source": [
        "if grade >= 10:\n",
        "    print('Passed')\n",
        "    print('Good job!')\n",
        "\n",
        " #gehört das noch zu der suite, oder zum programmablauf nach dem statement. "
      ],
      "id": "extensive-vacation",
      "execution_count": null,
      "outputs": [
        {
          "output_type": "stream",
          "text": [
            "Passed\n",
            "Good job!\n"
          ],
          "name": "stdout"
        }
      ]
    },
    {
      "cell_type": "markdown",
      "metadata": {
        "id": "familiar-cassette"
      },
      "source": [
        "### `if` Statement Flowchart\n",
        "![Flowchart segment showing an if statement](./ch03images/AAHBDOC0.png \"Flowchart segment showing an if statement\")\n",
        "\n",
        "* The decision (diamond) symbol contains a condition that can be either `True` or `False`. \n",
        "* Two flowlines emerging from it: \n",
        "    * One indicates the direction to follow when the condition in the symbol is `True`. \n",
        "    * The other indicates the direction to follow when the condition is `False`. "
      ],
      "id": "familiar-cassette"
    },
    {
      "cell_type": "markdown",
      "metadata": {
        "id": "exempt-gathering"
      },
      "source": [
        "### Every Expression Can Be Treated as `True` or `False`"
      ],
      "id": "exempt-gathering"
    },
    {
      "cell_type": "code",
      "metadata": {
        "id": "controlled-wellington"
      },
      "source": [
        "if 1:\n",
        "    print('Nonzero values are true, so this will print')"
      ],
      "id": "controlled-wellington",
      "execution_count": null,
      "outputs": []
    },
    {
      "cell_type": "code",
      "metadata": {
        "id": "stunning-roulette",
        "colab": {
          "base_uri": "https://localhost:8080/"
        },
        "outputId": "23e17746-e4ed-454d-a2e0-4614c920c1b5"
      },
      "source": [
        "if 0:\n",
        "    print('Zero is false, so this will not print')\n",
        "\n",
        "    #zero heisst false. wird nicht ausgeführt.Nu die nächste Zelle. \n",
        "\n",
        "print(\"hallo\")"
      ],
      "id": "stunning-roulette",
      "execution_count": null,
      "outputs": [
        {
          "output_type": "stream",
          "text": [
            "hallo\n"
          ],
          "name": "stdout"
        }
      ]
    },
    {
      "cell_type": "markdown",
      "metadata": {
        "id": "biological-worst"
      },
      "source": [
        "### An Additional Note on Confusing `==` and `=` \n",
        "* Using `==` instead of `=` in an assignment statement can lead to subtle problems. \n",
        "* Writing `grade == 85` when we intend to define a variable with `grade = 85` would cause a `NameError`.\n",
        "* Logic error: If `grade` had been defined **before** the preceding statement, then `grade == 85` would evaluate to `True` or `False`, depending on `grade`’s value, and not perform the intended assignment. "
      ],
      "id": "biological-worst"
    },
    {
      "cell_type": "code",
      "metadata": {
        "id": "_INw1XrpHDJK"
      },
      "source": [
        ""
      ],
      "id": "_INw1XrpHDJK",
      "execution_count": null,
      "outputs": []
    },
    {
      "cell_type": "markdown",
      "metadata": {
        "id": "former-nepal"
      },
      "source": [
        "## 3.4 `if`…`else` and `if`…`elif`…`else` Statements\n",
        "* Performs different suites, based on whether a condition is `True` or `False`.\n",
        "* Pseudocode:\n",
        "\n",
        "> _If student’s grade is greater than or equal to 60  \n",
        "> &nbsp;&nbsp;&nbsp;&nbsp;&nbsp;&nbsp;Display 'Passed'  \n",
        "> Else  \n",
        "> &nbsp;&nbsp;&nbsp;&nbsp;&nbsp;&nbsp;Display 'Failed'_\n",
        "\n",
        "* Correspondong Python code with variable `grade` initalized to `85`"
      ],
      "id": "former-nepal"
    },
    {
      "cell_type": "code",
      "metadata": {
        "id": "processed-merchandise"
      },
      "source": [
        "grade = 40"
      ],
      "id": "processed-merchandise",
      "execution_count": null,
      "outputs": []
    },
    {
      "cell_type": "code",
      "metadata": {
        "id": "mighty-necklace",
        "colab": {
          "base_uri": "https://localhost:8080/"
        },
        "outputId": "23e4d40e-8243-4220-f8a7-d9ea3ac1a415"
      },
      "source": [
        "if grade >= 60: \n",
        "    print('Passed')\n",
        "else:\n",
        "    print('Failed')\n",
        "    print(\"try again\")"
      ],
      "id": "mighty-necklace",
      "execution_count": null,
      "outputs": [
        {
          "output_type": "stream",
          "text": [
            "Failed\n",
            "try again\n"
          ],
          "name": "stdout"
        }
      ]
    },
    {
      "cell_type": "markdown",
      "metadata": {
        "id": "invalid-ethnic"
      },
      "source": [
        "* Assign `57` to `grade`, then shows the `if`…`else` statement again to demonstrate that only the `else` suite executes"
      ],
      "id": "invalid-ethnic"
    },
    {
      "cell_type": "code",
      "metadata": {
        "id": "cordless-yield"
      },
      "source": [
        "grade = 57"
      ],
      "id": "cordless-yield",
      "execution_count": null,
      "outputs": []
    },
    {
      "cell_type": "code",
      "metadata": {
        "id": "humanitarian-trout"
      },
      "source": [
        "if grade >= 60: \n",
        "    print('Passed')\n",
        "else:\n",
        "    print('Failed')"
      ],
      "id": "humanitarian-trout",
      "execution_count": null,
      "outputs": []
    },
    {
      "cell_type": "code",
      "metadata": {
        "id": "rolled-commission"
      },
      "source": [
        "grade = 99"
      ],
      "id": "rolled-commission",
      "execution_count": null,
      "outputs": []
    },
    {
      "cell_type": "code",
      "metadata": {
        "id": "baking-packaging"
      },
      "source": [
        "if grade >= 60: \n",
        "    print('Passed')\n",
        "else:\n",
        "    print('Failed')"
      ],
      "id": "baking-packaging",
      "execution_count": null,
      "outputs": []
    },
    {
      "cell_type": "markdown",
      "metadata": {
        "id": "legislative-completion"
      },
      "source": [
        "### `if`…`else` Statement Flowchart\n",
        "![Flowchart of the if…else statement’s flow of control.](./ch03images/AAHBDOD0.png \"Flowchart of the if…else statement’s flow of control\")"
      ],
      "id": "legislative-completion"
    },
    {
      "cell_type": "markdown",
      "metadata": {
        "id": "false-relations"
      },
      "source": [
        "### Conditional Expressions\n",
        "* Sometimes the suites in an `if`…`else` statement assign different values to a variable, based on a condition"
      ],
      "id": "false-relations"
    },
    {
      "cell_type": "code",
      "metadata": {
        "id": "arctic-actor"
      },
      "source": [
        "grade = 87"
      ],
      "id": "arctic-actor",
      "execution_count": null,
      "outputs": []
    },
    {
      "cell_type": "code",
      "metadata": {
        "id": "communist-peeing"
      },
      "source": [
        "if grade >= 60:\n",
        "    result = 'Passed'\n",
        "else:\n",
        "    result = 'Failed'"
      ],
      "id": "communist-peeing",
      "execution_count": null,
      "outputs": []
    },
    {
      "cell_type": "code",
      "metadata": {
        "id": "exposed-interface"
      },
      "source": [
        "result"
      ],
      "id": "exposed-interface",
      "execution_count": null,
      "outputs": []
    },
    {
      "cell_type": "markdown",
      "metadata": {
        "id": "universal-original"
      },
      "source": [
        "* Can write statements like this using a concise conditional expression.\n",
        "* The parentheses are not required, but they make it clear that the statement assigns the conditional expression’s value to `result`."
      ],
      "id": "universal-original"
    },
    {
      "cell_type": "code",
      "metadata": {
        "id": "thirty-manor"
      },
      "source": [
        "grade = 60\r\n",
        "result = ('Passed' if grade >= 60 else 'Failed')\r\n",
        "\r\n",
        "#wert abhängig davon, ob bedingung erfüllt. Alles in einer linie. "
      ],
      "id": "thirty-manor",
      "execution_count": null,
      "outputs": []
    },
    {
      "cell_type": "code",
      "metadata": {
        "id": "marine-grocery",
        "colab": {
          "base_uri": "https://localhost:8080/",
          "height": 36
        },
        "outputId": "d6739e63-4db1-407f-997f-d66c7d43c564"
      },
      "source": [
        "result"
      ],
      "id": "marine-grocery",
      "execution_count": null,
      "outputs": [
        {
          "output_type": "execute_result",
          "data": {
            "application/vnd.google.colaboratory.intrinsic+json": {
              "type": "string"
            },
            "text/plain": [
              "'Passed'"
            ]
          },
          "metadata": {
            "tags": []
          },
          "execution_count": 30
        }
      ]
    },
    {
      "cell_type": "markdown",
      "metadata": {
        "id": "silver-arrangement"
      },
      "source": [
        "### Multiple Statements in a Suite"
      ],
      "id": "silver-arrangement"
    },
    {
      "cell_type": "code",
      "metadata": {
        "id": "interested-vaccine"
      },
      "source": [
        "grade = 49"
      ],
      "id": "interested-vaccine",
      "execution_count": null,
      "outputs": []
    },
    {
      "cell_type": "code",
      "metadata": {
        "id": "rubber-austin"
      },
      "source": [
        "if grade >= 60:\n",
        "    print('Passed')\n",
        "else:\n",
        "    print('Failed')\n",
        "    print('You must take this course again')"
      ],
      "id": "rubber-austin",
      "execution_count": null,
      "outputs": []
    },
    {
      "cell_type": "markdown",
      "metadata": {
        "id": "cutting-league"
      },
      "source": [
        "* If you do not indent the second `print`, then it’s not in the `else`’s suite. \n",
        "* In that case the statement always executes, creating strange incorrect output."
      ],
      "id": "cutting-league"
    },
    {
      "cell_type": "code",
      "metadata": {
        "id": "acoustic-purple"
      },
      "source": [
        "grade = 100"
      ],
      "id": "acoustic-purple",
      "execution_count": null,
      "outputs": []
    },
    {
      "cell_type": "code",
      "metadata": {
        "id": "preceding-closing",
        "colab": {
          "base_uri": "https://localhost:8080/"
        },
        "outputId": "242c570e-bee1-4804-b7d5-b274f10d453b"
      },
      "source": [
        "if grade >= 60:\n",
        "    print('Passed')\n",
        "else:\n",
        "    print('Failed')\n",
        "print('You must take this course again')\n",
        "\n",
        "#müssen korrekt eingerückt sein."
      ],
      "id": "preceding-closing",
      "execution_count": null,
      "outputs": [
        {
          "output_type": "stream",
          "text": [
            "Passed\n",
            "You must take this course again\n"
          ],
          "name": "stdout"
        }
      ]
    },
    {
      "cell_type": "markdown",
      "metadata": {
        "id": "alternate-wayne"
      },
      "source": [
        "### `if`…`elif`…`else` Statement\n",
        "* Can test for many cases.\n",
        "* Only the action for the first `True` condition executes."
      ],
      "id": "alternate-wayne"
    },
    {
      "cell_type": "code",
      "metadata": {
        "id": "satellite-ivory"
      },
      "source": [
        "grade = 77"
      ],
      "id": "satellite-ivory",
      "execution_count": null,
      "outputs": []
    },
    {
      "cell_type": "code",
      "metadata": {
        "id": "lucky-money",
        "colab": {
          "base_uri": "https://localhost:8080/"
        },
        "outputId": "43c9dc80-7706-41c4-9138-061092a87df6"
      },
      "source": [
        "if grade >= 90:\n",
        "    print('A')\n",
        "elif grade >= 80:\n",
        "    print('B')\n",
        "elif grade >= 70:\n",
        "    print('C')\n",
        "elif grade >= 60:\n",
        "    print('D')\n",
        "else:\n",
        "    print('F')\n",
        "\n",
        "#typischerweise wird immer die nächste Bedingung geprüft. Wenn stimmt: Ans Ende springen. Das else am Ende sinnvoll, wenn keine der anderen erfolgreich war, und man etwas machen will am ende. Wenn weggelassen: Würde nichts passieren. "
      ],
      "id": "lucky-money",
      "execution_count": null,
      "outputs": [
        {
          "output_type": "stream",
          "text": [
            "A\n"
          ],
          "name": "stdout"
        }
      ]
    },
    {
      "cell_type": "code",
      "metadata": {
        "id": "HwYOR60ZJPw5"
      },
      "source": [
        "#print A wird nicht ausgeführt. Als nächstes die 80. Auch nicht. Es ist immer \"wenn nicht\"...Danach ans Ende gesprungen, die nächsten nicht mehr ausgeführt. "
      ],
      "id": "HwYOR60ZJPw5",
      "execution_count": null,
      "outputs": []
    },
    {
      "cell_type": "markdown",
      "metadata": {
        "id": "metropolitan-strip"
      },
      "source": [
        "### `if`…`elif`…`else` Statement Flowchart\n",
        "![Flowchart of the if…`elif`…else statement’s flow of control.](./ch03images/AAHBDOH0.png \"Flowchart of the if…`elif`…else statement’s flow of control\")"
      ],
      "id": "metropolitan-strip"
    },
    {
      "cell_type": "markdown",
      "metadata": {
        "id": "opened-routine"
      },
      "source": [
        "### `else` Is Optional\n",
        "* Handle values that do not satisfy any of the conditions. \n",
        "* Without an `else`, if no conditions are `True`, the program does not execute any of the statement’s suites. "
      ],
      "id": "opened-routine"
    },
    {
      "cell_type": "markdown",
      "metadata": {
        "id": "earned-caribbean"
      },
      "source": [
        "## 3.5 `while` Statement\n",
        "* Repeats one or more actions while a condition remains `True`. "
      ],
      "id": "earned-caribbean"
    },
    {
      "cell_type": "code",
      "metadata": {
        "id": "above-consumption"
      },
      "source": [
        "product = 3"
      ],
      "id": "above-consumption",
      "execution_count": null,
      "outputs": []
    },
    {
      "cell_type": "code",
      "metadata": {
        "id": "crude-november",
        "colab": {
          "base_uri": "https://localhost:8080/"
        },
        "outputId": "d121768c-4da0-40a4-eab2-002b4e3047fb"
      },
      "source": [
        "while product <= 500:\n",
        "    product = product * 3  \n",
        "    print (product)\n",
        "\n",
        "#als grösser als 500: abgebrochen. Sobald wahr: Rechnung."
      ],
      "id": "crude-november",
      "execution_count": null,
      "outputs": [
        {
          "output_type": "stream",
          "text": [
            "9\n",
            "27\n",
            "81\n",
            "243\n",
            "729\n"
          ],
          "name": "stdout"
        }
      ]
    },
    {
      "cell_type": "code",
      "metadata": {
        "id": "checked-religious",
        "colab": {
          "base_uri": "https://localhost:8080/"
        },
        "outputId": "e07da05e-b821-468c-de73-055bd846664f"
      },
      "source": [
        "product"
      ],
      "id": "checked-religious",
      "execution_count": null,
      "outputs": [
        {
          "output_type": "execute_result",
          "data": {
            "text/plain": [
              "81"
            ]
          },
          "metadata": {
            "tags": []
          },
          "execution_count": 39
        }
      ]
    },
    {
      "cell_type": "markdown",
      "metadata": {
        "id": "educational-techno"
      },
      "source": [
        "* To prevent an infinite loop, something in the `while` suite must change `product`’s value, so the condition eventually becomes `False`. "
      ],
      "id": "educational-techno"
    },
    {
      "cell_type": "markdown",
      "metadata": {
        "id": "stock-preparation"
      },
      "source": [
        "### `while` Statement Flowchart\n",
        "![Flowchart of the while statement’s flow of control.](./ch03images/AAHBDOG0.png \"Flowchart of the while statement’s flow of control\")"
      ],
      "id": "stock-preparation"
    },
    {
      "cell_type": "markdown",
      "metadata": {
        "id": "colonial-cancer"
      },
      "source": [
        "## 3.6 `for` Statement\n",
        "* Repeat an action or several actions for each item in a sequence of items.\n",
        "* A string is a sequence of individual characters."
      ],
      "id": "colonial-cancer"
    },
    {
      "cell_type": "code",
      "metadata": {
        "id": "younger-hacker",
        "colab": {
          "base_uri": "https://localhost:8080/"
        },
        "outputId": "309fbfe0-d5c4-4123-c925-d7a805a70d4c"
      },
      "source": [
        "for character in 'Programming':\n",
        "    print(character, end=\" \")\n",
        "\n",
        "#gegensatz zu while: Wir wissen wie oft wir ausführen wollen. Genau 10 Mal ausführen z. B. Ginge auch mit while schlaufe. vARIABLE character definiert. Aus dem string nacheinander. "
      ],
      "id": "younger-hacker",
      "execution_count": null,
      "outputs": [
        {
          "output_type": "stream",
          "text": [
            "P r o g r a m m i n g "
          ],
          "name": "stdout"
        }
      ]
    },
    {
      "cell_type": "code",
      "metadata": {
        "id": "HqLvusJLMiHu"
      },
      "source": [
        "#nebeneinander mit 2 Leerzeichen dazwischen. keyword argument: Wir übergeben der funktion print nicht nur die variable character, sondern manipulieren."
      ],
      "id": "HqLvusJLMiHu",
      "execution_count": null,
      "outputs": []
    },
    {
      "cell_type": "code",
      "metadata": {
        "id": "eVo_IaTsNFML"
      },
      "source": [
        "#Das letzte zeichen ist der zeilenumbruch. manipuliert. letzte zeichen sind zwei Leerzeichen. Ohne das ende wäre es vertikal."
      ],
      "id": "eVo_IaTsNFML",
      "execution_count": null,
      "outputs": []
    },
    {
      "cell_type": "code",
      "metadata": {
        "id": "tJmLXV4UOIds"
      },
      "source": [
        "character ist eine Variable. Heisst target. Könnte auch nix schreiben."
      ],
      "id": "tJmLXV4UOIds",
      "execution_count": null,
      "outputs": []
    },
    {
      "cell_type": "markdown",
      "metadata": {
        "id": "assigned-judges"
      },
      "source": [
        "* Upon entering the `for` loop, Python assigns the 'P' in 'Programming' to the **target variable** between keywords `for` and `in`.\n",
        "* After executing the suite, Python assigns to character the next item in the sequence (that is, the '`r`' in '`Programming`'), then executes the suite again. \n",
        "* Continues while there are more items in the sequence.\n",
        "* Using the target variable in the suite is common but not required. "
      ],
      "id": "assigned-judges"
    },
    {
      "cell_type": "markdown",
      "metadata": {
        "id": "japanese-variation"
      },
      "source": [
        "### `for` Statement Flowchart\n",
        "![Flowchart of the for statement’s flow of control.](./ch03images/AAHBDOF0.png \"Flowchart of the for statement’s flow of control\")"
      ],
      "id": "japanese-variation"
    },
    {
      "cell_type": "markdown",
      "metadata": {
        "id": "deadly-montana"
      },
      "source": [
        "### Function `print`’s `end` Keyword Argument \n",
        "* `print` displays its argument(s), then moves the cursor to the next line. \n",
        "* Can change this behavior with the argument `end`:\n",
        ">```python\n",
        "print(character, end='  ') \n",
        "```\n",
        "* `end` is a **keyword argument**, but it's not a Python keyword. \n",
        "* The _Style Guide for Python Code_ recommends placing no spaces around a keyword argument’s =. \n",
        "* Keyword arguments are sometimes called named arguments."
      ],
      "id": "deadly-montana"
    },
    {
      "cell_type": "markdown",
      "metadata": {
        "id": "adapted-daughter"
      },
      "source": [
        "### Function `print`’s `sep` Keyword Argument \n",
        "* Keyword argument `sep` (short for separator) specifies the string that appears between the items that print displays. \n",
        "* A space character by default. \n",
        "* To remove the spaces, use an empty string with no characters between its quotes."
      ],
      "id": "adapted-daughter"
    },
    {
      "cell_type": "code",
      "metadata": {
        "id": "vulnerable-jerusalem",
        "colab": {
          "base_uri": "https://localhost:8080/"
        },
        "outputId": "34771da0-c1ae-46d8-adb2-6ddf0a153691"
      },
      "source": [
        "print(10, 20, 30, sep=', ')\r\n",
        "\r\n",
        "#wenn ich in einer print funktion mehrere werte ausgeben lassen will. Der Separator ist ein Komma."
      ],
      "id": "vulnerable-jerusalem",
      "execution_count": null,
      "outputs": [
        {
          "output_type": "stream",
          "text": [
            "10, 20, 30\n"
          ],
          "name": "stdout"
        }
      ]
    },
    {
      "cell_type": "markdown",
      "metadata": {
        "id": "heard-absence"
      },
      "source": [
        "### 3.6.1 Iterables, Lists and Iterators\n",
        "* The sequence to the right of the `for` statement’s in keyword must be an iterable. \n",
        "    * An object from which the `for` statement can take one item at a time. \n",
        "* One of the most common iterables is a list, which is a comma-separated collection of items enclosed in square brackets (`[` and `]`). "
      ],
      "id": "heard-absence"
    },
    {
      "cell_type": "code",
      "metadata": {
        "id": "demographic-hampshire"
      },
      "source": [
        "total = 0"
      ],
      "id": "demographic-hampshire",
      "execution_count": null,
      "outputs": []
    },
    {
      "cell_type": "code",
      "metadata": {
        "id": "armed-gregory"
      },
      "source": [
        "for number in [2, -3, 0, 17, 9]:\n",
        "    total = total + number\n",
        "\n",
        "#die for schleife durchläuft integers. Zuerst 2 zugeordnet. Dann -3 der number zugeordnet. Bis wir einmal mit der gesamten sache fertig sind. "
      ],
      "id": "armed-gregory",
      "execution_count": null,
      "outputs": []
    },
    {
      "cell_type": "code",
      "metadata": {
        "id": "global-adaptation",
        "colab": {
          "base_uri": "https://localhost:8080/"
        },
        "outputId": "5b3fbfd2-b4a6-4474-b2a3-138e5d6be384"
      },
      "source": [
        "total"
      ],
      "id": "global-adaptation",
      "execution_count": null,
      "outputs": [
        {
          "output_type": "execute_result",
          "data": {
            "text/plain": [
              "100"
            ]
          },
          "metadata": {
            "tags": []
          },
          "execution_count": 68
        }
      ]
    },
    {
      "cell_type": "code",
      "metadata": {
        "id": "28zjltjiPvwN"
      },
      "source": [
        "#o + 2 = 2. Dann 2 + -1 = 1. usw."
      ],
      "id": "28zjltjiPvwN",
      "execution_count": null,
      "outputs": []
    },
    {
      "cell_type": "markdown",
      "metadata": {
        "id": "arabic-syracuse"
      },
      "source": [
        "### 3.6.2 Built-In `range` Function and Generators\n",
        "* Creates an iterable object that represents a sequence of consecutive integer values starting from 0 and continuing up to, but not including, the argument value."
      ],
      "id": "arabic-syracuse"
    },
    {
      "cell_type": "code",
      "metadata": {
        "id": "caroline-perry",
        "colab": {
          "base_uri": "https://localhost:8080/"
        },
        "outputId": "80c5dcbd-aaf4-4a82-a7ce-272c0f2f8202"
      },
      "source": [
        "for counter in range(10):\n",
        "    print(counter, end=' ')\n",
        "\n",
        "#wir wollen 10 Mal durch for schleife durch. Wir wollen es nebeneinander mit Leerzeichen ausgeben. Es läuft 10 Mal durch aber fängt bei 0 an und endet bei 9. "
      ],
      "id": "caroline-perry",
      "execution_count": null,
      "outputs": [
        {
          "output_type": "stream",
          "text": [
            "0 1 2 3 4 5 6 7 8 9 "
          ],
          "name": "stdout"
        }
      ]
    },
    {
      "cell_type": "code",
      "metadata": {
        "id": "RnBq9dsnQRrm"
      },
      "source": [
        "#"
      ],
      "id": "RnBq9dsnQRrm",
      "execution_count": null,
      "outputs": []
    },
    {
      "cell_type": "markdown",
      "metadata": {
        "id": "brief-longer"
      },
      "source": [
        "### Off-By-One Errors\n",
        "A logic error known as an off-by-one error occurs when you assume that `range`’s argument value is included in the generated sequence. \n"
      ],
      "id": "brief-longer"
    },
    {
      "cell_type": "markdown",
      "metadata": {
        "id": "fundamental-struggle"
      },
      "source": [
        "## 3.7 Augmented Assignments \n",
        "* Abbreviate assignment expressions in which the same variable name appears on the left and right of the `=`."
      ],
      "id": "fundamental-struggle"
    },
    {
      "cell_type": "code",
      "metadata": {
        "id": "protecting-travel"
      },
      "source": [
        "total = 0"
      ],
      "id": "protecting-travel",
      "execution_count": null,
      "outputs": []
    },
    {
      "cell_type": "code",
      "metadata": {
        "id": "mighty-alignment"
      },
      "source": [
        "for number in [1, 2, 3, 4, 5]:\n",
        "    # total = total + number # is what we wrote before\n",
        "    total += number  # add number to total and store in total. Total = total + number. 1-5 durchlaufen."
      ],
      "id": "mighty-alignment",
      "execution_count": null,
      "outputs": []
    },
    {
      "cell_type": "code",
      "metadata": {
        "id": "smooth-assumption",
        "colab": {
          "base_uri": "https://localhost:8080/"
        },
        "outputId": "fd5afc9b-aeb3-48d9-d775-e8da4ec2adf0"
      },
      "source": [
        "total"
      ],
      "id": "smooth-assumption",
      "execution_count": null,
      "outputs": [
        {
          "output_type": "execute_result",
          "data": {
            "text/plain": [
              "15"
            ]
          },
          "metadata": {
            "tags": []
          },
          "execution_count": 73
        }
      ]
    },
    {
      "cell_type": "markdown",
      "metadata": {
        "id": "under-workstation"
      },
      "source": [
        "# * In the following table assume: `c = 3`, `d = 5`, `e = 4`, `f = 2`, `g = 9`, `h = 12`\n",
        "\n",
        "| Augmented assignment | Sample expression| Explanation| Assigns\n",
        "| :----- | :----- | :----- | :-----\n",
        "| `+=` | `c += 7` | `c = c + 7` | `10 to c`\n",
        "| `-=` | `d -= 4` | `d = d - 4` | `1 to d`\n",
        "| `*=` | `e *= 5`  | `e = e * 5` | `20 to e`\n",
        "| `**=` | `f **= 3` | `f = f ** 3` | `8 to f`\n",
        "| `/=` | `g /= 2` | `g = g / 2` | `4.5 to g`\n",
        "| `//=` | `g //= 2` | `g = g // 2` | `4 to g`\n",
        "| `%=` | `h %= 9` | `h = h % 9` | `3 to h`"
      ],
      "id": "under-workstation"
    },
    {
      "cell_type": "markdown",
      "metadata": {
        "id": "extreme-board"
      },
      "source": [
        "# One more Quiz, please"
      ],
      "id": "extreme-board"
    },
    {
      "cell_type": "markdown",
      "metadata": {
        "id": "secret-soviet"
      },
      "source": [
        "------\n",
        "&copy;1992&ndash;2020 by Pearson Education, Inc. All Rights Reserved. This content is based on Chapter 1 of the book [**Intro to Python for Computer Science and Data Science: Learning to Program with AI, Big Data and the Cloud**](https://amzn.to/2VvdnxE).         "
      ],
      "id": "secret-soviet"
    }
  ]
}