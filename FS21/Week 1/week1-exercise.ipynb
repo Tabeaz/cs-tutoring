{
 "cells": [
  {
   "cell_type": "markdown",
   "metadata": {
    "id": "L1fVTVCYEXOM"
   },
   "source": [
    "\n",
    "# FCS Tutoring Session 1\n",
    "\n",
    "Welcome to our first exercise session. Today we are learning some basic principles of programming that are essential in order to be able to solve the upcoming assignments. So let's get started :)\n",
    "\n",
    "For any questions please contact me on Slack.\n",
    "\n",
    "Janick Spirig, 24.02.2021\n"
   ]
  },
  {
   "cell_type": "markdown",
   "metadata": {
    "id": "fM0rupFRFec7"
   },
   "source": [
    "## Programming basics"
   ]
  },
  {
   "cell_type": "markdown",
   "metadata": {
    "id": "qOCP9dALFh2u"
   },
   "source": [
    "### Variables"
   ]
  },
  {
   "cell_type": "markdown",
   "metadata": {
    "id": "5iPV6VSTRnEl"
   },
   "source": [
    "In a variable we can store a piece of data so that we can reuse this data later on in our code. Think about you are in the desert and it rains only once a week. To be able to capture the rain you need to have a basket or something similar. It is the same with data, I need to store data in variables and, of course, in databases.\n",
    "\n",
    "\n",
    "---\n",
    "\n",
    "\n",
    "\n",
    "A variable consists of three parts:\n",
    "\n",
    "*   Name\n",
    "*   Datatype\n",
    "*   Stored data"
   ]
  },
  {
   "cell_type": "code",
   "execution_count": 4,
   "metadata": {
    "id": "DW0ujP37E0oe"
   },
   "outputs": [],
   "source": [
    "alter = 24"
   ]
  },
  {
   "cell_type": "code",
   "execution_count": 6,
   "metadata": {},
   "outputs": [
    {
     "data": {
      "text/plain": [
       "int"
      ]
     },
     "execution_count": 6,
     "metadata": {},
     "output_type": "execute_result"
    }
   ],
   "source": [
    "type(alter)"
   ]
  },
  {
   "cell_type": "markdown",
   "metadata": {
    "id": "LSw4B5bpGyHJ"
   },
   "source": [
    "Here the name of the variable is **variable1**, its datatype is a **String** because we store **my name** (janick) in the variable."
   ]
  },
  {
   "cell_type": "code",
   "execution_count": 7,
   "metadata": {
    "id": "-mI8baFTGoLa"
   },
   "outputs": [],
   "source": [
    "ILoveApplesMoreThanBananas = True"
   ]
  },
  {
   "cell_type": "code",
   "execution_count": 8,
   "metadata": {},
   "outputs": [
    {
     "data": {
      "text/plain": [
       "bool"
      ]
     },
     "execution_count": 8,
     "metadata": {},
     "output_type": "execute_result"
    }
   ],
   "source": [
    "type(ILoveApplesMoreThanBananas)"
   ]
  },
  {
   "cell_type": "markdown",
   "metadata": {
    "id": "D0s4WqomHJXu"
   },
   "source": [
    "Here the name of the variable is **ILoveApplesMoreThanBananas**, it's datatype is a **Boolean** because we store a **dichotomous state information** (True or False, 1 or 0) in the variable. So the variable tells us whether we like apples more than bananas, which in this case is true."
   ]
  },
  {
   "cell_type": "code",
   "execution_count": 9,
   "metadata": {
    "id": "pn9wKZk0GuY-"
   },
   "outputs": [],
   "source": [
    "MyAge = 24"
   ]
  },
  {
   "cell_type": "markdown",
   "metadata": {
    "id": "tJ6JDI4ZHclv"
   },
   "source": [
    "Here the name of the variable is **MyAge**, it's datatype is an **Integer** because we store a **whole number** (24) in the variable."
   ]
  },
  {
   "cell_type": "markdown",
   "metadata": {
    "id": "SlRzW_FIHmAO"
   },
   "source": [
    "Obviously there are many more datatypes than just String, Boolean and Integer because in the real world we encounter infromation in many different representations. Therefore, we need flexibility to abstract these information in software programs accordingly. \n",
    "\n",
    "Head over to https://fcs-overview.herokuapp.com/ for an overview of the datatypes that you should understand at the end of the semester.\n"
   ]
  },
  {
   "cell_type": "markdown",
   "metadata": {
    "id": "xjFV-AXIIPOB"
   },
   "source": [
    "### Functions"
   ]
  },
  {
   "cell_type": "markdown",
   "metadata": {
    "id": "WCEbcGE_IUea"
   },
   "source": [
    "What if I want to reuse the same piece of code multiple times? For example, if I want to calculate the age of 100 users given their date of birth, do I have to copy-paste the same code 100 times? Of course not, here we can use functions instead. The code inside the function body makes it possible to reuse this code indfinitely and flexibly.\n",
    "\n",
    "\n",
    "---\n",
    "\n",
    "\n",
    "A function consits of (usually) three parts:\n",
    "\n",
    "\n",
    "*   Function header (including the parameters)\n",
    "*   Function body (the code to execute)\n",
    "*   Return statement (optional)\n",
    "\n",
    "Think of a function using this analogy:\n",
    "\n",
    "\n",
    "![zylix.jpg](data:image/jpeg;base64,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)\n",
    "\n",
    "Regardless of what vegetable (paremeter) you put into the machine, it will be shirred in the same maner as the other (function body). As an output the machine gives us back the shredded vegetable (return statement). \n",
    "\n",
    "Let's do an example."
   ]
  },
  {
   "cell_type": "markdown",
   "metadata": {
    "id": "ZJuXpcLPMTJR"
   },
   "source": [
    "Our function header consists of the *keyword* **def** (so that python knows that a function is coming), the *functionname* **calculateAge** and the *parameter* **birthday** as we need a date of birth to calculate the current age. \n",
    "\n",
    "In the function body we then **calculate the current age** of this person. For the moment, we will not go into greater detail here. \n",
    "The **return** keyword is indicating that the function is giving us back something, specifically the *calculated age*."
   ]
  },
  {
   "cell_type": "markdown",
   "metadata": {
    "id": "J8c4m_nUTgy0"
   },
   "source": [
    "Does a function always need to give back something? What if we just want to throw something over the garden shed that we no longer need, without expecting anything in return? Simply, we just delete the return statement. Have a look at the function below without the return statement."
   ]
  },
  {
   "cell_type": "code",
   "execution_count": 17,
   "metadata": {
    "id": "pZRUDCz4T2zF"
   },
   "outputs": [
    {
     "name": "stdout",
     "output_type": "stream",
     "text": [
      "Hi! Your age is 23\n",
      "Hi! Your age is 25\n",
      "Hi! Your age is 60\n"
     ]
    }
   ],
   "source": [
    "# Let's implement the function without a return statement and the same behaviour\n",
    "def calculateAge2(birthday):\n",
    "    d1 = datetime.combine(date.today(), datetime.min.time())\n",
    "    d2 = datetime.strptime(birthday, \"%Y-%m-%d\")\n",
    "    age = int(round(abs(d1-d2).days / 365 - 1, 0))\n",
    "    print(\"Hi! Your age is {}\".format(age))\n",
    "\n",
    "calculateAge2(\"1997-2-25\")\n",
    "calculateAge2(\"1995-1-23\")\n",
    "calculateAge2(\"1960-1-10\")"
   ]
  },
  {
   "cell_type": "markdown",
   "metadata": {
    "id": "qhVjPXzuVhpE"
   },
   "source": [
    "## Loops"
   ]
  },
  {
   "cell_type": "markdown",
   "metadata": {
    "id": "v2MCOGQdWccw"
   },
   "source": [
    "Another fundamental concept of programming are loops. Loops allow us to execute the same piece of code multiple times by only one command or as long as a certain condition results to True.\n",
    "\n",
    "**Remember:** *1* is equal to *True*, *0* is euqal to *False*. Everything consists of zero's and one's. EVERYTHING.\n",
    "\n",
    "\n",
    "---\n",
    "\n",
    "\n",
    "There are basically two different types of loops:\n",
    "\n",
    "*   for-loop\n",
    "*   while-loop"
   ]
  },
  {
   "cell_type": "markdown",
   "metadata": {
    "id": "SrV8nWRsWiVc"
   },
   "source": [
    "### For-Loop\n",
    "\n",
    "With a for-loop we can iterate over an iterable (such as a list) and execute the code defined in the loop-body for each element in the iterable. Sounds compliated right? It is not.\n",
    "\n",
    "Our *calculateAge* function above only accepted one date of birth at the same time. Thus, we had to call the function exactly three times - for each date of birth one time. Would it not be great to be able to pass all the three dates at once to the function (and still calcualte the age for each birthday seperatedly)? Of course! To do so, we need to\n",
    "\n",
    "1.   create a list which contains all dates of birth\n",
    "2.   extend the funciton so that it is able to process multiple dates at once"
   ]
  },
  {
   "cell_type": "code",
   "execution_count": 38,
   "metadata": {
    "id": "82O5Y-Q0Xq7z"
   },
   "outputs": [],
   "source": [
    "# Let's define the list\n",
    "# Remember we have three dates: \"1997-2-25\", \"1960-1-10\" and \"1995-1-23\"\n",
    "\n",
    "birthdays = [\"1997-2-25\",\"1995-1-23\",\"1960-1-10\", \"1960-1-10\", \"1960-1-10\"]"
   ]
  },
  {
   "cell_type": "code",
   "execution_count": 39,
   "metadata": {
    "id": "_4QFrK-WX40y"
   },
   "outputs": [],
   "source": [
    "# Let's extend the function\n",
    "def calculateAge2(birthdays):\n",
    "    \n",
    "    for birthday in birthdays:\n",
    "\n",
    "        d1 = datetime.combine(date.today(), datetime.min.time())\n",
    "        d2 = datetime.strptime(birthday, \"%Y-%m-%d\")\n",
    "        age = int(round(abs(d1-d2).days / 365 - 1, 0))\n",
    "        print(\"Hi! Your age is {}\".format(age))"
   ]
  },
  {
   "cell_type": "code",
   "execution_count": 40,
   "metadata": {},
   "outputs": [
    {
     "name": "stdout",
     "output_type": "stream",
     "text": [
      "Hi! Your age is 23\n",
      "Hi! Your age is 25\n",
      "Hi! Your age is 60\n",
      "Hi! Your age is 60\n",
      "Hi! Your age is 60\n"
     ]
    }
   ],
   "source": [
    "calculateAge2(birthdays)"
   ]
  },
  {
   "cell_type": "markdown",
   "metadata": {
    "id": "XQJaMIReYIXH"
   },
   "source": [
    "### While-Loop\n",
    "\n",
    "With a while-loop we can execute the code defined in the loop-body as long as a certain condition is met. So what we basically need is a condition that we want to check for correctness after each execution of the code defined in the loop-body. A while loop works like this:\n",
    "\n",
    "![image.png](data:image/png;base64,iVBORw0KGgoAAAANSUhEUgAAAN8AAAF0CAYAAACjVey1AAAgAElEQVR4Ae2dh5dUxda373/z3mDO4bruWu9/8/qZEwoKBlAxh+u9RgwYUMyKCXMCCQJiToBiBFFEcqhvPTU8zZ7j6Z6e0NM901Vrddc5Vbt27dq1f7Wr6qS/pBK6roE9e/ZkGfbt25f27t2bPDfuuoBFgI5o4C8d4VqYtq0BAAfIBBrnhN27dyeP22ZWCCeUBgr4eqi7duzY0QAcHrCEya2BAr4u9y8ezvDee++lX3/9teEFCwDVzOSMC/i63K9ONxHjkUceST/88EPatWtXlioCs8tiluo7oIECvg4odSQs8XKPPvpo+vnnn0dSvJSZgBoo4OtypwE6Nlbwdo8//nj2fIik9+uyeKX6DmqggK+Dyh0u6/nz56fvv/8+Fys7ncPV3sSjL+DroT5zzddDIhVROqiBAr4OKne4rAv4hquxiU1fwNdD/VfA10OdMQ6iFPCNg5LbraKAr11NTQ66Ar4e6scCvh7qjHEQpYBvHJTcbhUFfO1qanLQFfD1UD8W8PVQZ4yDKAV846Dkdqso4GtXU5ODroCvh/qxgK+HOmMcRCngGwclt1tFAV+7mpocdAV8PdSPBXw91BnjIEoB3zgoud0qCvja1dTkoCvg66F+LODroc4YB1EK+MZBye1WUcDXrqYmB10BXw/1YwFfD3XGOIhSwDcOSm63igK+djU1OegK+HqoH1uBz/e58M4XH7T1BUukeWxzqueUkYflPadMlQc08f0ynEee8jCGB8f8KBfLWs60WMa8KIttkB4ajmM565M2luctcATKVcvI03xi3hqgHJFenjFNWWJ5jkcSCvhGorUOlakDn4YUjSYaQxQFmkhHnrQal/TN0s031gA9N6YeeZAWj6UhbefOnZ7mONJt27Ytp8U64usTBxXcf0L5alukU1ecR5DEOqUlrktHlqhDaeDnceQxmuMCvtFob4zL1oGvWRWO1tEoMA5+pnFcNX4NHQODjmA54ggqzmOI5x4Tywdajj2XBhmqfKWhjDJxbBlj8jj2pzyUlwb+HEeeEUCU4byZziIv+Vf5cR55ykv6kcQFfCPRWofKNAMfBujPqul8Qp3hSBPjCEJ4WR4ajTjS1x1H425WppqOweqROBZM0ZCpi3TpOFfeyK/uOMrEMXxtG8fygWe1fDyvay9p7eq3WflW6QV8rbQzznl14KsaCEaq4WJkHiMq5xoe55SF3jwNP/KEPhpwJg5/5sUyZFOvdWv00lrc/PXr16eXX345vxyqSuP58uXL04oVK3JR5Hz33XfTG2+8IascQ0seP8sJrijfBx98kF577bVcRhk4oUyki8fmQ0MZ+ZMedUrdBMpGmpw4zL8CvmEqrJPkdeA7//zz06mnnprOPvvsxu+ee+5pgAp5MISqIcXzrVu3NvKjd4nHGJKGJc9qWyNP8+rKQBcN85VXXklHHXVUBpN5xJb95ptv0tFHH50OP/zw9N1332XW5513Xjr33HPzMXSt6gYcgFCes2bNSscdd1z69ttvG+WtS7mNKQPY6vjbBsvK37KjjQv4RqvBMSxfB75TTjklnXTSSemaa65JV111VY55v2cc0RGB8zojXbZsWTrzzDOzJ9CIYlk9hzxsjqN9pMUYNVZ5RaONtJaHDi920EEHpUWLFmX2dXW+/fbbmU45zjnnnHTWWWdl+siXsp4LDmU2vvbaa9PBBx+cNm3alJMiHQOO5Y0tR4zcts10y0e5t2/fbvaI4wK+Eatu7AvWgQ/Pd8ghh6Qff/yxYRQaPMbw008/ZWP67bff8rRt9erVjWnSxo0b0/PPP5+9zgsvvJBpo9Rr1qxJGP2GDRsayRgk59RHPRy7KykRhkd9mzdvzkmUgZ6fgbo9f/PNN9Pxxx+fXn311fT777+nlStXpq+//nqQt4HWd5bCA+Dh/QiCZMuWLWnVqlWJNlo3+REsAOXqq69OxxxzTPai6gq6devWZYCvXbs28+Uv5iMz019+6sR8QEkaOud7GkuWLEkffvhhg89IDgr4RqK1DpWpA99pp52Wp1B8w0FDcCR+6623MrB4zTye4tBDD03HHntsuuOOO7KEs2fPTkceeWSmAcBM7QArP6Z0TM0wcoABD/jzc6qLhz3iiCMyQAUAjJcuXZp5YeTIAhCo97DDDmsYLXyRiXzkZErJS4HxwkxB+T333HONNp1xxhmNaSZlIvioE8CRJt8pU6ZkEJOnXpQRz0d9AJo0wHL66afntqAHZKW8IKS+efPm5XT0BXBpNzqRJ+tPZH7ooYdyWfjzYzYCMOGhHFn5bfwV8LWhpPEiqQPf1KlTs+fDOAEF3sDNhIULF+Y8aD777LPEV44AFIZG+OWXX9Kzzz6bjQlaAIyRYJwYIRscrAcBKcDEs2BIGPiJJ56YrrjiigwcPKSGBT1ggwYDJggujBZg4h0AGVNlAms+5KINeB9oMHJokIcfQIUf9WDwF1xwQQYjXo2pInnUycDBuhB62o28BHgYGBQYiPzuBe0AOMwC0AE6YaCwvo8++igDj7U1esQDUxcAxMPRHrw3oEX/H3/8cfr000+zjKS9//77Vp1jZVJngzLDSQFfUEa3D+vAhxEAjOuvvz6DBENiqkh45513slEtWLAgn2OoGBSG5xSO9RZAe/311zMN00VAAhAAAcZ111135VEcEGEwGD6jOiDDqAWERkXatGnT8gYQgL3hhhvSf//733x+3333ZXD861//yjuclEVejB2jpyxyYsTU88cff2S5ABMyEaBhg4k0AjIiD23DA/EDuLTL6WEm3D8FFWzogPZSN3q0bsA9ffr0rCeA/OCDD+Y16YsvvtigQWbAx8BEQH+cP/XUU1kftOGZZ57JMtx8881Wn4HqCfW1CgV8rbQzznl14GPaCfgYxTV+xMKo3UUENBgDAaOWnnPWWYzOjNwE+HAOAC+99NJ05ZVX5qkT0yc8IaM8hq+xUiZuLrhDCpAAOdNB6FmLwQPAUCeGCniR0ynb4sWLswz8UYZNGNeFnAMoAkYLEAUfnv6EE07IaXi1f//73+m6667Lazu8O3UY8MwMVP/85z8Tlzjgjz7cOZUWL4c3xBNefvnlg3QEL/Wm9wZ8tJcBywBAmSEgCzLDW8AZS1sXF/DVaaVLaXXgY7THeNiONwhCjBqP4C4i+RgZRuV6BqOhPKM65djwYFqKcWuIlAO8rm8AsECwTmkEOUYNwO68884sAzuLTnEBCGAyICc7tqzxNErymYoyjYQnQGMaqQy02wGADRragEdTDmWvxuQDBvSC58Oz0h5+XsZgDUh9pDHYsN4DWKzx0BE/1rvwePjhh7NM6Bi93n333fmcAYl2sqvK7IJ22TZ4thMK+NrR0jjR1IEPI8EwMBSAdfLJJ6eLLrooGyweDw/Geg4DxhBZF0KPB8AYWI9gREzRmEIxTXviiSdyOQDGNJHfAw88kHnQVOqhPsoLBkFHvtv1AAj5LrzwwkwL4JEHz4pBG/AiyIC8Bi6hsNGDPNQBL+o0wDcOAMgO2JnisXbDywJqgyDkfObMmZkWYJPuji+zCIAJ77///e95QKJu2kObkdvpPWtS5LGt1EX9eEx4MGVmQGCQcOos+NRVlEk5Y1zAF7XR5eM68AEMjOnGG2/MBofx3XbbbVlSNlgwSqZ+httvvz3TMb2k8zEIdugwbtZpeChGdoCAZwHIXJR2HcllBepkDUeIhiQQSecY70D9rIMM1M9U9osvvshJlGdKShoewsCNAkz32N5HRuqcM2dOzsZzkD937lzJs4e6//77M0hoC+BjWklZjZ72Khf14eUJtIn1MTqkLOBBFvRgwBvecsstGXCAE1mUDRru0GGwIMbbMzAwJdWbyifqSLnMq8YFfFWNdPG8Dnx2IIaCIWNgjqjmxTWZ4pMXaUknLRoH+YKLvGiM8racdUYa06CJfCkby8cy1BenZfKAXllsgzwjL9NinfI3T3p52wb5kl6lkdY8zy3jFJ+1s/JTn3yi7PHY8nVxAV+dVrqUVge+LolSqt2vAUEI+FjzMcU3CHbPhxsX8A1XYx2kL+DroHJHwRpPxjSdDSF2bFkH6v1GwTYV8I1Ge2NctoBvjBU6BuwAGgEvFwHndHM0VRTwjUZ7Y1y2gG+MFTqG7ACbU1DXdKMFYAHfGHbQaFkV8I1Wg2NfHo/n2s6NHWsRhJ4PNy7gG67GOkhfwNdB5Y6QdQQYnk4ACsgRss3FCvhGo70xLlvAN8YK7SA7QBiBOZKqCvhGorUOlSng65BiR8HW636wEGxuwoyCbS5awDdaDY5BeTqYH+DjlqgS+kMDBXw90M+sH1hPcM8ltys52hKXMHk1UMDXQ33LvZI8bGoY7Va2fErcmxoo4OuRfsHL8SQANwuX0B8aKODrcj/HqSXPjvFwKKF4vS53zDhUX8A3DkpuVQXgE4C8YCg+omJ6q/Ilb+JqoICvy33HZgtPavPQK8/C8eAnrypg7VfA1+XO6XD1BXwdVvBQ7HninIdZedB1xowZ6bLLLst3z/NkeZl6DqW9iZ1fwNfl/uPC7WOPPZYuvvjiDDreqgUYP//88y5LVqrvtAYK+Dqt4Tb48x5IAIfX4/UIvFUMrzcW9w+2UX0h6ZIGCvi6pHirdV0H+HifCu8P4S1fJUx+DRTw9UAf4+XYaLnkkkvy26TjawJ7QLwiQoc0UMDXIcW2yxbPx4/PWeH9ePuzL0Ty8ZV2eRW6iaWBAr4e6C82XQAgr+HzOwxlp7MHOqbDIhTwdVjBQ7EXZHwy66abbspPNvAS1rLZMpTmJn5+AV8P9CFvxuL7eXg/XtTKS3H5wIfA7AERiwgd0EAB36iVypdoDnyNxseDZMtDQTt27k7E1d+27TvT/EcfT8vfX5nz/ti6PcfQz3t4fvrwo08aZfbsTWnvvsE8SIsB8Mbgw58xrRz3jgYK+EbdF3vT3j27/jRNFIQ7d+1pACgC8ZdNv6X7H3gofbv++5y/e8++HEeQvf7GW+m5519M5gk+YtMAHD+8pL9RN6kwGBcNFPCNkZqrXsdzvZ3A4fyTTz/Pnu3X337PgIsABXyW4Xjtum/TfXMfSHhJ0qu0deJbd11eSesdDRTwjbIvoqEzzauu07Zu25FBs2v33gycxe8tTS+8uHAQiAAVnixOT52CAjp43H3PfWndN+szL4FcnXbGpkS5Yno57h0NFPCNUV9Up3wYv9fp2L0EMI/MfyytWPlBA4yATk8HOD3W80VvBxiffOqZtHLV6lxeGuphisuvAG6MOnOc2BTwjYGivU4nK4Bg4JjPT825+97084ZfBgEPAAHK7Tt2NQAlAPVuxtAy5Xx30XvppYWvJMCKp4yhOgDEvHLcexoo4BuDPom7ing7wcedKjydwFvJuHRAEFxMMwFQDLvYnAFl+wPn/Azmff312nTvvXNzXvx+AHTWzXHxhGquN+MCvjHol2jwHvOcHh9g5GOKvucRzwS2AB2xONsdQLh3MB6zdOQLPGJotm7dnu666+78zXE+/miwfs4L+NRKb8YFfG30C0ZcnVq6sRJ3HzkmsMbj+96ffPJJG9xbk9QBiDRAhkzPPLMgrWQduQ+vx2WHA/x2hmlpBHhMP0BdjsZbAwV8Q2hckEnmJgrnTCv1YK7N+Bzz3Xffne9Uscxo4mbgQy4ACOBWrVqdnnjiqXxsXdu378yHEWjxGO9J2RK6p4ECvjZ0HwGoF7QYoGMayabJF19+ne9Y+X3L1pwdy0k/3LgOfPAgnZ9rwp9/3pgeeOChtGnT/rUlly52HPjmuB4R0G3bNvDNueHKUujHVgMFfEPo080UgFT1emx26Pm4G+WVV1/P53kqqrUPwb/dbMHWjB5Pt2XL1vTgg/MSGzIGwYnXq64n41RU+hKPnwYK+IbQdfQ8AiB6tN82b0kPP/JovmslbqR4+WAI9m1nW3eUh8JxM4ZzQPj008+mRYvea6z/BKD0xGM8NsCyhGFqoICvDYXp/SAVeIDg+++/Tw88OC+t/+6HhgdkGurF8fFaUbF2q4Jw6dLlacGC59MffwzshEYACryY1oYaCskYa6CAbwiFxqmmxwCQ63d82MTbx+KtYU5FuZbXPHBNoea6QvMCtTlumjClFFROL7/99rv08MPzGwCU1s2YWoYlcdw0UMA3hKr1dF4/wwu+8847+fodecArXm7g3AvpeMHmYXTgcxoKf0EXjwXj5s1b0ty5D6S1a7/JoujtjJvLV3I6rYG+B59TSi+Eo3DSBB1G7vGWLVsSXxLi7dIE0zvdSaPlv3nz5vyCJgYNQgSu3pz0PJiE9jrgjLb+Ur5eA30PPgwxGiBqwugwxJjOB0zmzp2b13mqkrK9HpSRmEGDi/+2y9gBSFraFI97vY0TVb6+Bx8dF40Pg9TwiMnDaB988MGG0Zo/ETq96p35EAuvoq9+Adc2CUjbPhHaOFFl7HvwaZwaHR2J4XG/JNfxXn/99bzGs4NJ11AnwrRMWZHfQeb3339P9957b1qzZk2jLeTbHmPbXOLOaKDvwYdBapQYncYKyPiGwmeffZbTAGl8goBzaTvTNWPPNcpLm3lRLzd/2y7zidXJ2EtROKqBvgefitAAMbpNmzbl9d0PP/xgdiPGMKVtJPb4QdxMUlSB9uGHH+ZLJj4ZYTp0PJlRQuc0UMAXdi0xvI8++ihvSvjWaFVPHt7O6SnnE8E7OIUkRnZ+yM6PQJt42Jebwf0qLukTbYCxnyZS3Pfg0wgxtldffTWv8exADJMQp6OcTwTQ2QZi2iEIo/wxncsR7ITGT5PFMpFfOR4bDfQd+ABOdVRnesXT5qzv+i0w+AgywPjSSy8lXuJLcPBxgIqDTt1Utt90N9r29gX44tpFQ8LgMC4+UMLnmHkA1rw6gI5W0b1cHv0IQORcvXp13mxSZqbgAk9Akqe+pCvx8DQw6cGngRijHkftRYsWpWeffTZfVlBtruk8n+yxs4CoH4C4fv36dMstt+TXVKADQUeemzOmTXYddap9kx58cURn9MZg+PEBylWrVjX0CiAxwDjC94NxRf14bLuJmY6zCUUwn2P11FBgORi2BiY9+NCIIzXHTC+5W4ULzBhQNCiPqzudw9bqBCvARXeDOkA3ekVeAsU6kHPynTlIa9kSD08DfQE+VbJu3bp8Zwc7ezFgTHXTzX4wLr1cnHaqC/L0cF4PFJBRf+V4ZBroG/AtXbo0P5GAmgSVcVQdRtiPBibI1EXUjZ6Ol0Pdcccd+b7QOJuwTImHp4FJDz4Mh2/f1T1OE1WlBzCtXwAoyBh0/KEDvZ8eUf2Q/tRTT+UdUXVV4pFpYEKAz44njkahYUSjUQ3Q8pboefPmpa+++srkHEMvz0EZ5aSpBtQ1BKwRmYYyqPneGh8gNvZVirGcx+h+9y7eoNbek/zVvpIPssQ8bcNGmGfsQGM+MWnyI25GGwfjaj2R33COJwT46hqrkmJeVC6Amz9/fuM17SjFMio9ng9Haf1Iq4HadgY21tCPPf5k2vz7H4Oe6I+v1HA6i64jD75pmPYdeBW+fFvF9HXss3isHWADEVCRn/TI5FTafM6jfPKjjHZlbBnb5vlw4wkBPhuFcvihhDgSqTQUxfF7772XFi5cmOLGCnkqFH52hLxLPLQG1LOU6HDDxk35IzA//rSh8RIp7hrVI0pLXNV59TzSemyd0dBNkyb2a6TDTjiPabFOdrU5j+XhKchIr9ZFfl0ZZRlO3PPgUxE0qk4RpEUwsh7h4rkhKt406CNf00vcWgMYXTReqAEZU0w+4PnRx5/mY6eevj4/cqV8XT9GmngcB1nSNXyAwYPBvEGOB4P5cexlouqGkP0NP5Yil19++aC7mpDJtuEFrTfKCo86e4ryDue458FnY1RMPHfEIo/HgO65557cIdDEW8osExVJWvVcuhIf0EBV7wdyBvQH8Fzf+Rnr+Okyylc9yHD1Dn2VBzfBH3fccenYY49NRx55ZDr00EPTMccck5/QkD9A8TiWnz17djrqqKMGvRJEcApay9FewGi+5zGOOhnO8YQAH4qw8cRxvo6yvvnmm/xqBO9RjIqDHgMgpgPkg5Ii3XCUVmgPaKDxbXhe2LtjV1qz9pv09DML8uNJEbgcR31zHM8PcGx9ZN+/+eab6R//+Ec69dRT8zLDJ1KqQIFblIM6r7/++nT44Yfn72lgD9EmoMfrQRfLkR7tp25wby35n3N7HnzVTosKYYrB9bunn346K8o8lVnXwTGN4xKGpwH1p+7QINNL13ik8xDyww8/nD2L0zdqwRPZR8OplTKWs14uHeH1rrrqqlpW7MZy3+61116bbyVkZkQAQNddd1064ogjGp4POwK8N954Y96kW7x4caalLu6IeuONN3I9PPERPaOy1ArQRmLPgy+2gQ5AeQR225588sm0YsWKSNLopJhY7TyVZhxpy/HQGoh6c8oJCPkJEkDHazg+/fTTxkwllovHrWp0IJXGcwCB97rmmmsadVo3a7/zzjsvnXvuuRk0TEc51lux3vvnP/+ZwUeZs846K09Zr7766nTmmWdmz0g9PGQ8ZcqUdNhhhyWmqoD99NNPz4BEntGu/3oCfLEjVGBV2dCYh1J4AxdK7pVgRyAjoyXvRnnttdfyw7kc8yImpkqMqvHFRRpT9BC2k7aRLw3nDj4cVz2JMkgf9dotPXFPKB5DmRoekrblt2wPvriPnMjdrC226e23304HH3xwBuD555+fAQQwCOgSGyFQL+9aBUB6NAALcLljBy/NmpE0A96NPrjzzjvTCSec0Hi+ccmSJblO2kNQFssNN+4J8NHQaHw0Is6vbRTzeZ6/48ZoP7NsXrfiCBQNBtnYADj66KPzaEnH08FsEBxyyCF5GoO8dp6GGY2OfNM5hrf0GB63eRmqgDRdes+7FTPYsBlG/+Edq9+yQE5+2EC0A9tFnrpVJ0w70SfAu+KKK9LNN988SCfkX3nllWnq1KnZW9EX7oLPmjUrHX/88XmvgL6aNm1a3oDBA/JuVgZPwgUXXJCnp9CzTqQevB8xwfVnPhnBX9fBp4HEWKXTHowbhdMpjDxcv3M72TIjaPeYFdEYlAUjIY0L0IysPLpEx9NhPCO3YcOGXHe8Bmk7NTDiqANGYvOgZSqEYbj+oL5ID02kzxV26U85Nv7ya7przj3p5w2/NACYp6w162763HIcq1uaoD288sor2ZsBMPIj3UMPPZQHO16LweyIt7SxxmMmAl/WfPSJMycAyOUH9Aq4yCecffbZeRDlqQ4GPH54cm9VHK1Kuw4+GhBHO0cd0jQojp955pn8/B1K7rWATP6QzRERo2Cqybb2DTfckNsZ5QeIt912W7rwwgvztAnjMPBKC0ZbDOCcc85JCxYsyNeyWHtgSHhWjIS7eAyRN2nVc+nGO0YOppvshj762BPp8y++anzPAlnQEwMIvwi0qpzwMZ+pPJ6PDZUY4MHajWkl4MJ22Pw56KCD8lIA2ssuuyyDjMExy7Z/H4FBnbUhHlCQsl5ctmxZYybGulG92s+x/uEcdx18KlOhozJIQ0H33XdfY5SKDa6Wlcd4xtFgojzKyahJB2ok0JDHdx8cafGOgIr1BfdLMhJjBICMHTu+hgRI2bEDkKQzcgPoXgcf67p4uxk7owtffjVxTfDX3waeI9TL0W/o0/Oo22qfojPA524ndmM5NnoY8Nh0YdoJGDnHcwFG1nfo8Mcff8wzEQY3ppbQsizghcIEljgMfgAZQDLbIBZ8VZmGe9518OndjGkABsr5l19+mZ+kZnql0dpAFe15t2M6FRljx3DOIp+NAaad0BBIZ9GOQQA20vnp5Rhd//a3v2XjYfpKgK8/jOCMM85o1IWRRv1B3yv6cReUT2V7TPzV12vTI/MfyzdpIy9tcBrNOTqKwbarX2YNLEFcx8X2wotBi9ch8j6aTz75JK+zfUU+r/9nRmJ/sHPK4MhAtnz58qw76kGnzMToo5tuuikxnfXtB9Qx2tB18NEAGmlj9Bhcd8FrqCDo7BC3jEfb+LEoHztdWek4j1kjADI8FsH0iy++OKfj/QAdW9ysNzhHB16LYnrJ9Se27G0/tIzqhgi8KI/00nUmbv2pMyDk7WYcx4vym37dnA3aASbKhw6RP7aNfNK0FekFZGw7efGccvzQP7HB/QPOq3VJQxzpPI58Im27xz0BPpVJozA85ui+N8SGaLQqmvR4LF03YjvWupWLzgd8THGcHtFWfi76GaEZkRnJWaOwKUOABzq466678uYBACVQF+BjWsqxdZGnsanP0RpHrnDIv6HBFwHn7Wim0edMIfVgsR20xzbQTtsFTWx3FNH0CKRYDlrO1RXncTCP6fCSH3TkxfN4HGVo9/gvMNCwKRSFbpcJZWxgFN40vVk0FunsBGJGwjl335t++PHnxhSlXRl6lc6LwUxb1Acxi3i8GusP1hboBvChSwxy7dq1uUlMe/CGXsMiUS/J7i/b+IRoGPBSvzmzh/80YNry4osvNmxRmzEfnQlE9dhLzVLfykjscTM5B3k+gWdBz5sVJt1KOZae8lUFoUyFoYzKZALwx9bteQfs8Seeysek8WOHbKIHPB8gY0ucoDFxzLUvpqRcc2Ihz2KfTQA8IRsqrO2YXrL+Y7OAgB7xhmw2sJbEg7J5Q1D/+WQC/WlDrPFZV3mB3CZEncV1ofndjJUt6l47H0quvwCCCBS8YDwfioGKM5ZeHgrXTCBA9vY7i9Jrr7+Zv2/u+sDbluQ3UWP0AqDYwbSD0InHGzduzFMurh3Fa3/s8uIJPv7443wDsPToAV2yacBUrWqo5FGneu91vUU5sRn0BAC5N5NgPu3XG5LOuXndbKN2rgwRB0PJ1/B8sXNlSExntvpZKTRUBh/WLbxqwPLSEEeB2Dq//4GH0oqVHzSmmYCR60HEAHCiB/QSA+1Xv6SrW/ViP9iJpmN4HEcDVOcMmDHd+uTlea/GtCsuffDkXBj3vl11oPyRVme7LYEAACAASURBVP11K0Ym5IkyctyO7v8SR0kbVWVmo5vFdrxGxXUVdvNuvfXWvNWr4VBeRTOy80LWLX9sG7QbpufDZCfDtNM2V6dLGIsAMw/d2Ink0YGxI9UvPMmDR0zjmDR5NOuvXku3DbTZY2TkQjrenxmBbVJX6q4X2qJsxshEPwwVsueLheLOT1REK0aRDqPgNeMXXXRRmj59er6+dckll2SgsV2O0vgSDk8koFTv88PLeTGWzZfJMu2s6q06sNlJ9AF69DwaF2mmM5B5LG94Qh/TOY48pO3FuCq3gzmyshnFTfTe+VS1tW63R3nsu+jxIq7q5MxrPhrPj82BGTNm5J/gAUCtftwVMHPmzAw2vB1AI43HNrjplVunPCaGlhujFZrxgV8EnDugQ48ddU3qrTRBUO2I2EnqohrbkjrDi8CSF3V5TNlqnfLrpTjKSPtju8xjlsSGFfaFLWJj2GkruxyvPGTBrrlDxo0v9Bvb0Uzfg9Z8XF9jAwAl2PBmBWM6HS49ZbmgDOi4hw7hUBwCclcHW+PeqJpBvx941ekmwKt7B0isd6Icq5tmwEAPBo+zbkK6PKSLnWueZfGE0XtYppdjBx5kRE+eMxPDLtkJJVTb2gttYnDkbhqvUytT7G/TYtwAH4msweo+hRwL1B2rKPJQDtvfAI9bqniW6osvvmgoDRqMhBuHUerWbQOPmWB+8QfwDpjkAN9YT50cI0mrGrk8MGCDRm3Hk46iq0FAaPiRN2WRXxrKVvlyHuvg2HNi6SMP0qOs1KGeoNMAKBuPIz/o5S0v6622cbjnsU1RBuuP+fC2XmTCFplyapOxbco7XHk6Rf/f//530MX6duoZNfjsaCtDeVyTAlyMCHYm+VF5pPMZ4rn3P5hfPwfQ3OUUhKwBYxnrqEszb6QxPKuLeY21GU/KYAR1QKQM+YSqocBXvUCDzqSN5XLhcEua58aW0WAjKKUhjunQWjd5lo30Dh4xbTTHsX75KHvUTdTjypUr8w3l8SMuUdY6nvLuRtwV8NnQ2KEYl8o1v1n82+Yt6eFHHk2ffvZFw/M5BfVSQ+wg+Hhu3Ix3O+nwqOMT0+xowQlf06p1aCyx/fDinDLNAA0N+dEA1WmUxfpi/dalcQqeZulVHpTjRzl5WFbasYhpB/yRXRnhyyBtG8nndjN2OmNAF7HNyhlpunncVfDZcJUSFU0a5yo40uLl2GB58aWX03tLluV1nhsuTEljgM9YdwBGxi1gvOaBH8/Uccc7tzvZllgn8tCOaJwcQytYoIn5tsH2w48fZaAzXTpiN1kiWKGHlrLVMtx5z21oPPdoUP4ol3mU5yeNMbytk+PRhqgH66jjyaDD4MZmnN+Fp351G8tU2x7zunXcFfBVlUNHN1MOtLEzUBTezfXd+ytW5cdMSPMRFAwhdhrH8XwslM3zXDxRwA3QvI6OY56vI1QNMNZfbQ/tRl5ifuRb3pHe9sc2VGltU6QhDbqYxrH8AB+3m/l+EQEkPXHsG+WCL+nkm2YZ5RiLWDnlRVuoz4GBjT42LdjZJJBfF2K68tbRjXdaV8BHI1VCVAzHGlxMh55zOoNOdn3ni3V4zQA3V/OgJR7QEDuP8hqX+SON4cWzcQCOW7a4vYnbwXzFAHz1QsigHMbVtimH6XWGHI1O+qhD22YsD+uMMlkeXWvIxpSjjLyljVPbah51Krv9Z7mRxspBeY6VT36s79jsUxZliOex7cpn+V6IuwY+Go9C+KGwqnI414CkVWEALK7xgNvm3//IHpDXDdhRKF9jpKwdI5/RxDyeg9dw1IUXhkd9XCb597//nb7++ussC1Mi7uDhBUa0i6fM2dXlKQRulOZG6EsvvTTfc6nsjOjkAWp2gQE5+oAXTzUAfnhyHyeBtjIFJo8brnnQk+9PEHgwlHOueVGO+yAJPASKt+ZpCetl+swNDyeffHLmxUZYNOLbb7+98b09rlPx2BKv249r28x8FH+0M/Z9PGZQ4w6WKJf9Gumq1dOG2I5qfjfOuwI+AVFVmkqvKjECk7yq5xOI7HzyugGMzpEahVu+ynekCocfj+vwZAH3E2KwXIcEiORx4wGvEQA0BF7dwNvIvO6EwfMEAjcU8MyeU1gfAUIvPJ3AY0DkYeAYG8BjmgsdQANIvG6C66A8x0cdABl5eK0BLwxCD5SnHGs7LuPMmTMny4WcyMH6lUA+b0w77bTT8sO41E07eFpbw4UXNKwVATpPVfCUxQcffJABrK4zwzH4o8+0E6aZeDv1CHvrs2+V06opK02kN7+bcVfA1+kG4w3oJKdAApF67aSqDHSag0I1r+4cw8SgMX6Mj8d1MGL48ANgpPMoDzFvutII8FiU48l7AvQADUP3OT2Mm3M8HuVoA0AFLHpULs1wjueBFzx5b2T0QvAjHcDyinwDRskTDjy6BFgJyACwoENPXKzGiyKL02jaDch9gBc9IwP1thv27WVTZuBGYvuDGD0QWL+7pDD+dv336e577svPb7ZbT6/TTUrwYaw838ZLlOK0UOO3k+kcAOeUK3d8m286w8MAPjwOU0O8koYEH4weQ8ZQ8XAGZGDKyXrRC8Gk6Q0FAh6GbwpEnrwrEn4CAlBwzp1AeAXqgS8gwrshF4FXSgBkQMKUGFkJvqgJLwot7YG3eoIGOeKgQLvxyg5U8OAlTvB1sMvMW/4NPMlu2+TFgEBfxJkNG2urP/w48dxmvoY78R/XbGhmUoLPTuW+OacpAI5OFnjV6YgaiUA0rRrDA8PHmPnkVAzyZ11HPlM4PA8eTI/EdA1D94lyygMYgMP0zXOM3ECb4OUUD+BSN4MM7SSf5/T4DoVvK2PdaJt5KRCDEeWpCznxlpzzXCB8GCwAGwFZoeEcuXiUizQAzg+A8uMyC2tf2kQQSPmkxZ909EM14Pm8i+n5F15K7y56r+EJD2ynVUtNvPNJCT66AcPIo+i+fXmE16OQh1E5umO0GIKAbbcLWW8BIBb/8MaA8SAEpm1MQzFcvnaLUUNPoF7WgEz3AAlGz7QREOBVABIGiYGzqRO9CVM76FiDATTax5uxkJ2dVnZdKQvQ8Ih4UwJTRGjhzbSRm9jhy7QTr4b86AS5ABK3ZwE0psoMINz6p77wjKecckrmyx+bNaz7BF8jo8UBdRGMHQjtFwDGmwp4bvObb78bBLwCvqBYPIvTp5Dc1UMMxZGVDsXQ2PHjbcQYYLOAEbQLQoDChgvGCyB4wSqAoT6mgeThhZCFXU6MmEeikIVdQs6lo/xJJ52U6ZUNL6cXMo01GLuW1AV/aAAogc0VZEEG+DFFpc1MuzknHdABesBOYLAgjxi58aTc2U8a4GXQgD9TaHRDcMrLMW1j8GGgcdrZjv4ijYDLzPfzRA68Nu/nAWxuqPn4mLQTPZ60no+OiV6DcwYJRnXe+qUx0fn8hhMwOtZYvt4dfhi51/nIczoKb4yNywquP/EkeE3uU2XqyU6mn6OCN2XIQ17ljDG88VZ4OJ+lpBxyMJWEJ+UNgIfNILykr5CgDrybA6e6YmMHTwmY3aCJ+sFTw49AOvXCw/o4bydQ1jo5FpBMzxkkGTwBnTdTwJUfO9qTJUxK8NWt2+xodu14OzHv+9BQzKNTNeZWHayhQKNhxqkrfKMM0pvOFI11YFzzyUdaPTd1mBbrg175pW0mu7zlBT/LkhZl5VygW6+x9ciH2GCZSGNeNYZWnhxbhuuPgK8qL6ADhKwF24N2tcbePJ+U4FPVdqrnGhwdzkYBHsfLELHDpW8VazzQxHrgE/OioVkHlwz0fMikXMbwjDw8t55IJ886esqZXz2WJ7EBHvJBbkIsLx2x+RwLXstGumbHDnjwZ63KjISZA+fwoY3WAeicesY7mJrxnijpkxp8Q3UC0zC8oIYAfTQ2O5/0kRhYs/q5CYDNDoEfQRWB1ax8r6dX2yCglNspJDua3//wUwZefAubdJM97kvwRVCxDuOaGOs0R27yqwaDIdSljdRA4hRR8FeNdqS8u13OdthGzh3UGGjwYniwVR98mJ56+tk8CMU+6bb841V/X4JP5ep58Gp4QF47pxeSBkBiGBqUsfkjjQU6/Kp1jpRnL5bzzhhkY5ChvQDv6WcWpJWrVuc1XFzLCdJebMtYy9SX4HMKiTLZ8SPQ6TyMyfU60jAS0jSGsQSIYBaAsVPr0mL+RDhGv7EdUd/stvImgq/XrBt0/Y4NlX7zfn0JPgw4gikaCtv33HwsKKHVeCgTaUcKBL2nMXzgy3lMGyn/XigHkAQTbUKH7O7ef//9+dEv131eu+McDwgI+yX0Lfjo4GZejetWGAnXzQwC0PPRxNYL4ASz8Wj49kpZQYc8DiZM6Z9++umBAYYp6M7djQvo3M0iGIn7JfQl+DQIOhkgaPgxnekRF3u5PSwCT9pOGAj1Rxk6Ucd48LQNgJAZBHfUcM+quvZJBdZ+rvcEIOfNQ+tPizUv15s5fQk+uwIgCSYMRaOJnskvmQJAaS0/mljvEGUYDb9eLMsAxvU7nphwcws5o5cTfKYV8LXuyVG/OrA1+97IBRSO1LxDlHUgBkR6HLnj7U+M5C0H7jQ5Rm4HDvTjsfqi90hn6s6Ljbh+52DmJZXe6OHuS9HXnq+Z+vGAGgw0gI7rgbxCgdEcgDliE3v3hXEzvjxAOvBrTjGRcty0AoBOzTnmFjFebkxAl84oOAekJQxooICvhSVgNBoYZFw05jk9P0+mpxOITp1asJwUWXo7G+M5wGJ957tjGMAcxBjAoi4t289xAV9N7wM6DUrjMcaIeLiTj3OyY+euXQRiDctJl4R+0IlejTuEmGbyiouqd5MGJVTzJp1ihtGgAr4WynKNUh2xWfPxvtAnnnw6363hGpCpVzS0FqwnfFYcnHihEZdmuEHaIMgiHXmmS9fPcQFfTe8LIGKPMSLXNa7tfF8oNwe70dIPxiWgGJR4kp0Hakmraztp6s3BrEblfZlUwFfT7U4xjQWg54KPqSZej3Wgr3OoYTcpkwASO8C8vBYQCjyPPVdnk1IJo2xUAV8TBTq6m60xce7GSmPXc9++/GQ5b/JylLfcZIy582fu3LmNJ9ptYwQa+vOcwctjY8v0c1zAN4Le1xNS1GPAySes2WLnq0NxnRjBynE0wAjqEYgyoiLKrPzVgcZ8ZOM4ysj6jhc4+doIykovvxEJ1YeFCvhG0OkYmwZnrOFhlOz6+VJZDNcNGeJmd3AAyAjKEYg1rCLIFUFVLWy7HEQAGU/+81GV+JiQdJQfime1jn4/L+AbAwuIUyzY4fm4iZgd0ezp9h64EC/4KMOvVwwWWQQagwCgcgpNOm+pY30XA/kCmDIeR5py3FwDBXzNddMyp5mhka43eP2Nt9KzC55vrBG5Jij4ZA5t9HgCwPxOxLE+Za3WYzp39vAaP67jEZCPX2x/tQ1VXuW8XgMFfPV6GTIVg9NAq8R4O+/S//KrNemheY+kjb/8euA2tBavKozAqPId6/M4UMCbc4Clx+O18rxRjJ3NVpcJIhDHU/6x1sd48yvgG6XGAWD0BBy7weJdLz/+tCE98OC8/LKg+LAoRs50zxCN2LROxYDE+jiOctAmnurnU8sxxLUeYHTa3GwQimXL8Z81UMD3Z50MmbJ3z66U9jV/4tonHZhiCkDSuCOGj34AUEM0+nhsfqfiWJcgpC7Wq1y3jOs7bqkzSGtsOnFsV0wvx/UaKOCr18sQqXsTn7lyxDe2kJssekBAyIV5gPjOu4vzW6UxcgIgsHydQctzrONYp0DkMSCmmTx/pyzG0HNsOeOq/NKPtbyTkV8BXxd6dc3ab9J9cx9Iv23ekqeofpEHsOYbtcMr16Mx7961oyGtwCauhuyZ9z++FI+3beU7FQOP9MS1GXVwQ7QfSKnyK+ed0UABX2f02pIrHpDvxz/40MNp3TfrG2vExm1rFW8IUAbAcuBZuFbgA2CATuDt2b0zg86PUiIcgIMna7fFixfnL+yS7mZLywaUzDHRQAHfmKhxeEwEzubf/8jrwA9Wf5QBCPjy5YgWD5y2A47o1fJmEGvU/Z5wx/atjbUZzyfyvlI/ltkO7+G1tFC30kABXyvtdChPDwcIWQ++9fa7+SWygpJqXWPhofixtiJuJwg+Lw9EL+i0k68Nsb7j+whulLTLvx0ZCs3QGijgG1pHY04h6AQbAPzq67XpnnvuGfRMnBshCsCu48BGByAcHhDlQcz9mdyxwisxCIAOvoI20pbjzmmggK9zum3KGdB5v2cEIA+j8lAq37/TCzEV1DMdYDg0+ABS3JGkLOd8nWnBggWN63rWI+94WcG0EndGAwV8ndFrS6584BHQefkhEvueGK6zNaaN+6ed0A2ARfAZRw4Dx4DPSxzUw3XGhx95NH32+ZcN4rjGixfQGwTloKMaKODrqHrrmQs8vR9UEQic8yVZvjLrqxn0YgMcBZ1x63p+2fRbuuPOOWnDxk0Z8Hq7umlmXVo995I6Wg0U8I1Wgx0oLwC49sZDq5t//6PxeWQ938Blg4HKSQOcAhRw6/XYSZ3/6ONp2/adiXtySC+hNzRQwNcb/VArBaDidet81Wftum8zcBrY2TewpmNqKujcoPGiPW9YW/jyq43riJu37sjHtZWVxHHXQAHfuKt86Apd63lJgicknnv+xXxrWvZolacimL5KCzj5cQH/08++aNxban7xfEPrf7woCvjGS9MjqAfA8AMwAOq9JcsyCN2RxNMxRSWPu2b48Ua1/956e36EiXPL6g2hLaE3NFDA1xv9MEgKdkMBjcARhACH+0Lxam6ekOYPT8f6Lno58uLGjpstgyosJ13RQAFfV9TeulIA45uwOfbBXNO5LxSQ8XVX0thMYX330sJXGqDl0oKgg4bjEnpLAwV8XemP1pcIAB7ei2kjwBFgesJd+1Lasn1Xen7hq+mNdxanhx97Mn3yxdeZPk5T3YihiW7GxLSuNL1U2tBAAV9DFeN50Bp8Ao4YADqN5NwHdblswPlN//lv+vKrAQ/YyNs7kGeLBF5eH4bHlcwvcXc0UMDXHb2PulaAR3h4/iPphx9+2n9WoomkgQK+idRbNbJygzRPoJcw8TRQwDfx+myQxAV8g9QxoU4K+CZUd/1Z2AK+P+tkoqQU8E2UnmoiZwFfE8VMgOQCvgnQSa1ELOBrpZ3ezivg6+3+GVK6Ar4hVdSzBAV8Pds17QlWwNeennqRqoCvF3tlGDLVga96/6bPB8I23uHCMa+oiGnDqLqQjlIDBXyjVGC3i9eBT5kAYRWIAA0wVtPraOVT4s5ooICvM3odN6514PM2sujRBF2dYJGuCso6+pI2Nhoo4BsbPXaNSx34IpjicZx+KjBgi29Hq6ORtsRjq4ECvrHV57hzqwOfQgC86poOsPGypghK0uK55UvcWQ0U8HVWvx3nXgc+wOWTDAjQDFjVKWYs03HBSwWpgG+CG0Ed+GhSdSrpOYDzHTEcm06ZAr7xNYYCvvHV95jXVgc+1m0rVqxIr7zySnrrrbfS66+/nt588820aNGifEwsAN2cQbCqJxxzYQvDQRoo4Bukjol3Ugc+WjF79ux01FFHpaOPPjodfvjh6dhjj01HHHFEOuyww9KUKVMaQHNKahy9H2D0vPpS3+o5tAW8w7OfAr7h6avnqJuBj4+g8Jwfb7w++eST05FHHpk+/PDDtGnTprRhw4bGR1EA3ZYtfDQzNdKqxzYawAGwOFXlTWoRdGW3VG0NHRfwDa2jnqZoBj4AIijwdHi9n3/+OQNHb/b444+n6667LoPx9ttvT/Pnz0/Lly9PV111VT6m4YDp4Ycfzml8ylpwvfPOO+mKK67IXnTOnDmJbz2Y19MK6yHhCvh6qDNGIkoz8MmLtd0FF1yQjjnmmLR27VqTczxz5szsEa+55pp0xhlnpBtuuCGvCQ899NBEGoHy119/fZ6+rl+/Pqc999xz+fySSy5JL730Ugb2mWeemXdVBXwmLH8tNVDA11I9vZ9ZBz49EB6OaeXZZ5+dANQvv/zS8IZ4xhtvvDGDiG+xE6Blkwag4v0I8Lj22mtz2rp163L5888/P4M1E6SUXnjhhXTIIYfkL9zqVc0rcXMNFPA1182EyKkDn4ILhAg+dzmhAWBsyvCVWtOZTrJJM2vWLNlkOsDFWvHHH3/Mno41JN4S3sRs6CxcuLBRphwMrYECvqF11NMUdeDDg/FjCsiPaedxxx2XnDYKStZ7f/3rXzP4aCQek0sT7IjefPPNmQdpV199dQYka0bAB2BPO+20vHnDORs7eFW8aXUXtKeV12XhCvi63AGjrb4OfFWebLjgufBwBgDIuo4pJh6NAGBXr16dgYY3++STT9KyZcvyuhBPB9AIZ511Vi63dOnSxMc8Kf/ZZ5/lvPLXvgYK+NrXVU9StgKfXuj000/P08Lvv/++sebDo+H5ANV3333XaBsAZCrJ1PPggw/OmzBMT9kt5XPVBL7pft555+XrhwCRKefdd99ddjsbWmzvoICvPT31LFUd+NxwUWg8E8AzeJ1u48aNg975CfAIlMcD8iONKSVTToNfSeK6IWtEPuJpWtntVEtDxwV8Q+uopynqwOeaDhAJChoB6CLApAMw5EGvt5SOWB7Qm+96UuVIL0/TS9xcAwV8zXUzIXLqwKfgEQh84bYu1KXHcoJKAMIjAjDyjDQxvRzXa6CAr14vEya1DnyARwDFKSjeCjCRF9Odhgo0Y+lRBseALuaRDh/TOBeYE0aBXRS0gK+Lyh+LquvAF/kCLAERAQcNgCJUwRfLAyzKV8vq5UwX7LFsOW6tgQK+1vrp+dxm4Ivej0YINMAiYEgXmBzHdEAXAWUeoJOXyhG8nHux3rwSN9dAAV9z3UyInDrwCRQaEIESQRJB57RRsHFuGrxMj7zgLQ3H0kwIpfWIkAV8PdIRwxVDIDzxxBON628RdMPlV+jHXwMFfOOv8zGpUfBxU7R3rpg2JhUUJh3XQAFfx1XcmQqc8t1yyy1p8+bNnamkcO2oBgr4OqrezjEXfJdffnljt7JztRXOndBAAV8ntDqOPC+66KJxrK1UNZYaKOAbS22OEy+9HvG0adMatZreSCgHPa2BAr6e7p564QQZu5vTp09vEJXt/oYqJsRBAd+E6KbBQrqrCdguvfTSRma8dtdILAc9q4ECvp7tmvYEi56vvRKFqlc0UMDXKz0xQjkK+EaouB4oVsDXA50wGhEK+Eajve6WLeDrrv5HXXsB36hV2DUGBXxdU/3YVFzANzZ67AaXAr5uaH0M6yzgG0NljjOrAr5xVvhYV1fAN9YaHT9+BXzjp+uO1FTA1xG1jgvTAr621MzrFvwNFOAle9367d03UDfxtAunN+TYtXtv47hbsrVTb1sq7wOiAr62OlngDbzzhCIYWTfj3XsGJLho+sVpz559WR7iHTt3d1yudgDWimZAc+W/gG80NtBFBOZ3pexL6cILL8wjQX5FxHjJMxqdlbINDRTwNVQxjINWw/o45u3Ytj3NvPSyxvx35/YdKTkn7aQcw1BVIW2ugQK+5rppkROnoeN//NWXn6cZ0y9MV1w+M1047YJ00YVT02WXXpxWrlge1qbjL9eBdfFQdbdQbR9lFfCNuLP37l/4jX+Mh5s589I046Lpjfjyy2em775dn/bu3d15uRqbT0OBrFn+iJU+qQoW8LXozqFmbhSFphvxnXPuSjNmXJLOn3pBjq+9/rq0Y8eujsuzv7klGgMNFPC1UGIr8O3ZD7xuxas/+TRdceU16QK836zZacGLL6U9e1NirxO5OyVX1AmqG+7g00LdfZdVwFfT5RjUzl17smGxpc8eBoadjXrvgGFj5Bh4t+ItO3anGZdekS6edWW68uob0jc//Dwu8tBmf1kfNWDftfsA+HfsGbj2SBn3gmpU3pdJBXw13Y5Rxd8g8O0HHKDr1m/Ljj257ocffzpNufDidON/bm/Ism135+USfK3iXftS8ifdtl17cxq6LSGlAr5gBQLOEXr7/jUUxiPQskHxcZEu/pTlq2++T+dfdElasmJ1+mPn3iwTed2UjbqRYee+AzpDNmVGlwV8A0ZXwFcDPozjq6/XpstmXp6mnD81zZp9Tbp45hXpnPOnpcuuuCpNv3RWuujSWWn6JZd3Jb5wxsw0dcalacrUGWnaxZel8y6YnmZddW2aNv2yNOXCGR2Wiza3/k2dcVm6eNbsRHzetBnpksuvSh9/sSYDEO9XwNfX4HMLPCAvTDW5R3LlqtVpyfur8vpmy/Zd6Y8du/Pxjj1hOrV34Jj1IB5xvOI8Da6stbbu3JXrz1O8DsvjdLJVjBw796+P31u+Mi1d8UHjvICvgG8w8gL4ANGy5SvSq2++0zCYbNRhF1ED6la8czcTvIEp3K79m0Oc796LpAemdp2QD57U0izevWcgf+eufZlu+fsfpKUrVmb6bdt3ZvnKX9+u+Vp7PoxqxcoPGp7PUXzH/pGc92bu27cnb991K853k+zlG3o79yNtb9q1A8Pe22G5Bj4fxuRx3z5q+3Ms+L3he+nS5entd98peKtooE/XfK3Bx7Ru0eIliRGbqZPTPEDIxsFAkEcXYoAf7zLZtyft3ME31/emPYAx5nXkWB3Ux7zM18+V8Y7R999/Py1btiwT+87R+pL9ldqn4Bu6k5cvX5EYsfGCjPA5DtO5oTj4VulobBokZTmWZuvWrZldTCOPc8v4Nmr5eV7N9xy6Kq31Eps34MX3Nc5NN7Yez5U5C9zkT10xaPFbuuz9/DO9SbG+Sy7ga9Llgo/sdgyuCZucDCCqPDRmwRLfNh2P5QsIBMLPP/+cfvzxx7RtG97uwFdhzSdNHn47PdLFY+tXHmL54LHefffdtHjxYor8qQ05seZPkBXw1SgnJBXwBWXEw9GAD+PlebvHH3883XDDDemaa65JV155ZY4feuihDBzqEpAAxWNj8wGDACGN5/bgd9xxx6V34GYuXwAAIABJREFU3nkn5wkc8qGN9KQJRIFVpffc76kjw9y5c9Phhx+ejjzyyDRr1qzGt9ajfPCuCwV8dVr5c1oB3591klNGAz4N9Nprr00HH3xwOuuss9J1112Xzj777HTMMcfkLwtt2rQp1xOBIkgUKZ4LDPIAH8B49dVXJW14K4EESJFDWSD0m+zQSKeXkxH0v//+ezrssMPSeeedl7788st8Tn70otLXxQV8dVr5c1oB3591klNGAz4YsI4DcIBv6dKlGQSknX/++dmbrF+/vlGzQPj+++8HgQWCCI6vv/46e7WrrroqHXHEEXlKSFkAHOkEnGmATpBbFzR8ThqgEUgXXN99910eJBg0AD208mwI3eKggK+FckJWAV9QRjwcLfgwVjyUIIE3gDv33HOzB3SThfTbbrstnXHGGen4449PZ555ZrrnnnsSnhFA8HvrrbfS//3f/6UTTjghXXDBBfl3yCGHpNdeey2tXr06nwNqveMvv/ySzjnnnITnFWy2DRAuX74851Pf0UcfneVhgCC88cYb+fyoo45K1MHHN99+++30xx9/5PwqP/nGuIAvaqP5cQFfE92MBnxO7/BQGjefbwYgeBM8DgGAAjxorr/++vTmm2+mu+66KwP25ptvzjQ//PBD9pSA4cUXX0wPPPBA9qb/+te/0uuvv57BBaCZhuI5qfv555/P54A2eiw8IZs1gO7QQw9NCxYsyD8AD9A+//zztG7duvTcc8+lY489NgP0pZdeSmvXrs2y6D3zSYu/Ar4WyglZBXxBGfFwNOCDD4aK58HzAQ6O8W4AjXjLli3pt99+y+sq8jknABa81j/+8Y88JZw3b14GyqOPPtoQb86cORlceCkCHpA12mOPPZbPAThAd0pJoiCEHzKx8WMAhHjVO++8MyexkwoYkcMAcOVhWrO4gK+ZZganjyn46Jx2O2iwGL13tmzZ+wkAco0vhnamXdDjgfB8eCw8GoENFKaUGP99992Xp6HsJgJGA0YOePBkeMirr746H7Pl7wYMHo+NG2JAzo/NHH5MD/FkANRgvyA7U2EGAIBLOmmLFi3KMjFAEAAfu6nIYZ3U0W7fFvCp+dbxqMHHiExnTaYA4JYsWZYA4O7d3MFy4KJ0O+3EUAk33nhj9kiAxHDrrbdmQ2caunnz5jwFnDJlSjZyNjwAA+s6AMoU8d57781geeqppzIL8gEk00auv1EX5Zy+Pvnkk+nEE09s3FECmJUHBnfffXc66KCD0ssvv5z5ASg8H4PE7bffnutnwwVPCpgJlheIObHFXwFfC+WErBGBj87ACAiPPPJIXms4ugbeE/oQ4L3//sq0v5mN9rbbKDwfIMFDnXrqqflaGV6HtRS/jz/+OLMCNIABoAJSymD4eEbCkiVLMj3eCpBw7ZApImUiqBkAASx14UnpH0EDH+QBiKzpqB9a+L3yyit5DYmcgI6Ax9Xzce7FfI7b8X4FfFmNQ/6NCHyR6/z58yed56N9gm+k004MHS/DtbJp06YlvBsvuOUb6gKPegAJQGOKxxSUdRabLqRr6AAOLwRoZs+enS6++OL8W7hwYe4KPBJAgz/TVb2k/QQfB0uO2SE9/fTTs0cFxFOnTs0y6SXZLT3llFOyLICWIJDlI++6uICvTit/ThsV+OhIPB87cgTO9Yp00sT5AYIDP9rCtJN7O7kzP4Z2jE96p2nNrpVp2NIzzTREb0OdbJ7gkQSBZdE5gXQ2bgDwmjVrGhfUyQNUBuk5Z9rLpg/5ykq6lyykHU6bKV/Ap7ZbxyMCn6CicwDfZFvzoTKmnGy4CL7hGGI09mjUAscByq7Rcwko0knT6K1bemLyqAeg4ElZe+PF2NAxeNGcc3jLH378omyWsc5qDH3kJ31dXMBXp5U/p40IfJENnY7ns0PJ83jixMh84IcXxOutWLGq0VSNkTa1E6JhU0bgxfKkmS5/eOt5Yj0avgAyD2/JVJNrdzfddFPasGFDAyRxEICeOqxf+TjnOMoI7a+//moVDRlJsHwjs+aggK9GKTVJIwJf7ABuwGXkxftxkZd44v14SuDA76efNqRXX309vfcet4UNaC2Co0aPtUnR+NVZNHLTBCBMTJMh56ZFGUwnBoDffvvtIJBYdwRrLA//6rlpluVckCpPzDOtGhfwVTVSfz4i8GksdMzKlSvzxV3uvGAKiidkE2Zi/R5L8+cP/t166+3ppZcGtuNVXZ2xmjfWsXVVvSBgM4/Y41i/wDRNGvvNdGPpicciFPC1p8URgc/OpAo6dKw6rT2RO0/FtT3We6z7utFG9BlBp36j17EPSDPf+y+RmbRIH7VGWX7QWDbmj/a4gK89DY4IfLKOHWdnM82xUydOfGC95+AP8Fj3VUMzg67SjcV5Vb8CDt7q2zRj8uKAGNORPZ6PhYx1PAr46rTy57QRgY8OjJ2IITSb0vy5yt5PwfNxqYE138AliIEbCsZLcnXJtF6wu3Yzz/MoE30ifTWGzrKxTCeOC/ja0+qIwNeM9WQC4cqVHwyadmK40RM108FYpwMiQchOJqBz51OAUSfA4zogacoJvdcO3TixHdDE31jKXcDXnjZHBL7o9arVtMqr0vbqOe/BxOvh/WKgbePhPfRqxsjAbWA8aeAN0aRFXW/cuDHfAfO3v/0tXzwnn7tU4k3b4yE79RbwoYWhw4jAV2WLEURDqOZPxHPWfE479STj2Y5YJ48b8eQBt5fx3pa6gMfjdjZuVQNk9Ae3qs2YMSMf6/m4cybyrvJqlVelbXZewNdMM4PTRww+OqkKONLGovMGi9idM+7trG64jHfb8HzWyU3UPMng40lMMQnm2xd6N2LA503W0EoDmHmSHkCaNpZaLuBrT5sjBl977Ccu1Wgfph2q5YAHYHBDtYHHjLgJW+/Gk+s8m8eN0ICPJw94ypw3oXEPJ3nepA0IeRTptNNOy4DEE3IzN+eGb775Jr9Xhjp5qoGnLLghAqBSPq4hLTOSuICvPa0V8DXRU6fBR7U8hQAA8UT8eHKBdR1PJeCVrrjiigwg8niYFsDgzVj/cUMD59xMDXDwYICKJxQMgBF68gQnL3TiMSV+lOcRJgL5BDdz8skI/wr42lNcAV8TPXUSfHgYvM0dd9yR78nkKQRepw6QAIMPsQIm3oAGLV4Qb8cdRK7foOP5PQP0/AASU1aAp+dbtWpVLs+7YtgF5VZAPB/PDvpUinxGGxfwtafBAr4meuok+KgSAAEIPB1TSZ5G4LUTeDRAxYOtPAv4zDPPZAl5at3XP5AAgHmzGDdVM3UkADZ+BsrzLhfAy4YNtIDN6Shgx1MCRAJ0YxEK+NrTYgFfEz11Eny+NpBn9AACb7XGY3EZ4ZNPPskg4wFagOK1Pd4ixjSR1/gJEtZ8AJL3eRLgAXC9RIFXBHwEXrDL0+l4PkJ1emkZeWeiEf4V8LWnuAK+JnrqJPioEiNnLcaaD8AANC6Is77jKXM2V0gnMI3kvZrQuNtJWTwbU1GePIcfXg9vRgBMrPkApOfkwYPXR+DtWDv69SBoyoZLVtW4/RXwNVF1J8EHcDT0F154IYMMD0U6gefyACDX7Qy8MgIviXeEjh87o3g/HicicFGdaaReDLCRTwCcn376aZ7a4i0BIXk8lUIA4G665IRR/BXP157yCvia6KmT4LNKXxUBMKLhC0Lo4tMNbrRYXpB5TgwvgwDnPPLnbhi9ZbVMpJPPcOMCvvY0VsDXRE9cYOcOF4KvD5RU4yrxgVvJoi74NJjnHPOJbX6mq8d+jwv4mlgAno9fNfj9c42rxAeAFnUB0Pi2PT8+jrmc1zDuB2VVp/16XsBX0/Msvby9bOCRIqZzXMgeIMaIyq+5DgAhoBOMfpl25649Ob1G5X2ZVMDXpNvxet5YDQnAw+sRNKoSD62LXbv3pveWLEsrV61u6K2JyvsuuYCvSZcDvCeffDotXrwk+Wwfjxjl39LlaUn5taWDRYuXpMefeCpPPYvnG2xsBXyD9dE4421mgA4QLlr0Xp6G8irBvAvKEw/l11QHrO/YYEFHK1Z+kOOfft6YPR/T9RIGNFDAV2MJvijXLKacvtvF2LwSN9eAu8RO16E0rXmp/skp4GvS14DMDRZIOC/Aa6KsSrJ6MnbwivqsFOnL0wK+vuz20uhe0EABXy/0QpGhLzVQwNeX3V4a3QsaKODrhV4oMvSlBgr4+rLbS6N7QQMFfL3QC0WGvtRAAV9fdntpdC9ooICvF3qhyNCXGijg68tuL43uBQ0U8PVCLxQZ+lIDBXx92e2l0b2ggQK+XuiFIkNfaqCAry+7vTS6FzRQwNcLvVBk6EsNFPD1ZbeXRveCBgr4eqEXigx9qYECvr7s9tLoXtBAAV8v9EKRoS81UMDXl91eGt0LGijg64VeKDL0pQYK+Pqy20uje0EDBXy90AtFhr7UQAFfX3Z7aXQvaKCArxd6ocjQlxoo4OvLbi+N7gUNFPD1Qi8UGfpSAwV8fdntpdG9oIECvl7ohSJDX2qggK8vu700uhc0UMDXC71QZOhLDRTw9WW3l0b3ggYK+HqhF4oMfamBAr6+7PbONnrfvn1pb/gS5q5duxoVkmeINKRFOs63b98uadq9e3c+rtLs2bMnp8NX3vI1L/IyjVie8Tjyhx958oMPafE8HmdBhvFXwDcMZRXS9jWAYWvoGqjGvnPnzkGMIsgsI0E0fssJCmgiWHbs2GGxHFNvNY0M+AjUQQX2nyhnzIv0VQBGGW1rLNvsuICvmWZK+og1UDVODTcaJml1Rk6l5EWAWJ68CDZpo6CUox5BHOugbJSBcuSTDr1l5Asv+cU6zIcXslV5VmmbnRfwNdNMSR+xBqIRa5gYMQFjN19QCRDSpbPymCbwoLesdJSr83LkV9MpG72tPIiVLabFY8oqB+lRjpgeyzQ7LuBrppmSPmINVI0QA120aFH+vfbaa+nVV19Nb731Vlq6dGmt1wCwguCPP/5IU6ZMSeeee+6fQESeQZBTF8dz5sxJ55xzTtq4cWMmgV+UK4IGAs6tk/J1P+syZhBw4CCN8vKQplVcwNdKOyVvxBrAePU4HAOegw8+OB155JHpuOOOS0cffXS68sorM38MeNu2bfkY2hg2b96cQXTqqacmjgm//vpreuaZZ9KqVasGGTsAEmCzZs1Kxx57bPrmm28GARxw6F0FGDxJj0CKMnAcaaGLnpM6q2Culq87L+Cr00pJG5UGqkaM4Z599tnpf//3f9P777+fvvvuu/Tzzz+nDRs2NOrReAUf5/DxHEINfvHixel//ud/0htvvJHLC3KZUXb27NkZfHg++JBmHdLppUi3HnhxLhirZShbTYOWNMvJf6i4gG8oDZX8EWsAY9So8Xx//etfG9NAPd2aNWuyB7zuuuvS77//nut6/vnnc9rChQvz+a233pqnkZw89NBD6cwzz0wnnnhi9oiADE8okKwPfkcccURav359Q/4333wzXXXVVXkgwOsKXsoo6/z583M+8t58883Zu8rgnXfeSddcc00eQPC8TGuhW7FiRSaxbumHigv4htJQyR+VBpwGnnXWWemYY45JCxYsyEbPug/vxxTwvvvuy9PRefPm5akqBo2n3Lp1a66b8/POOy8fP/LII+mCCy5IhxxySDZ+QPbLL780ZAREeLrrr78+g++nn37KeY8//niuH8AAIPgzBX7ssccaZa+44oo8HaY+jqkHAONpCcjMlBke/PSuhx9+ePbm1M2vLghuY4B6xx135DbquR1A6sqb9hcPSlw00EwDGhn5HGPsrMEwVAz4qKOOSmy+ELZs2ZLOOOOM7EXwcocddlhasmRJw5udcsopOV9eL7/8cgbJ22+/3VjjkecGDPXdcMMNuZ5169bl+i+66KIM2LVr12Zw4nkB2cknn5wBgAdmHQrIXROypkROgEZAXmS766678jl/t912W27XU0891UjjABn8DcrYfwL4brnlloa357wdz1nAV6fNkjZIAxgeI7nrNDzfQQcdlD766KO8CcJajBEfQ4fupZdeSscff3wGwL333tvgRd7UqVPzjqce4vXXX88gAHyEaLR6WjZc2ODBu/7www/p0EMPzTxkTJnzzz8/T1+///77BC888+WXX94APeUYKBgYCO+++26Wj51a2oeHpRweFG9KGiHGUTbyaI+6+c9//tPYlLKcZTOjmr8CvhqllKTmGsBIMXTA5TQQI4zh6quvzkYMSFnTbdq0qQECvBHpGiZrL7wo00CDO6GcUx9ruxNOOCGvMdnYAViCCEAAUnZQ4fPtt9/mSx9MMZGDANBZS+KpkQd5ARogZr2n/I8++mjmQexAEwGnzPCkTta1bDrxoy54Amo2odoJBXztaKmPaTA+ftHwMGA8EWs+r/O98sorWUtsrGD4d955ZwMErAMNp512WmPNhwGzUcL0j/UewBEI0hOz5mNdiPdCDsHNmpG0Z599NteJhyQwDaUeQAowfvzxx7zpg1djvUhg2oknZCD54osv8mYMgAaQbroA/NjueIzsDBKXXHJJuvTSS9P06dPTjBkz0syZMxObQZSNwM2VVv4K+CoKKaeDNYAREVw7cQ748ESsqzBgPApGjFdiY4M1IYaJsbIWA1x4BAKej3wNkx1MaAAKfJg2kodxWy8bJuyI6lEAHEDB0wGov//97+nCCy/M9TudXb58ea6LQeKkk07KvJlOupZkHUo50v7xj3/ktiBD3LRRxizI/ilxFYCUp82XXXZZBiIDAGBvJxTwtaOlPqdxCiYQWeOx2QEI2AThHGBAh+Gxswkthvrbb7/lHUzWawTKeCwN0zfWfp9++mlD09HwoRd47ppCyEV3vAweE7BaxhgP+MEHH2TvzMCg/JR1Xcqaj2kxMXwIlLfNOSFsunhu/N577+XdVAYVvB+bNrTbwUO6uriAr04rJa2hAQyJqaAGrWdpEFTut6xOGylnWY2/ysMy5utd8LamxfrgZ7q08jDWU1MuAoGy0HCLHF7TXVr4+KOMfEyzHuXwnEsjrEmZeuL9ACNB+aSviwv46rRS0iaVBgQKgPJYz8eGj+A0z8GiXSVwueLiiy/OHtCbCygr32Z8CviaaaakTxoN6MVsEF6JKSbXGJm6GgRdld78ZjHXEJly3n333Zmk3fIFfM00WtInhQb0ZjTGY0Am0IyjVzStHQXIix3Z1atXN/jGaW8zPgV8zTRT0ieFBqIXiuswQNMsT5DG/FbKgP6TTz5pPM3RbrkCvlZaLXmTQgMATUDRII7rftXGtgui6tpOzxnrrPLmvICvTislbVJpIIKI4+p5BAl58XwoRehNjb1EIQBblS/ga6WdkjepNAAgIigETARbPB5O4ymnB5TvUOUL+IbSUMmfFBqogip6vyooaXDMb6UA+FJe4HneDo8CvlaaLXlFAx3UQAFfB5VbWBcNtNJAAV8r7ZS8ooEOaqCAr4PKLayLBlppoICvlXZKXtFABzVQwNdB5RbWRQOtNFDA10o7Ja9ooIMaKODroHIL66KBVhoo4GulnZJXNNBBDRTwdVC5hXXRQCsNFPC10k7JKxrooAYK+Dqo3MK6aKCVBgr4Wmmn5BUNdFADBXwdVG5hXTTQSgMFfK20U/KKBjqogQK+Diq3sC4aaKWBCQ+++GQyD0D6EKRPE/NwY3yQ0nwefozpKKnKS8XFhy0jP+mpS76U8aWwkZZj6YmlNyY/Hlt3jM03No/65W1apIF3DLF+8yK9D4ZSxnz5q9e6PGnJg94y8ib22Do8twxxDPKEDn6eQ6MsQ7U/1itvy3IeeXpsLH0n4gkPPpRiJ0cF8S6NmM5rxu1wY+g9poPi695QvoYhn9hhlvOrrPKy0yKtaVE+0qxP/vKM6ZaVRh6kV+WDRjryIo3nliemHvlzblmOSVcOYusiL7aNc0LMtx2kw5O8yNv3nAyUHPg3Xz7E1mue9AxudXJDJy3lYxvkCw/SY3nSyI9yW1cn4wkPPpWNkugsDUalVZVMOkrGgMyLPGIHygNaO88y5MVjziMfO1Iaz6FRRnhybh48rCfWrbHDK9JKUy0HjfVK43ld+6CJfJWPdMtxbFnS9O6kcW75mEdbYnnKQE+I7bRszqjkkVbNt7y8PLc89LFe20OdsV7bEOuAVprIQ95jGU948Kk4FaxyUKCdo5I9N5bWzkXZdlw0+Cod5/G14HaW9UhPPfzkT7p1G5NmJ8MH2ii7vKxDuWIsL2LpODY9flxEfpbnvK6MZZW9ql/5GNMG20Ga5eRjHeRJF2U03TzoLWsdyOBMQ360Qzpi0+UtP8spm30Vy5LnuXV2Mp7w4ENZKhhFoXwUzSu8+YINH67gG3J+wGLOnDn5u3IqOpYlLZ5XgaBBGTfrGAwi8rGuZgYvn1jGY+qynGnQ33777Ylv4RkiTVU+y6EbjZPYdHjUgUueTz75ZP4SLN/cMy3WEQ22ypcv055++ulZTMpAKz3fOHjuuedyHp8Ngxb+VVminBBzTj/ykU2DcpEXZSPf+my7ZYgjbz8fBi9oLRfpx/J4woNPZaAoO4A0PgnMV2j4YumUKVPSPffck0n5cD0fcqx2RCzLqBjPKehIGevTmCJtpKOOaEic29nG8oOHRgOP2PEc851wPuxIOc4xVD5OaTuM4WdZ0kw3Jj/WHeVTFuXgnO/l8R2+Bx98sPHdOcvDM7Zd3taFHPTDtGnTZN1oIzRz585NL7zwQpaHb6VDa7ANxPys03Rezw74rMuY8tKYRiwP9WffQW8ax9BaTlk6FU8a8Nk5xjfccEP+iCOKw8BUKN+Hw6AIpPFpYz6kyMcc+dyTUzToYrnYAXzPbenSpY3PIpvHt+koA8+VK1eanA2OzuabdnwFVVlI49t2fMNuy5YtmZ7vyPGtc2QBhHhxfhgan6IinzZSFzQE+FAv37eDP0E90A7aRh2fffZZ49t4lOGnLJT5/PPP04cfftjQAWm0A/Ahk8EBhu/mIRs8ACEfupQf9ZLGhy35cCZ0fJYL3RHIg4Y2AAw+bnnllVfmPM6RGR2Tj5wE0uU/e/bs/JFN0lu1H1lZIsgrM9r/Rz8hB/nLli3LOoz55HUyTHjwaWQqyY6icxhNARoGa8fxEUM+QUwnYmhHHXVUNmwMhC+o8l1tPsRIOtMiAmUJ1MWXS/naKbwxSuohnTJ82ZSvrJLHV1P9/jffA4c/54DoxhtvzGX4ICRlSOdLqwCRsnztlKkadIRbb701y8PnlpmeITv18HlkDATA8RlkeNA+vpTqxySpD1p+lGcWUA3UC19oKA8fgMgXfDjni7HIxfRdXSADaegSGZgGMtOAFx/M5JvtDBDXXntt/gLs1KlTM3/0Sj6B+mgr+uMYoBIAOnKTRx18zkvQZYKU8kCEbEO1n++r00/omHYwgGEjgBp9UA9tR3Z1U63LOsc6nvDg0xjoQH6e03F0ND8++8uXR1EqCo4djvIp9+WXX+bPB7NOhAcjIaAhkE9ZO2zevHk5nU8Lw5/1JKM4n0g2DxDT2QCc6dUpp5yS+fJpKjoawCAT4Hv66acbGzgYE/XyXXC+D66XZvqM3ATkw5iYehEwUMBKOgaPMTnNBkgAhMAUD0OERj2RzlqOMngCDJNjyhHwbshLjHc1oA8Ahz7hBRAYDNAf31k3XQBxeQFAw4t8AvUIOIEMX9Lvv//+zPf555/PvKFXZmLKQUffUDf9iJejjzinTXhZ2su329Er32fnnP5CB8jCYAoPPluNvpk9QEswzicd+Jvw4EMndEZUFB3IiIsBYVCMxtLRYXw3m8CxmxYYB/SM7gQ9KLzhR8AAARifGiYN70Jn8nVT8vCIghzQMLLCH6PkG+YACCNhlF+8eHH2snhb5MMAiMlndGYKBm+nbxgnYIOOAB1eFzkxdL8ljh6gxeiRkbooxzGelvqQ1TYRI18ENnz52CNTRepHDsoQqE8Z0AOgB1Tocv78+RnofBpZeeANGAjqi4EJPnjom2++OX+CWfBBRz84G1Bfa9asyTz4o4033XRTLo/8eH1Ailyco2fajOz0gVNmAMd32PkgJnZBHn1HGWgZLD1vVNbBg0kBPpQOSDQK9MXinakOBkQQTHQ4BkGgwzE0lE/HYJh4MwK7pV5OsCyAgoapDIERlA7ESzK1ZSR95plnch67eBgtBgeYMAg9BzIhLx9nhJ9TRKa5rH0IjNJMXTEKaAEYfDhGHoxTjwbAMH7awbqLKS4AIAAOBiICozsGBsihVW94CXggB7wBC/IS4IdHAHzqFxkIrMuoCw/IZhC6Q7/88NzQoWvAQYDHQQcdlAcdzkkX9NSPN6N++uW+++7LZfizDzmGJ3IwJf9//+//ZRrASvtZN+PtkImpOutc+uehhx7KdMjHTIOYvkQXL774Ys4DvCeeeGKeAZGgbnJmh/4mPPji3RIaBzGdioESIg0jKZ4PGoDCtJGOh54OxPOxMUInYVQGjJXAiA6oMBxi13wYFh2N4QL6v/71rzmPMozagIq68WgYFwHvB2CZZjJlYjqGPHzbm91FjB5QE/jqKUDF0AiAEV60g5GdaS1GTz7toc3IjDzuIuKFqQ9AE9QXRgo/9IVsyMmHHgnIRjspA71l1AfthycbMwCDsspIefIdUAAyenV2QZ1OO5F55syZuU4GCfQHL/KdQlsnRKTTXsDKVJFBBr1Thp8DJ94YnZLPYOamDv2F3LYbGr6rTqAe25kTOvQ34cGHXlSUu3Ck4ckY4R2lmarQUYyMjNgGjJvpE2sxOoepGQHj47oP5eRBp/CDB96O9YV5GBbgYNrJRgX8CBoMBo43Y8eRHVVGc+TV60FLXQAf2QmMzshMHfz4ACNGQ3nAADCsH3r4Uxbg6WVpH4ao96DtsYz1Ujc80YU7vvCgfnhG4GXh9rcNGRwg4AEtchMoS74elTSmewR4Uw5vhY7QJf1FQD5kZocSXrFfyYeefHVMPmnITl3IIR/Sqcf+4py2UJbaYNcFAAABz0lEQVRNIfoLnfMjaEscyydndOBvUoAPhcYQjYu8mM8xRsGPzRCu+bEFztSMUR9jUOnysbwGTV10kunQubjHm2HoMZ+6CPC1TJQXsNjp0sZ8ji0XDTHSwiPmCTbKSkccZbDOWFe17eTFdpuvPJ7DW37keWy+daAr8vipX+SW3rqUWXrLR1rSLEcc2y8fy8FPmUkD1AyWbBAZoJGH9ZvXiXjCg88ORDnxmHM7nthOih2AJ2Hhfskll+QdMbyTwbLy9DzyjbSM3EyxGEljsF7Lx3N4x04mz/o0Hs6VP8puOfnGOqWTxjx5ew5dXRr5yCJv+Xluefkra5Wf6baZcpFHpI801hdlM826iUmL6dIbC1QGVPlDTz4zAPqL2QIDlWXkG89jnWN5POHBpzJUrud2SlQiNJybB2085lyDkU+kkVYDgp/HxtBzTF78yS/WTz4h1hl5YtxRfnk4OptHmSpfZbUO8qWDj2WNkcHjmM8x5eQXZVUe5Iz1RD7QUNZ8+eCpDdKjN4+NLU9smqCP5c2L8sX2kq4M0nCuPPKXRn7W0Yl40oCvE8opPIsGOqmBAr5OarfwLhpooYECvhbKKVlFA53UQAFfJ7VbeBcNtNDA/wd8J+kLxvKtfgAAAABJRU5ErkJggg==)"
   ]
  },
  {
   "cell_type": "markdown",
   "metadata": {
    "id": "hCO97merchpG"
   },
   "source": [
    "Let's make a simple example in which we want to sum up the numbers from zero to n. For example if n = 5, our while-loop should calculate 0+1+2+3+4+5 = 15"
   ]
  },
  {
   "cell_type": "code",
   "execution_count": 50,
   "metadata": {
    "id": "KleTb79ichK5"
   },
   "outputs": [
    {
     "name": "stdout",
     "output_type": "stream",
     "text": [
      "Counter ist 0\n",
      "Counter ist 1\n",
      "Counter ist 2\n",
      "Counter ist 3\n",
      "Counter ist 4\n",
      "Counter ist 5\n",
      "15\n"
     ]
    }
   ],
   "source": [
    "# here comes the while loop\n",
    "\n",
    "\n",
    "def calculteSum(n):\n",
    "    counter = 0\n",
    "    summe = 0\n",
    "    while counter <= n:\n",
    "        print(\"Counter ist {}\".format(counter))\n",
    "        summe += counter # oder: summe = summe + counter \n",
    "\n",
    "        counter += 1\n",
    "    print(summe)\n",
    "    \n",
    "calculteSum(5)\n",
    "\n",
    "[] --> option + 5,6\n",
    "{} --> option + 8,9\n"
   ]
  },
  {
   "cell_type": "markdown",
   "metadata": {
    "id": "xXOGEIx1dGbs"
   },
   "source": [
    "## # Conditional statements\n",
    "\n",
    "Conditional statements are everywhere in programming. They allow to perform actions based on logical operations. If the logic operation yields True, then the action is executed. If not, the action is not executed. In one if statement we can check for multiple conditions.\n",
    "\n",
    "\n",
    "*   if -> first condition that is checked\n",
    "*   elif -> second (up to n-th, where n can be any whole number) condition that is checked\n",
    "*   else -> action that is executed in case no if and no elif statement evaluated to True\n",
    "\n",
    "![image.png](data:image/png;base64,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)"
   ]
  },
  {
   "cell_type": "code",
   "execution_count": 61,
   "metadata": {
    "id": "Viqpe8FIeHLV"
   },
   "outputs": [
    {
     "name": "stdout",
     "output_type": "stream",
     "text": [
      "Nummer 0 ist gerade\n",
      "Nummer 1 ist ungerade\n",
      "Nummer 2 ist gerade\n",
      "Nummer 3 ist ungerade\n",
      "Nummer 4 ist gerade\n",
      "Das ist die Zahl 5\n",
      "Nummer 6 ist gerade\n",
      "Nummer 7 ist ungerade\n",
      "Nummer 8 ist gerade\n",
      "Nummer 9 ist ungerade\n"
     ]
    }
   ],
   "source": [
    "# let's do some simple examples with if statements\n",
    "\n",
    "liste_nummern = [0,1,2,3,4,5,6,7,8,9]\n",
    "\n",
    "for nummer in liste_nummern:\n",
    "    # nummer = 0\n",
    "    # 0 == False\n",
    "    # 1 == True\n",
    "    if not nummer%2:\n",
    "        print(\"Nummer {} ist gerade\".format(nummer))\n",
    "    elif nummer == 5:\n",
    "        print(\"Das ist die Zahl 5\")\n",
    "    else:\n",
    "        print(\"Nummer {} ist ungerade\".format(nummer))\n"
   ]
  },
  {
   "cell_type": "code",
   "execution_count": 58,
   "metadata": {},
   "outputs": [
    {
     "name": "stdout",
     "output_type": "stream",
     "text": [
      "0\n"
     ]
    }
   ],
   "source": [
    "# modulo operation\n",
    "\n",
    "#nummer % 2 --> gerade: 0, ungerade: 1\n",
    "\n",
    "print(4%2)"
   ]
  },
  {
   "cell_type": "markdown",
   "metadata": {
    "id": "i9WxnMl-E1tK"
   },
   "source": [
    "## Flipper machine\n",
    "\n",
    "Putting it all together! \n",
    "Our goal is now to implement a flipper machine that the user can play with without investing any real money. \n",
    "\n",
    "When we implement an application or a \"software\" we usually define requirments in human-language that describe what the application is supposed to do. As newby-developers our job is now to translate the human language into a machine-readable language for the computer. Edit: Why is the last sentence not true? \n",
    "\n",
    "Functional requirements for our flipper machine. \n",
    "\n",
    "\n",
    "*   The user should be be able to define with how much money he wants to play in the current round\n",
    "*   The user should be able to define the goal he wants to reach (the win he wants to achieve)\n",
    "*   The flipper machine should perform a head-tail game until the user credit is zero (all money has been lost) or the user won as he reached his/her goal\n",
    "*   If the current flip is equal to tail, then the user has won and his/her credit should be increased by one\n",
    "*   If the current flip is equal to head, then the user has lost and his/her credit should be decreased by one\n",
    "*   When the game is over, the flipper-machine should inform the user about the result and how many times the machine has flipped the coin\n",
    "*   After a game is finished the user should be able to restart\n",
    "\n",
    "Let's do it!"
   ]
  },
  {
   "cell_type": "code",
   "execution_count": 96,
   "metadata": {
    "id": "nT-dBRxfghhp"
   },
   "outputs": [
    {
     "name": "stdout",
     "output_type": "stream",
     "text": [
      "What is your credit?2\n",
      "What is your goal?8\n",
      "You lost after 14 trials!\n",
      "--------------\n",
      "do you want to play again? (y/n)y\n",
      "What is your credit?8\n",
      "What is your goal?9\n",
      "You won after 1 trials!\n",
      "--------------\n",
      "do you want to play again? (y/n)y\n",
      "What is your credit?4\n",
      "What is your goal?7\n",
      "You won after 9 trials!\n",
      "--------------\n",
      "do you want to play again? (y/n)n\n",
      "Thanks for playing with us and goodbye!\n"
     ]
    }
   ],
   "source": [
    "# code of the flipper machine\n",
    "import random\n",
    "\n",
    "playgame = True\n",
    "\n",
    "while playgame == True:\n",
    "    credit = int(input(\"What is your credit?\"))\n",
    "    goal = int(input(\"What is your goal?\"))\n",
    "    trials = 0\n",
    "\n",
    "    while credit > 0 and credit < goal:\n",
    "        # play current round\n",
    "        resultat = random.randint(0,1)\n",
    "        # 1 -> win, 0 -> loss\n",
    "        if resultat == 1:\n",
    "            # game won\n",
    "            credit += 1\n",
    "        else:\n",
    "            # game lost\n",
    "            credit -= 1\n",
    "\n",
    "        trials += 1\n",
    "\n",
    "    if credit == 0:\n",
    "        print(\"You lost after {} trials!\".format(trials))\n",
    "        print(\"--------------\")\n",
    "    else:\n",
    "        print(\"You won after {} trials!\".format(trials))\n",
    "        print(\"--------------\")\n",
    "        \n",
    "    otherround = input(\"do you want to play again? (y/n)\")\n",
    "    \n",
    "    if otherround == \"y\":\n",
    "        continue\n",
    "    else:\n",
    "        break\n",
    "        \n",
    "print(\"Thanks for playing with us and goodbye!\")"
   ]
  },
  {
   "cell_type": "code",
   "execution_count": 82,
   "metadata": {},
   "outputs": [
    {
     "data": {
      "text/plain": [
       "0"
      ]
     },
     "execution_count": 82,
     "metadata": {},
     "output_type": "execute_result"
    }
   ],
   "source": [
    "import random \n",
    "random.randint(0,1)\n"
   ]
  },
  {
   "cell_type": "code",
   "execution_count": 86,
   "metadata": {},
   "outputs": [
    {
     "name": "stdout",
     "output_type": "stream",
     "text": [
      "<class 'str'>\n",
      "<class 'int'>\n"
     ]
    }
   ],
   "source": [
    "zahl = \"2\"\n",
    "print(type(zahl))\n",
    "zahl = 2\n",
    "print(type(zahl))"
   ]
  },
  {
   "cell_type": "code",
   "execution_count": null,
   "metadata": {},
   "outputs": [],
   "source": []
  }
 ],
 "metadata": {
  "colab": {
   "collapsed_sections": [],
   "name": "week1.ipynb",
   "provenance": [],
   "toc_visible": true
  },
  "kernelspec": {
   "display_name": "Python 3",
   "language": "python",
   "name": "python3"
  },
  "language_info": {
   "codemirror_mode": {
    "name": "ipython",
    "version": 3
   },
   "file_extension": ".py",
   "mimetype": "text/x-python",
   "name": "python",
   "nbconvert_exporter": "python",
   "pygments_lexer": "ipython3",
   "version": "3.8.5"
  }
 },
 "nbformat": 4,
 "nbformat_minor": 1
}
